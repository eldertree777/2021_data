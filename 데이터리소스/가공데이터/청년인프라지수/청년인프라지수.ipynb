{
  "nbformat": 4,
  "nbformat_minor": 0,
  "metadata": {
    "colab": {
      "name": "청년인프라지수.ipynb",
      "provenance": [],
      "collapsed_sections": [
        "C4yUsCzsWD8w",
        "hxUKXNkhPRNd"
      ]
    },
    "kernelspec": {
      "name": "python3",
      "display_name": "Python 3"
    },
    "language_info": {
      "name": "python"
    },
    "widgets": {
      "application/vnd.jupyter.widget-state+json": {
        "7f0325ca2e5240d1ae886aa5db3005d5": {
          "model_module": "@jupyter-widgets/controls",
          "model_name": "IntProgressModel",
          "model_module_version": "1.5.0",
          "state": {
            "_view_name": "ProgressView",
            "style": "IPY_MODEL_d370d5156f6a4992ac807f7ec788a8be",
            "_dom_classes": [],
            "description": "Processing: ",
            "_model_name": "IntProgressModel",
            "bar_style": "",
            "max": 3,
            "_view_module": "@jupyter-widgets/controls",
            "_model_module_version": "1.5.0",
            "value": 3,
            "_view_count": null,
            "_view_module_version": "1.5.0",
            "orientation": "horizontal",
            "min": 0,
            "description_tooltip": null,
            "_model_module": "@jupyter-widgets/controls",
            "layout": "IPY_MODEL_b271623b619c42b880bfaf3dca7e8acd"
          }
        },
        "d370d5156f6a4992ac807f7ec788a8be": {
          "model_module": "@jupyter-widgets/controls",
          "model_name": "ProgressStyleModel",
          "model_module_version": "1.5.0",
          "state": {
            "_view_name": "StyleView",
            "_model_name": "ProgressStyleModel",
            "description_width": "",
            "_view_module": "@jupyter-widgets/base",
            "_model_module_version": "1.5.0",
            "_view_count": null,
            "_view_module_version": "1.2.0",
            "bar_color": null,
            "_model_module": "@jupyter-widgets/controls"
          }
        },
        "b271623b619c42b880bfaf3dca7e8acd": {
          "model_module": "@jupyter-widgets/base",
          "model_name": "LayoutModel",
          "model_module_version": "1.2.0",
          "state": {
            "_view_name": "LayoutView",
            "grid_template_rows": null,
            "right": null,
            "justify_content": null,
            "_view_module": "@jupyter-widgets/base",
            "overflow": null,
            "_model_module_version": "1.2.0",
            "_view_count": null,
            "flex_flow": null,
            "width": null,
            "min_width": null,
            "border": null,
            "align_items": null,
            "bottom": null,
            "_model_module": "@jupyter-widgets/base",
            "top": null,
            "grid_column": null,
            "overflow_y": null,
            "overflow_x": null,
            "grid_auto_flow": null,
            "grid_area": null,
            "grid_template_columns": null,
            "flex": null,
            "_model_name": "LayoutModel",
            "justify_items": null,
            "grid_row": null,
            "max_height": null,
            "align_content": null,
            "visibility": null,
            "align_self": null,
            "height": null,
            "min_height": null,
            "padding": null,
            "grid_auto_rows": null,
            "grid_gap": null,
            "max_width": null,
            "order": null,
            "_view_module_version": "1.2.0",
            "grid_template_areas": null,
            "object_position": null,
            "object_fit": null,
            "grid_auto_columns": null,
            "margin": null,
            "display": null,
            "left": null
          }
        },
        "7dd1e9794e8b414daf200c4f28de0109": {
          "model_module": "@jupyter-widgets/controls",
          "model_name": "IntProgressModel",
          "model_module_version": "1.5.0",
          "state": {
            "_view_name": "ProgressView",
            "style": "IPY_MODEL_ae71cf046d0343b687bbac9f7b5a4f45",
            "_dom_classes": [],
            "description": "Processing: ",
            "_model_name": "IntProgressModel",
            "bar_style": "",
            "max": 94,
            "_view_module": "@jupyter-widgets/controls",
            "_model_module_version": "1.5.0",
            "value": 94,
            "_view_count": null,
            "_view_module_version": "1.5.0",
            "orientation": "horizontal",
            "min": 0,
            "description_tooltip": null,
            "_model_module": "@jupyter-widgets/controls",
            "layout": "IPY_MODEL_fc138b4f3f8c49e7b0079eae8ab49426"
          }
        },
        "ae71cf046d0343b687bbac9f7b5a4f45": {
          "model_module": "@jupyter-widgets/controls",
          "model_name": "ProgressStyleModel",
          "model_module_version": "1.5.0",
          "state": {
            "_view_name": "StyleView",
            "_model_name": "ProgressStyleModel",
            "description_width": "",
            "_view_module": "@jupyter-widgets/base",
            "_model_module_version": "1.5.0",
            "_view_count": null,
            "_view_module_version": "1.2.0",
            "bar_color": null,
            "_model_module": "@jupyter-widgets/controls"
          }
        },
        "fc138b4f3f8c49e7b0079eae8ab49426": {
          "model_module": "@jupyter-widgets/base",
          "model_name": "LayoutModel",
          "model_module_version": "1.2.0",
          "state": {
            "_view_name": "LayoutView",
            "grid_template_rows": null,
            "right": null,
            "justify_content": null,
            "_view_module": "@jupyter-widgets/base",
            "overflow": null,
            "_model_module_version": "1.2.0",
            "_view_count": null,
            "flex_flow": null,
            "width": null,
            "min_width": null,
            "border": null,
            "align_items": null,
            "bottom": null,
            "_model_module": "@jupyter-widgets/base",
            "top": null,
            "grid_column": null,
            "overflow_y": null,
            "overflow_x": null,
            "grid_auto_flow": null,
            "grid_area": null,
            "grid_template_columns": null,
            "flex": null,
            "_model_name": "LayoutModel",
            "justify_items": null,
            "grid_row": null,
            "max_height": null,
            "align_content": null,
            "visibility": null,
            "align_self": null,
            "height": null,
            "min_height": null,
            "padding": null,
            "grid_auto_rows": null,
            "grid_gap": null,
            "max_width": null,
            "order": null,
            "_view_module_version": "1.2.0",
            "grid_template_areas": null,
            "object_position": null,
            "object_fit": null,
            "grid_auto_columns": null,
            "margin": null,
            "display": null,
            "left": null
          }
        },
        "790a18916d984a489c14c8cd9a62e86f": {
          "model_module": "@jupyter-widgets/controls",
          "model_name": "IntProgressModel",
          "model_module_version": "1.5.0",
          "state": {
            "_view_name": "ProgressView",
            "style": "IPY_MODEL_be3c26a57a794b96b953152b5ae447a9",
            "_dom_classes": [],
            "description": "Processing: ",
            "_model_name": "IntProgressModel",
            "bar_style": "",
            "max": 7,
            "_view_module": "@jupyter-widgets/controls",
            "_model_module_version": "1.5.0",
            "value": 7,
            "_view_count": null,
            "_view_module_version": "1.5.0",
            "orientation": "horizontal",
            "min": 0,
            "description_tooltip": null,
            "_model_module": "@jupyter-widgets/controls",
            "layout": "IPY_MODEL_9a39c63e5de34424a171e4d2e44b9563"
          }
        },
        "be3c26a57a794b96b953152b5ae447a9": {
          "model_module": "@jupyter-widgets/controls",
          "model_name": "ProgressStyleModel",
          "model_module_version": "1.5.0",
          "state": {
            "_view_name": "StyleView",
            "_model_name": "ProgressStyleModel",
            "description_width": "",
            "_view_module": "@jupyter-widgets/base",
            "_model_module_version": "1.5.0",
            "_view_count": null,
            "_view_module_version": "1.2.0",
            "bar_color": null,
            "_model_module": "@jupyter-widgets/controls"
          }
        },
        "9a39c63e5de34424a171e4d2e44b9563": {
          "model_module": "@jupyter-widgets/base",
          "model_name": "LayoutModel",
          "model_module_version": "1.2.0",
          "state": {
            "_view_name": "LayoutView",
            "grid_template_rows": null,
            "right": null,
            "justify_content": null,
            "_view_module": "@jupyter-widgets/base",
            "overflow": null,
            "_model_module_version": "1.2.0",
            "_view_count": null,
            "flex_flow": null,
            "width": null,
            "min_width": null,
            "border": null,
            "align_items": null,
            "bottom": null,
            "_model_module": "@jupyter-widgets/base",
            "top": null,
            "grid_column": null,
            "overflow_y": null,
            "overflow_x": null,
            "grid_auto_flow": null,
            "grid_area": null,
            "grid_template_columns": null,
            "flex": null,
            "_model_name": "LayoutModel",
            "justify_items": null,
            "grid_row": null,
            "max_height": null,
            "align_content": null,
            "visibility": null,
            "align_self": null,
            "height": null,
            "min_height": null,
            "padding": null,
            "grid_auto_rows": null,
            "grid_gap": null,
            "max_width": null,
            "order": null,
            "_view_module_version": "1.2.0",
            "grid_template_areas": null,
            "object_position": null,
            "object_fit": null,
            "grid_auto_columns": null,
            "margin": null,
            "display": null,
            "left": null
          }
        },
        "3c3f1c364a5a42eaa193d051c617da3e": {
          "model_module": "@jupyter-widgets/controls",
          "model_name": "IntProgressModel",
          "model_module_version": "1.5.0",
          "state": {
            "_view_name": "ProgressView",
            "style": "IPY_MODEL_8c0f9ef01e0942d3a34ee2838ff7d28d",
            "_dom_classes": [],
            "description": "Processing: ",
            "_model_name": "IntProgressModel",
            "bar_style": "",
            "max": 7,
            "_view_module": "@jupyter-widgets/controls",
            "_model_module_version": "1.5.0",
            "value": 7,
            "_view_count": null,
            "_view_module_version": "1.5.0",
            "orientation": "horizontal",
            "min": 0,
            "description_tooltip": null,
            "_model_module": "@jupyter-widgets/controls",
            "layout": "IPY_MODEL_3602374419ce4777aa0078864931b2a8"
          }
        },
        "8c0f9ef01e0942d3a34ee2838ff7d28d": {
          "model_module": "@jupyter-widgets/controls",
          "model_name": "ProgressStyleModel",
          "model_module_version": "1.5.0",
          "state": {
            "_view_name": "StyleView",
            "_model_name": "ProgressStyleModel",
            "description_width": "",
            "_view_module": "@jupyter-widgets/base",
            "_model_module_version": "1.5.0",
            "_view_count": null,
            "_view_module_version": "1.2.0",
            "bar_color": null,
            "_model_module": "@jupyter-widgets/controls"
          }
        },
        "3602374419ce4777aa0078864931b2a8": {
          "model_module": "@jupyter-widgets/base",
          "model_name": "LayoutModel",
          "model_module_version": "1.2.0",
          "state": {
            "_view_name": "LayoutView",
            "grid_template_rows": null,
            "right": null,
            "justify_content": null,
            "_view_module": "@jupyter-widgets/base",
            "overflow": null,
            "_model_module_version": "1.2.0",
            "_view_count": null,
            "flex_flow": null,
            "width": null,
            "min_width": null,
            "border": null,
            "align_items": null,
            "bottom": null,
            "_model_module": "@jupyter-widgets/base",
            "top": null,
            "grid_column": null,
            "overflow_y": null,
            "overflow_x": null,
            "grid_auto_flow": null,
            "grid_area": null,
            "grid_template_columns": null,
            "flex": null,
            "_model_name": "LayoutModel",
            "justify_items": null,
            "grid_row": null,
            "max_height": null,
            "align_content": null,
            "visibility": null,
            "align_self": null,
            "height": null,
            "min_height": null,
            "padding": null,
            "grid_auto_rows": null,
            "grid_gap": null,
            "max_width": null,
            "order": null,
            "_view_module_version": "1.2.0",
            "grid_template_areas": null,
            "object_position": null,
            "object_fit": null,
            "grid_auto_columns": null,
            "margin": null,
            "display": null,
            "left": null
          }
        },
        "e19b25a1c0e04005a41570f1dc9ecd47": {
          "model_module": "@jupyter-widgets/controls",
          "model_name": "IntProgressModel",
          "model_module_version": "1.5.0",
          "state": {
            "_view_name": "ProgressView",
            "style": "IPY_MODEL_8933fbef129e40a295b335bb937d6217",
            "_dom_classes": [],
            "description": "Processing: ",
            "_model_name": "IntProgressModel",
            "bar_style": "",
            "max": 7,
            "_view_module": "@jupyter-widgets/controls",
            "_model_module_version": "1.5.0",
            "value": 7,
            "_view_count": null,
            "_view_module_version": "1.5.0",
            "orientation": "horizontal",
            "min": 0,
            "description_tooltip": null,
            "_model_module": "@jupyter-widgets/controls",
            "layout": "IPY_MODEL_3d613244df2a48ae827a65aa8b037d36"
          }
        },
        "8933fbef129e40a295b335bb937d6217": {
          "model_module": "@jupyter-widgets/controls",
          "model_name": "ProgressStyleModel",
          "model_module_version": "1.5.0",
          "state": {
            "_view_name": "StyleView",
            "_model_name": "ProgressStyleModel",
            "description_width": "",
            "_view_module": "@jupyter-widgets/base",
            "_model_module_version": "1.5.0",
            "_view_count": null,
            "_view_module_version": "1.2.0",
            "bar_color": null,
            "_model_module": "@jupyter-widgets/controls"
          }
        },
        "3d613244df2a48ae827a65aa8b037d36": {
          "model_module": "@jupyter-widgets/base",
          "model_name": "LayoutModel",
          "model_module_version": "1.2.0",
          "state": {
            "_view_name": "LayoutView",
            "grid_template_rows": null,
            "right": null,
            "justify_content": null,
            "_view_module": "@jupyter-widgets/base",
            "overflow": null,
            "_model_module_version": "1.2.0",
            "_view_count": null,
            "flex_flow": null,
            "width": null,
            "min_width": null,
            "border": null,
            "align_items": null,
            "bottom": null,
            "_model_module": "@jupyter-widgets/base",
            "top": null,
            "grid_column": null,
            "overflow_y": null,
            "overflow_x": null,
            "grid_auto_flow": null,
            "grid_area": null,
            "grid_template_columns": null,
            "flex": null,
            "_model_name": "LayoutModel",
            "justify_items": null,
            "grid_row": null,
            "max_height": null,
            "align_content": null,
            "visibility": null,
            "align_self": null,
            "height": null,
            "min_height": null,
            "padding": null,
            "grid_auto_rows": null,
            "grid_gap": null,
            "max_width": null,
            "order": null,
            "_view_module_version": "1.2.0",
            "grid_template_areas": null,
            "object_position": null,
            "object_fit": null,
            "grid_auto_columns": null,
            "margin": null,
            "display": null,
            "left": null
          }
        },
        "10711b6696b24093bb327c3cbd5db054": {
          "model_module": "@jupyter-widgets/controls",
          "model_name": "IntProgressModel",
          "model_module_version": "1.5.0",
          "state": {
            "_view_name": "ProgressView",
            "style": "IPY_MODEL_14282c2da44749b6820eb4d38ef718d9",
            "_dom_classes": [],
            "description": "Processing: ",
            "_model_name": "IntProgressModel",
            "bar_style": "",
            "max": 7,
            "_view_module": "@jupyter-widgets/controls",
            "_model_module_version": "1.5.0",
            "value": 7,
            "_view_count": null,
            "_view_module_version": "1.5.0",
            "orientation": "horizontal",
            "min": 0,
            "description_tooltip": null,
            "_model_module": "@jupyter-widgets/controls",
            "layout": "IPY_MODEL_32fa8371ca004f38bc10bff76b716e23"
          }
        },
        "14282c2da44749b6820eb4d38ef718d9": {
          "model_module": "@jupyter-widgets/controls",
          "model_name": "ProgressStyleModel",
          "model_module_version": "1.5.0",
          "state": {
            "_view_name": "StyleView",
            "_model_name": "ProgressStyleModel",
            "description_width": "",
            "_view_module": "@jupyter-widgets/base",
            "_model_module_version": "1.5.0",
            "_view_count": null,
            "_view_module_version": "1.2.0",
            "bar_color": null,
            "_model_module": "@jupyter-widgets/controls"
          }
        },
        "32fa8371ca004f38bc10bff76b716e23": {
          "model_module": "@jupyter-widgets/base",
          "model_name": "LayoutModel",
          "model_module_version": "1.2.0",
          "state": {
            "_view_name": "LayoutView",
            "grid_template_rows": null,
            "right": null,
            "justify_content": null,
            "_view_module": "@jupyter-widgets/base",
            "overflow": null,
            "_model_module_version": "1.2.0",
            "_view_count": null,
            "flex_flow": null,
            "width": null,
            "min_width": null,
            "border": null,
            "align_items": null,
            "bottom": null,
            "_model_module": "@jupyter-widgets/base",
            "top": null,
            "grid_column": null,
            "overflow_y": null,
            "overflow_x": null,
            "grid_auto_flow": null,
            "grid_area": null,
            "grid_template_columns": null,
            "flex": null,
            "_model_name": "LayoutModel",
            "justify_items": null,
            "grid_row": null,
            "max_height": null,
            "align_content": null,
            "visibility": null,
            "align_self": null,
            "height": null,
            "min_height": null,
            "padding": null,
            "grid_auto_rows": null,
            "grid_gap": null,
            "max_width": null,
            "order": null,
            "_view_module_version": "1.2.0",
            "grid_template_areas": null,
            "object_position": null,
            "object_fit": null,
            "grid_auto_columns": null,
            "margin": null,
            "display": null,
            "left": null
          }
        },
        "de9e322b627141a1b39397c955781274": {
          "model_module": "@jupyter-widgets/controls",
          "model_name": "IntProgressModel",
          "model_module_version": "1.5.0",
          "state": {
            "_view_name": "ProgressView",
            "style": "IPY_MODEL_bc72694c903042cbb68c0453e6fd2f15",
            "_dom_classes": [],
            "description": "Processing: ",
            "_model_name": "IntProgressModel",
            "bar_style": "",
            "max": 7,
            "_view_module": "@jupyter-widgets/controls",
            "_model_module_version": "1.5.0",
            "value": 7,
            "_view_count": null,
            "_view_module_version": "1.5.0",
            "orientation": "horizontal",
            "min": 0,
            "description_tooltip": null,
            "_model_module": "@jupyter-widgets/controls",
            "layout": "IPY_MODEL_f1cfca766e5d455c88f65bdc0039df31"
          }
        },
        "bc72694c903042cbb68c0453e6fd2f15": {
          "model_module": "@jupyter-widgets/controls",
          "model_name": "ProgressStyleModel",
          "model_module_version": "1.5.0",
          "state": {
            "_view_name": "StyleView",
            "_model_name": "ProgressStyleModel",
            "description_width": "",
            "_view_module": "@jupyter-widgets/base",
            "_model_module_version": "1.5.0",
            "_view_count": null,
            "_view_module_version": "1.2.0",
            "bar_color": null,
            "_model_module": "@jupyter-widgets/controls"
          }
        },
        "f1cfca766e5d455c88f65bdc0039df31": {
          "model_module": "@jupyter-widgets/base",
          "model_name": "LayoutModel",
          "model_module_version": "1.2.0",
          "state": {
            "_view_name": "LayoutView",
            "grid_template_rows": null,
            "right": null,
            "justify_content": null,
            "_view_module": "@jupyter-widgets/base",
            "overflow": null,
            "_model_module_version": "1.2.0",
            "_view_count": null,
            "flex_flow": null,
            "width": null,
            "min_width": null,
            "border": null,
            "align_items": null,
            "bottom": null,
            "_model_module": "@jupyter-widgets/base",
            "top": null,
            "grid_column": null,
            "overflow_y": null,
            "overflow_x": null,
            "grid_auto_flow": null,
            "grid_area": null,
            "grid_template_columns": null,
            "flex": null,
            "_model_name": "LayoutModel",
            "justify_items": null,
            "grid_row": null,
            "max_height": null,
            "align_content": null,
            "visibility": null,
            "align_self": null,
            "height": null,
            "min_height": null,
            "padding": null,
            "grid_auto_rows": null,
            "grid_gap": null,
            "max_width": null,
            "order": null,
            "_view_module_version": "1.2.0",
            "grid_template_areas": null,
            "object_position": null,
            "object_fit": null,
            "grid_auto_columns": null,
            "margin": null,
            "display": null,
            "left": null
          }
        },
        "cac6857ef3754f01a86c0eb8df0b73e5": {
          "model_module": "@jupyter-widgets/controls",
          "model_name": "IntProgressModel",
          "model_module_version": "1.5.0",
          "state": {
            "_view_name": "ProgressView",
            "style": "IPY_MODEL_346074083b414abc849eca9cf1a36574",
            "_dom_classes": [],
            "description": "Processing: ",
            "_model_name": "IntProgressModel",
            "bar_style": "",
            "max": 6,
            "_view_module": "@jupyter-widgets/controls",
            "_model_module_version": "1.5.0",
            "value": 6,
            "_view_count": null,
            "_view_module_version": "1.5.0",
            "orientation": "horizontal",
            "min": 0,
            "description_tooltip": null,
            "_model_module": "@jupyter-widgets/controls",
            "layout": "IPY_MODEL_f454c9d936514b5eae6ffb201e5108bd"
          }
        },
        "346074083b414abc849eca9cf1a36574": {
          "model_module": "@jupyter-widgets/controls",
          "model_name": "ProgressStyleModel",
          "model_module_version": "1.5.0",
          "state": {
            "_view_name": "StyleView",
            "_model_name": "ProgressStyleModel",
            "description_width": "",
            "_view_module": "@jupyter-widgets/base",
            "_model_module_version": "1.5.0",
            "_view_count": null,
            "_view_module_version": "1.2.0",
            "bar_color": null,
            "_model_module": "@jupyter-widgets/controls"
          }
        },
        "f454c9d936514b5eae6ffb201e5108bd": {
          "model_module": "@jupyter-widgets/base",
          "model_name": "LayoutModel",
          "model_module_version": "1.2.0",
          "state": {
            "_view_name": "LayoutView",
            "grid_template_rows": null,
            "right": null,
            "justify_content": null,
            "_view_module": "@jupyter-widgets/base",
            "overflow": null,
            "_model_module_version": "1.2.0",
            "_view_count": null,
            "flex_flow": null,
            "width": null,
            "min_width": null,
            "border": null,
            "align_items": null,
            "bottom": null,
            "_model_module": "@jupyter-widgets/base",
            "top": null,
            "grid_column": null,
            "overflow_y": null,
            "overflow_x": null,
            "grid_auto_flow": null,
            "grid_area": null,
            "grid_template_columns": null,
            "flex": null,
            "_model_name": "LayoutModel",
            "justify_items": null,
            "grid_row": null,
            "max_height": null,
            "align_content": null,
            "visibility": null,
            "align_self": null,
            "height": null,
            "min_height": null,
            "padding": null,
            "grid_auto_rows": null,
            "grid_gap": null,
            "max_width": null,
            "order": null,
            "_view_module_version": "1.2.0",
            "grid_template_areas": null,
            "object_position": null,
            "object_fit": null,
            "grid_auto_columns": null,
            "margin": null,
            "display": null,
            "left": null
          }
        },
        "40d1971bd2f14097b9be96f610947b5c": {
          "model_module": "@jupyter-widgets/controls",
          "model_name": "IntProgressModel",
          "model_module_version": "1.5.0",
          "state": {
            "_view_name": "ProgressView",
            "style": "IPY_MODEL_8d328d2e614941c9b6fa64ba2924f668",
            "_dom_classes": [],
            "description": "Processing: ",
            "_model_name": "IntProgressModel",
            "bar_style": "",
            "max": 7,
            "_view_module": "@jupyter-widgets/controls",
            "_model_module_version": "1.5.0",
            "value": 7,
            "_view_count": null,
            "_view_module_version": "1.5.0",
            "orientation": "horizontal",
            "min": 0,
            "description_tooltip": null,
            "_model_module": "@jupyter-widgets/controls",
            "layout": "IPY_MODEL_f2b9f680693e44459d2d9fe3fa98b010"
          }
        },
        "8d328d2e614941c9b6fa64ba2924f668": {
          "model_module": "@jupyter-widgets/controls",
          "model_name": "ProgressStyleModel",
          "model_module_version": "1.5.0",
          "state": {
            "_view_name": "StyleView",
            "_model_name": "ProgressStyleModel",
            "description_width": "",
            "_view_module": "@jupyter-widgets/base",
            "_model_module_version": "1.5.0",
            "_view_count": null,
            "_view_module_version": "1.2.0",
            "bar_color": null,
            "_model_module": "@jupyter-widgets/controls"
          }
        },
        "f2b9f680693e44459d2d9fe3fa98b010": {
          "model_module": "@jupyter-widgets/base",
          "model_name": "LayoutModel",
          "model_module_version": "1.2.0",
          "state": {
            "_view_name": "LayoutView",
            "grid_template_rows": null,
            "right": null,
            "justify_content": null,
            "_view_module": "@jupyter-widgets/base",
            "overflow": null,
            "_model_module_version": "1.2.0",
            "_view_count": null,
            "flex_flow": null,
            "width": null,
            "min_width": null,
            "border": null,
            "align_items": null,
            "bottom": null,
            "_model_module": "@jupyter-widgets/base",
            "top": null,
            "grid_column": null,
            "overflow_y": null,
            "overflow_x": null,
            "grid_auto_flow": null,
            "grid_area": null,
            "grid_template_columns": null,
            "flex": null,
            "_model_name": "LayoutModel",
            "justify_items": null,
            "grid_row": null,
            "max_height": null,
            "align_content": null,
            "visibility": null,
            "align_self": null,
            "height": null,
            "min_height": null,
            "padding": null,
            "grid_auto_rows": null,
            "grid_gap": null,
            "max_width": null,
            "order": null,
            "_view_module_version": "1.2.0",
            "grid_template_areas": null,
            "object_position": null,
            "object_fit": null,
            "grid_auto_columns": null,
            "margin": null,
            "display": null,
            "left": null
          }
        }
      }
    }
  },
  "cells": [
    {
      "cell_type": "code",
      "metadata": {
        "colab": {
          "base_uri": "https://localhost:8080/"
        },
        "id": "ypFN05CDyPgF",
        "outputId": "05b9424a-ad79-4cdd-e826-8f54cfe8d206"
      },
      "source": [
        "from google.colab import drive\n",
        "drive.mount('/content/drive')"
      ],
      "execution_count": 1,
      "outputs": [
        {
          "output_type": "stream",
          "text": [
            "Drive already mounted at /content/drive; to attempt to forcibly remount, call drive.mount(\"/content/drive\", force_remount=True).\n"
          ],
          "name": "stdout"
        }
      ]
    },
    {
      "cell_type": "code",
      "metadata": {
        "id": "9jWUkLWuybNw"
      },
      "source": [
        "# for \"2. Data Loading\"\n",
        "import pandas as pd\n",
        "\n",
        "# for \"3-1. Feature Generation\"\n",
        "import numpy as np\n",
        "import matplotlib.pyplot as plt\n",
        "import seaborn as sns"
      ],
      "execution_count": 2,
      "outputs": []
    },
    {
      "cell_type": "code",
      "metadata": {
        "id": "4kW2r9NvUJwl"
      },
      "source": [
        "from sklearn.preprocessing import StandardScaler"
      ],
      "execution_count": 3,
      "outputs": []
    },
    {
      "cell_type": "code",
      "metadata": {
        "id": "2cQQzbVUsmTR"
      },
      "source": [
        "from sklearn.preprocessing import MaxAbsScaler\n",
        "scaler = MaxAbsScaler()"
      ],
      "execution_count": 4,
      "outputs": []
    },
    {
      "cell_type": "code",
      "metadata": {
        "id": "dGTfG5ZqtJH5"
      },
      "source": [
        "import numpy as np"
      ],
      "execution_count": 5,
      "outputs": []
    },
    {
      "cell_type": "markdown",
      "metadata": {
        "id": "nfDhOjqvUmQy"
      },
      "source": [
        "회귀분석기반의 주요인변수들을 -1 ~ 1 MaxAbs정규화"
      ]
    },
    {
      "cell_type": "code",
      "metadata": {
        "id": "NEzmrrCHsp_m"
      },
      "source": [
        "coef = [1866.6567 , -4861.4769, 75.4095, 5.6919,  -71.2653]\n",
        "coef = np.array(coef)"
      ],
      "execution_count": 6,
      "outputs": []
    },
    {
      "cell_type": "code",
      "metadata": {
        "id": "h1fiwBABs6d8"
      },
      "source": [
        "coef = coef.reshape(5,1)"
      ],
      "execution_count": 7,
      "outputs": []
    },
    {
      "cell_type": "code",
      "metadata": {
        "colab": {
          "base_uri": "https://localhost:8080/"
        },
        "id": "bPj7Q-VbtP0p",
        "outputId": "810c4ee9-27a8-4e13-9ee4-3c1b547870d2"
      },
      "source": [
        "scaler_coef = scaler.fit_transform(coef)\n",
        "scaler_coef"
      ],
      "execution_count": 8,
      "outputs": [
        {
          "output_type": "execute_result",
          "data": {
            "text/plain": [
              "array([[ 0.38396906],\n",
              "       [-1.        ],\n",
              "       [ 0.01551164],\n",
              "       [ 0.00117082],\n",
              "       [-0.01465919]])"
            ]
          },
          "metadata": {},
          "execution_count": 8
        }
      ]
    },
    {
      "cell_type": "code",
      "metadata": {
        "colab": {
          "base_uri": "https://localhost:8080/"
        },
        "id": "pWd1BNAntUa6",
        "outputId": "25aff054-4f6b-43b9-8436-2991b6a0d040"
      },
      "source": [
        "scaler_coef.round(3)"
      ],
      "execution_count": 9,
      "outputs": [
        {
          "output_type": "execute_result",
          "data": {
            "text/plain": [
              "array([[ 0.384],\n",
              "       [-1.   ],\n",
              "       [ 0.016],\n",
              "       [ 0.001],\n",
              "       [-0.015]])"
            ]
          },
          "metadata": {},
          "execution_count": 9
        }
      ]
    },
    {
      "cell_type": "code",
      "metadata": {
        "id": "CwM8LMqut1fz"
      },
      "source": [
        "path = '/content/drive/MyDrive/데청캠 프로젝트/dataset/시군구별_인프라수_청년수.csv'\n",
        "df = pd.read_csv(path, encoding='cp949')\n",
        "df = df.drop(['Unnamed: 0'], axis=1)\n",
        "df['청년인구'] = df['청년인구'].str.replace(\",\",\"\")\n",
        "df['청년인구'] = df['청년인구'].astype('float64')"
      ],
      "execution_count": 10,
      "outputs": []
    },
    {
      "cell_type": "code",
      "metadata": {
        "id": "hp7DPiedyfvj"
      },
      "source": [
        "df = df.drop([22,0,1])"
      ],
      "execution_count": 11,
      "outputs": []
    },
    {
      "cell_type": "code",
      "metadata": {
        "colab": {
          "base_uri": "https://localhost:8080/"
        },
        "id": "9NAjXfQnywWr",
        "outputId": "bb2ec41f-df4d-4b67-fcde-05a8d1d1ab86"
      },
      "source": [
        "df.columns"
      ],
      "execution_count": 12,
      "outputs": [
        {
          "output_type": "execute_result",
          "data": {
            "text/plain": [
              "Index(['시군구', '청년인구', '병원', '사회스포츠', '대학교', '초중고', '공항', '소방서', '경찰서',\n",
              "       '소형상업시설(음식점_카페_학원_편의점)', '대형상업시설', '숙박시설', '기차역', '행정기관', '법원, 교도소',\n",
              "       '문화시설_영화/공연/미술관박물관', '버스터미널'],\n",
              "      dtype='object')"
            ]
          },
          "metadata": {},
          "execution_count": 12
        }
      ]
    },
    {
      "cell_type": "markdown",
      "metadata": {
        "id": "C4yUsCzsWD8w"
      },
      "source": [
        "## 회귀분석기반 지수구하기"
      ]
    },
    {
      "cell_type": "code",
      "metadata": {
        "id": "HcnSJuZnyh7V"
      },
      "source": [
        "df['단순지수'] = df['경찰서'] * 0.384 + df['법원, 교도소'] * -1 + df['병원'] * 0.016 + df['소형상업시설(음식점_카페_학원_편의점)'] * 0.001 + df['숙박시설'] * -0.015  \n",
        "df['단순지수'] = df['단순지수'] * 3.3"
      ],
      "execution_count": 13,
      "outputs": []
    },
    {
      "cell_type": "code",
      "metadata": {
        "colab": {
          "base_uri": "https://localhost:8080/",
          "height": 605
        },
        "id": "L9ZVNGu3zJG9",
        "outputId": "3acb5c27-dfc1-4064-b28c-ef264fba8cda"
      },
      "source": [
        "df.sort_values(by=['단순지수'], axis=0, ascending=False)"
      ],
      "execution_count": 14,
      "outputs": [
        {
          "output_type": "execute_result",
          "data": {
            "text/html": [
              "<div>\n",
              "<style scoped>\n",
              "    .dataframe tbody tr th:only-of-type {\n",
              "        vertical-align: middle;\n",
              "    }\n",
              "\n",
              "    .dataframe tbody tr th {\n",
              "        vertical-align: top;\n",
              "    }\n",
              "\n",
              "    .dataframe thead th {\n",
              "        text-align: right;\n",
              "    }\n",
              "</style>\n",
              "<table border=\"1\" class=\"dataframe\">\n",
              "  <thead>\n",
              "    <tr style=\"text-align: right;\">\n",
              "      <th></th>\n",
              "      <th>시군구</th>\n",
              "      <th>청년인구</th>\n",
              "      <th>병원</th>\n",
              "      <th>사회스포츠</th>\n",
              "      <th>대학교</th>\n",
              "      <th>초중고</th>\n",
              "      <th>공항</th>\n",
              "      <th>소방서</th>\n",
              "      <th>경찰서</th>\n",
              "      <th>소형상업시설(음식점_카페_학원_편의점)</th>\n",
              "      <th>대형상업시설</th>\n",
              "      <th>숙박시설</th>\n",
              "      <th>기차역</th>\n",
              "      <th>행정기관</th>\n",
              "      <th>법원, 교도소</th>\n",
              "      <th>문화시설_영화/공연/미술관박물관</th>\n",
              "      <th>버스터미널</th>\n",
              "      <th>단순지수</th>\n",
              "    </tr>\n",
              "  </thead>\n",
              "  <tbody>\n",
              "    <tr>\n",
              "      <th>23</th>\n",
              "      <td>서울_송파구</td>\n",
              "      <td>143645.0</td>\n",
              "      <td>1215</td>\n",
              "      <td>108.0</td>\n",
              "      <td>1</td>\n",
              "      <td>139.0</td>\n",
              "      <td>0</td>\n",
              "      <td>1</td>\n",
              "      <td>11</td>\n",
              "      <td>8807</td>\n",
              "      <td>46</td>\n",
              "      <td>52</td>\n",
              "      <td>1</td>\n",
              "      <td>29.0</td>\n",
              "      <td>2.0</td>\n",
              "      <td>37.0</td>\n",
              "      <td>0.0</td>\n",
              "      <td>97.9803</td>\n",
              "    </tr>\n",
              "    <tr>\n",
              "      <th>21</th>\n",
              "      <td>서울_서초구</td>\n",
              "      <td>81935.0</td>\n",
              "      <td>1279</td>\n",
              "      <td>172.0</td>\n",
              "      <td>1</td>\n",
              "      <td>80.0</td>\n",
              "      <td>0</td>\n",
              "      <td>1</td>\n",
              "      <td>13</td>\n",
              "      <td>8169</td>\n",
              "      <td>29</td>\n",
              "      <td>80</td>\n",
              "      <td>0</td>\n",
              "      <td>20.0</td>\n",
              "      <td>6.0</td>\n",
              "      <td>62.0</td>\n",
              "      <td>3.0</td>\n",
              "      <td>87.2025</td>\n",
              "    </tr>\n",
              "    <tr>\n",
              "      <th>15</th>\n",
              "      <td>서울_강서구</td>\n",
              "      <td>136535.0</td>\n",
              "      <td>880</td>\n",
              "      <td>143.0</td>\n",
              "      <td>1</td>\n",
              "      <td>136.0</td>\n",
              "      <td>1</td>\n",
              "      <td>1</td>\n",
              "      <td>11</td>\n",
              "      <td>7638</td>\n",
              "      <td>34</td>\n",
              "      <td>92</td>\n",
              "      <td>1</td>\n",
              "      <td>30.0</td>\n",
              "      <td>0.0</td>\n",
              "      <td>17.0</td>\n",
              "      <td>0.0</td>\n",
              "      <td>81.0546</td>\n",
              "    </tr>\n",
              "    <tr>\n",
              "      <th>53</th>\n",
              "      <td>인천_남동구</td>\n",
              "      <td>101919.0</td>\n",
              "      <td>745</td>\n",
              "      <td>111.0</td>\n",
              "      <td>0</td>\n",
              "      <td>155.0</td>\n",
              "      <td>0</td>\n",
              "      <td>2</td>\n",
              "      <td>12</td>\n",
              "      <td>7520</td>\n",
              "      <td>32</td>\n",
              "      <td>63</td>\n",
              "      <td>5</td>\n",
              "      <td>22.0</td>\n",
              "      <td>0.0</td>\n",
              "      <td>12.0</td>\n",
              "      <td>0.0</td>\n",
              "      <td>76.2399</td>\n",
              "    </tr>\n",
              "    <tr>\n",
              "      <th>47</th>\n",
              "      <td>대구_달서구</td>\n",
              "      <td>107479.0</td>\n",
              "      <td>822</td>\n",
              "      <td>180.0</td>\n",
              "      <td>3</td>\n",
              "      <td>191.0</td>\n",
              "      <td>0</td>\n",
              "      <td>1</td>\n",
              "      <td>14</td>\n",
              "      <td>8913</td>\n",
              "      <td>35</td>\n",
              "      <td>101</td>\n",
              "      <td>0</td>\n",
              "      <td>24.0</td>\n",
              "      <td>3.0</td>\n",
              "      <td>15.0</td>\n",
              "      <td>0.0</td>\n",
              "      <td>75.6558</td>\n",
              "    </tr>\n",
              "    <tr>\n",
              "      <th>...</th>\n",
              "      <td>...</td>\n",
              "      <td>...</td>\n",
              "      <td>...</td>\n",
              "      <td>...</td>\n",
              "      <td>...</td>\n",
              "      <td>...</td>\n",
              "      <td>...</td>\n",
              "      <td>...</td>\n",
              "      <td>...</td>\n",
              "      <td>...</td>\n",
              "      <td>...</td>\n",
              "      <td>...</td>\n",
              "      <td>...</td>\n",
              "      <td>...</td>\n",
              "      <td>...</td>\n",
              "      <td>...</td>\n",
              "      <td>...</td>\n",
              "      <td>...</td>\n",
              "    </tr>\n",
              "    <tr>\n",
              "      <th>26</th>\n",
              "      <td>부산_서구</td>\n",
              "      <td>18425.0</td>\n",
              "      <td>145</td>\n",
              "      <td>53.0</td>\n",
              "      <td>0</td>\n",
              "      <td>33.0</td>\n",
              "      <td>0</td>\n",
              "      <td>0</td>\n",
              "      <td>5</td>\n",
              "      <td>1663</td>\n",
              "      <td>9</td>\n",
              "      <td>68</td>\n",
              "      <td>0</td>\n",
              "      <td>15.0</td>\n",
              "      <td>0.0</td>\n",
              "      <td>8.0</td>\n",
              "      <td>0.0</td>\n",
              "      <td>16.1139</td>\n",
              "    </tr>\n",
              "    <tr>\n",
              "      <th>25</th>\n",
              "      <td>부산_중구</td>\n",
              "      <td>8049.0</td>\n",
              "      <td>140</td>\n",
              "      <td>15.0</td>\n",
              "      <td>0</td>\n",
              "      <td>14.0</td>\n",
              "      <td>0</td>\n",
              "      <td>1</td>\n",
              "      <td>6</td>\n",
              "      <td>2058</td>\n",
              "      <td>21</td>\n",
              "      <td>125</td>\n",
              "      <td>0</td>\n",
              "      <td>11.0</td>\n",
              "      <td>0.0</td>\n",
              "      <td>21.0</td>\n",
              "      <td>0.0</td>\n",
              "      <td>15.5991</td>\n",
              "    </tr>\n",
              "    <tr>\n",
              "      <th>57</th>\n",
              "      <td>인천_강화군</td>\n",
              "      <td>7579.0</td>\n",
              "      <td>87</td>\n",
              "      <td>120.0</td>\n",
              "      <td>1</td>\n",
              "      <td>56.0</td>\n",
              "      <td>0</td>\n",
              "      <td>1</td>\n",
              "      <td>14</td>\n",
              "      <td>1998</td>\n",
              "      <td>2</td>\n",
              "      <td>305</td>\n",
              "      <td>1</td>\n",
              "      <td>14.0</td>\n",
              "      <td>1.0</td>\n",
              "      <td>19.0</td>\n",
              "      <td>1.0</td>\n",
              "      <td>10.5303</td>\n",
              "    </tr>\n",
              "    <tr>\n",
              "      <th>50</th>\n",
              "      <td>인천_동구</td>\n",
              "      <td>9546.0</td>\n",
              "      <td>90</td>\n",
              "      <td>41.0</td>\n",
              "      <td>1</td>\n",
              "      <td>27.0</td>\n",
              "      <td>0</td>\n",
              "      <td>0</td>\n",
              "      <td>3</td>\n",
              "      <td>990</td>\n",
              "      <td>9</td>\n",
              "      <td>37</td>\n",
              "      <td>4</td>\n",
              "      <td>12.0</td>\n",
              "      <td>0.0</td>\n",
              "      <td>6.0</td>\n",
              "      <td>0.0</td>\n",
              "      <td>9.9891</td>\n",
              "    </tr>\n",
              "    <tr>\n",
              "      <th>58</th>\n",
              "      <td>인천_옹진군</td>\n",
              "      <td>3526.0</td>\n",
              "      <td>28</td>\n",
              "      <td>27.0</td>\n",
              "      <td>0</td>\n",
              "      <td>26.0</td>\n",
              "      <td>0</td>\n",
              "      <td>0</td>\n",
              "      <td>6</td>\n",
              "      <td>733</td>\n",
              "      <td>0</td>\n",
              "      <td>333</td>\n",
              "      <td>0</td>\n",
              "      <td>7.0</td>\n",
              "      <td>0.0</td>\n",
              "      <td>1.0</td>\n",
              "      <td>0.0</td>\n",
              "      <td>-4.9830</td>\n",
              "    </tr>\n",
              "  </tbody>\n",
              "</table>\n",
              "<p>72 rows × 18 columns</p>\n",
              "</div>"
            ],
            "text/plain": [
              "       시군구      청년인구    병원  사회스포츠  ...  법원, 교도소  문화시설_영화/공연/미술관박물관  버스터미널     단순지수\n",
              "23  서울_송파구  143645.0  1215  108.0  ...      2.0               37.0    0.0  97.9803\n",
              "21  서울_서초구   81935.0  1279  172.0  ...      6.0               62.0    3.0  87.2025\n",
              "15  서울_강서구  136535.0   880  143.0  ...      0.0               17.0    0.0  81.0546\n",
              "53  인천_남동구  101919.0   745  111.0  ...      0.0               12.0    0.0  76.2399\n",
              "47  대구_달서구  107479.0   822  180.0  ...      3.0               15.0    0.0  75.6558\n",
              "..     ...       ...   ...    ...  ...      ...                ...    ...      ...\n",
              "26   부산_서구   18425.0   145   53.0  ...      0.0                8.0    0.0  16.1139\n",
              "25   부산_중구    8049.0   140   15.0  ...      0.0               21.0    0.0  15.5991\n",
              "57  인천_강화군    7579.0    87  120.0  ...      1.0               19.0    1.0  10.5303\n",
              "50   인천_동구    9546.0    90   41.0  ...      0.0                6.0    0.0   9.9891\n",
              "58  인천_옹진군    3526.0    28   27.0  ...      0.0                1.0    0.0  -4.9830\n",
              "\n",
              "[72 rows x 18 columns]"
            ]
          },
          "metadata": {},
          "execution_count": 14
        }
      ]
    },
    {
      "cell_type": "code",
      "metadata": {
        "id": "WGkOdWSL0YEc"
      },
      "source": [
        "# !sudo apt-get install -y fonts-nanum\n",
        "# !sudo fc-cache -fv\n",
        "# !rm ~/.cache/matplotlib -rf"
      ],
      "execution_count": 15,
      "outputs": []
    },
    {
      "cell_type": "code",
      "metadata": {
        "colab": {
          "base_uri": "https://localhost:8080/",
          "height": 282
        },
        "id": "zKmO3CdN1QbK",
        "outputId": "169175a4-5938-48d3-d8a8-edab18f817f2"
      },
      "source": [
        "plt.plot(df['청년인구'], df['단순지수'], 'ro')"
      ],
      "execution_count": 16,
      "outputs": [
        {
          "output_type": "execute_result",
          "data": {
            "text/plain": [
              "[<matplotlib.lines.Line2D at 0x7f2150285b10>]"
            ]
          },
          "metadata": {},
          "execution_count": 16
        },
        {
          "output_type": "display_data",
          "data": {
            "image/png": "[encoded data removed]",
            "text/plain": [
              "<Figure size 432x288 with 1 Axes>"
            ]
          },
          "metadata": {
            "needs_background": "light"
          }
        }
      ]
    },
    {
      "cell_type": "markdown",
      "metadata": {
        "id": "7OLHjqPDda0_"
      },
      "source": [
        "인프라수만으로 구한 지수가 청년인구대비 비례하는 상관관계가 보임"
      ]
    },
    {
      "cell_type": "markdown",
      "metadata": {
        "id": "2g397fCZ27bJ"
      },
      "source": [
        "그래프 해석 : 위로 치우쳐 질수록 인프라대비 청년인구부족 and 아래로 치우쳐질수록 인프라대비 청년인구과잉"
      ]
    },
    {
      "cell_type": "markdown",
      "metadata": {
        "id": "bnGWmOtZdv6_"
      },
      "source": [
        "단순지수로 청년인구 기대치값을 구할수있다?"
      ]
    },
    {
      "cell_type": "code",
      "metadata": {
        "id": "do3T5qdQ0NyH"
      },
      "source": [
        "# 예측모델\n",
        "# 예측값 - 실제값"
      ],
      "execution_count": 17,
      "outputs": []
    },
    {
      "cell_type": "markdown",
      "metadata": {
        "id": "hxUKXNkhPRNd"
      },
      "source": [
        "## 청년인구 예측모델"
      ]
    },
    {
      "cell_type": "code",
      "metadata": {
        "colab": {
          "base_uri": "https://localhost:8080/"
        },
        "id": "2uv3ryapOVkR",
        "outputId": "a6d24765-a4e3-469b-aa3c-649e034b9a69"
      },
      "source": [
        "# !pip install catboost\n",
        "# !pip install pycaret\n",
        "# !pip install optuna # 하이퍼 파라미터"
      ],
      "execution_count": 18,
      "outputs": [
        {
          "output_type": "stream",
          "text": [
            "Requirement already satisfied: catboost in /usr/local/lib/python3.7/dist-packages (0.26.1)\n",
            "Requirement already satisfied: pandas>=0.24.0 in /usr/local/lib/python3.7/dist-packages (from catboost) (1.1.5)\n",
            "Requirement already satisfied: six in /usr/local/lib/python3.7/dist-packages (from catboost) (1.15.0)\n",
            "Requirement already satisfied: graphviz in /usr/local/lib/python3.7/dist-packages (from catboost) (0.10.1)\n",
            "Requirement already satisfied: scipy in /usr/local/lib/python3.7/dist-packages (from catboost) (1.5.4)\n",
            "Requirement already satisfied: matplotlib in /usr/local/lib/python3.7/dist-packages (from catboost) (3.2.2)\n",
            "Requirement already satisfied: plotly in /usr/local/lib/python3.7/dist-packages (from catboost) (4.4.1)\n",
            "Requirement already satisfied: numpy>=1.16.0 in /usr/local/lib/python3.7/dist-packages (from catboost) (1.19.5)\n",
            "Requirement already satisfied: python-dateutil>=2.7.3 in /usr/local/lib/python3.7/dist-packages (from pandas>=0.24.0->catboost) (2.8.2)\n",
            "Requirement already satisfied: pytz>=2017.2 in /usr/local/lib/python3.7/dist-packages (from pandas>=0.24.0->catboost) (2018.9)\n",
            "Requirement already satisfied: kiwisolver>=1.0.1 in /usr/local/lib/python3.7/dist-packages (from matplotlib->catboost) (1.3.1)\n",
            "Requirement already satisfied: cycler>=0.10 in /usr/local/lib/python3.7/dist-packages (from matplotlib->catboost) (0.10.0)\n",
            "Requirement already satisfied: pyparsing!=2.0.4,!=2.1.2,!=2.1.6,>=2.0.1 in /usr/local/lib/python3.7/dist-packages (from matplotlib->catboost) (2.4.7)\n",
            "Requirement already satisfied: retrying>=1.3.3 in /usr/local/lib/python3.7/dist-packages (from plotly->catboost) (1.3.3)\n",
            "Requirement already satisfied: pycaret in /usr/local/lib/python3.7/dist-packages (2.3.3)\n",
            "Requirement already satisfied: gensim<4.0.0 in /usr/local/lib/python3.7/dist-packages (from pycaret) (3.6.0)\n",
            "Requirement already satisfied: textblob in /usr/local/lib/python3.7/dist-packages (from pycaret) (0.15.3)\n",
            "Requirement already satisfied: nltk in /usr/local/lib/python3.7/dist-packages (from pycaret) (3.2.5)\n",
            "Requirement already satisfied: numpy==1.19.5 in /usr/local/lib/python3.7/dist-packages (from pycaret) (1.19.5)\n",
            "Requirement already satisfied: pandas-profiling>=2.8.0 in /usr/local/lib/python3.7/dist-packages (from pycaret) (3.0.0)\n",
            "Requirement already satisfied: scikit-learn==0.23.2 in /usr/local/lib/python3.7/dist-packages (from pycaret) (0.23.2)\n",
            "Requirement already satisfied: plotly>=4.4.1 in /usr/local/lib/python3.7/dist-packages (from pycaret) (4.4.1)\n",
            "Requirement already satisfied: yellowbrick>=1.0.1 in /usr/local/lib/python3.7/dist-packages (from pycaret) (1.3.post1)\n",
            "Requirement already satisfied: ipywidgets in /usr/local/lib/python3.7/dist-packages (from pycaret) (7.6.3)\n",
            "Requirement already satisfied: mlflow in /usr/local/lib/python3.7/dist-packages (from pycaret) (1.19.0)\n",
            "Requirement already satisfied: IPython in /usr/local/lib/python3.7/dist-packages (from pycaret) (5.5.0)\n",
            "Requirement already satisfied: seaborn in /usr/local/lib/python3.7/dist-packages (from pycaret) (0.11.1)\n",
            "Requirement already satisfied: spacy<2.4.0 in /usr/local/lib/python3.7/dist-packages (from pycaret) (2.2.4)\n",
            "Requirement already satisfied: pyod in /usr/local/lib/python3.7/dist-packages (from pycaret) (0.9.2)\n",
            "Requirement already satisfied: Boruta in /usr/local/lib/python3.7/dist-packages (from pycaret) (0.3)\n",
            "Requirement already satisfied: kmodes>=0.10.1 in /usr/local/lib/python3.7/dist-packages (from pycaret) (0.11.0)\n",
            "Requirement already satisfied: imbalanced-learn==0.7.0 in /usr/local/lib/python3.7/dist-packages (from pycaret) (0.7.0)\n",
            "Requirement already satisfied: cufflinks>=0.17.0 in /usr/local/lib/python3.7/dist-packages (from pycaret) (0.17.3)\n",
            "Requirement already satisfied: mlxtend>=0.17.0 in /usr/local/lib/python3.7/dist-packages (from pycaret) (0.18.0)\n",
            "Requirement already satisfied: umap-learn in /usr/local/lib/python3.7/dist-packages (from pycaret) (0.5.1)\n",
            "Requirement already satisfied: lightgbm>=2.3.1 in /usr/local/lib/python3.7/dist-packages (from pycaret) (3.2.1)\n",
            "Requirement already satisfied: joblib in /usr/local/lib/python3.7/dist-packages (from pycaret) (1.0.1)\n",
            "Requirement already satisfied: scipy<=1.5.4 in /usr/local/lib/python3.7/dist-packages (from pycaret) (1.5.4)\n",
            "Requirement already satisfied: wordcloud in /usr/local/lib/python3.7/dist-packages (from pycaret) (1.5.0)\n",
            "Requirement already satisfied: pandas in /usr/local/lib/python3.7/dist-packages (from pycaret) (1.1.5)\n",
            "Requirement already satisfied: matplotlib in /usr/local/lib/python3.7/dist-packages (from pycaret) (3.2.2)\n",
            "Requirement already satisfied: scikit-plot in /usr/local/lib/python3.7/dist-packages (from pycaret) (0.3.7)\n",
            "Requirement already satisfied: pyLDAvis in /usr/local/lib/python3.7/dist-packages (from pycaret) (3.2.2)\n",
            "Requirement already satisfied: threadpoolctl>=2.0.0 in /usr/local/lib/python3.7/dist-packages (from scikit-learn==0.23.2->pycaret) (2.2.0)\n",
            "Requirement already satisfied: colorlover>=0.2.1 in /usr/local/lib/python3.7/dist-packages (from cufflinks>=0.17.0->pycaret) (0.3.0)\n",
            "Requirement already satisfied: six>=1.9.0 in /usr/local/lib/python3.7/dist-packages (from cufflinks>=0.17.0->pycaret) (1.15.0)\n",
            "Requirement already satisfied: setuptools>=34.4.1 in /usr/local/lib/python3.7/dist-packages (from cufflinks>=0.17.0->pycaret) (57.4.0)\n",
            "Requirement already satisfied: smart-open>=1.2.1 in /usr/local/lib/python3.7/dist-packages (from gensim<4.0.0->pycaret) (5.1.0)\n",
            "Requirement already satisfied: pickleshare in /usr/local/lib/python3.7/dist-packages (from IPython->pycaret) (0.7.5)\n",
            "Requirement already satisfied: simplegeneric>0.8 in /usr/local/lib/python3.7/dist-packages (from IPython->pycaret) (0.8.1)\n",
            "Requirement already satisfied: prompt-toolkit<2.0.0,>=1.0.4 in /usr/local/lib/python3.7/dist-packages (from IPython->pycaret) (1.0.18)\n",
            "Requirement already satisfied: pygments in /usr/local/lib/python3.7/dist-packages (from IPython->pycaret) (2.6.1)\n",
            "Requirement already satisfied: traitlets>=4.2 in /usr/local/lib/python3.7/dist-packages (from IPython->pycaret) (5.0.5)\n",
            "Requirement already satisfied: decorator in /usr/local/lib/python3.7/dist-packages (from IPython->pycaret) (4.4.2)\n",
            "Requirement already satisfied: pexpect in /usr/local/lib/python3.7/dist-packages (from IPython->pycaret) (4.8.0)\n",
            "Requirement already satisfied: nbformat>=4.2.0 in /usr/local/lib/python3.7/dist-packages (from ipywidgets->pycaret) (5.1.3)\n",
            "Requirement already satisfied: widgetsnbextension~=3.5.0 in /usr/local/lib/python3.7/dist-packages (from ipywidgets->pycaret) (3.5.1)\n",
            "Requirement already satisfied: jupyterlab-widgets>=1.0.0 in /usr/local/lib/python3.7/dist-packages (from ipywidgets->pycaret) (1.0.0)\n",
            "Requirement already satisfied: ipykernel>=4.5.1 in /usr/local/lib/python3.7/dist-packages (from ipywidgets->pycaret) (4.10.1)\n",
            "Requirement already satisfied: tornado>=4.0 in /usr/local/lib/python3.7/dist-packages (from ipykernel>=4.5.1->ipywidgets->pycaret) (5.1.1)\n",
            "Requirement already satisfied: jupyter-client in /usr/local/lib/python3.7/dist-packages (from ipykernel>=4.5.1->ipywidgets->pycaret) (5.3.5)\n",
            "Requirement already satisfied: wheel in /usr/local/lib/python3.7/dist-packages (from lightgbm>=2.3.1->pycaret) (0.37.0)\n",
            "Requirement already satisfied: python-dateutil>=2.1 in /usr/local/lib/python3.7/dist-packages (from matplotlib->pycaret) (2.8.2)\n",
            "Requirement already satisfied: pyparsing!=2.0.4,!=2.1.2,!=2.1.6,>=2.0.1 in /usr/local/lib/python3.7/dist-packages (from matplotlib->pycaret) (2.4.7)\n",
            "Requirement already satisfied: cycler>=0.10 in /usr/local/lib/python3.7/dist-packages (from matplotlib->pycaret) (0.10.0)\n",
            "Requirement already satisfied: kiwisolver>=1.0.1 in /usr/local/lib/python3.7/dist-packages (from matplotlib->pycaret) (1.3.1)\n",
            "Requirement already satisfied: jsonschema!=2.5.0,>=2.4 in /usr/local/lib/python3.7/dist-packages (from nbformat>=4.2.0->ipywidgets->pycaret) (2.6.0)\n",
            "Requirement already satisfied: jupyter-core in /usr/local/lib/python3.7/dist-packages (from nbformat>=4.2.0->ipywidgets->pycaret) (4.7.1)\n",
            "Requirement already satisfied: ipython-genutils in /usr/local/lib/python3.7/dist-packages (from nbformat>=4.2.0->ipywidgets->pycaret) (0.2.0)\n",
            "Requirement already satisfied: pytz>=2017.2 in /usr/local/lib/python3.7/dist-packages (from pandas->pycaret) (2018.9)\n",
            "Requirement already satisfied: missingno>=0.4.2 in /usr/local/lib/python3.7/dist-packages (from pandas-profiling>=2.8.0->pycaret) (0.5.0)\n",
            "Requirement already satisfied: tqdm>=4.48.2 in /usr/local/lib/python3.7/dist-packages (from pandas-profiling>=2.8.0->pycaret) (4.62.0)\n",
            "Requirement already satisfied: jinja2>=2.11.1 in /usr/local/lib/python3.7/dist-packages (from pandas-profiling>=2.8.0->pycaret) (2.11.3)\n",
            "Requirement already satisfied: phik>=0.11.1 in /usr/local/lib/python3.7/dist-packages (from pandas-profiling>=2.8.0->pycaret) (0.12.0)\n",
            "Requirement already satisfied: pydantic>=1.8.1 in /usr/local/lib/python3.7/dist-packages (from pandas-profiling>=2.8.0->pycaret) (1.8.2)\n",
            "Requirement already satisfied: PyYAML>=5.0.0 in /usr/local/lib/python3.7/dist-packages (from pandas-profiling>=2.8.0->pycaret) (5.4.1)\n",
            "Requirement already satisfied: visions[type_image_path]==0.7.1 in /usr/local/lib/python3.7/dist-packages (from pandas-profiling>=2.8.0->pycaret) (0.7.1)\n",
            "Requirement already satisfied: tangled-up-in-unicode==0.1.0 in /usr/local/lib/python3.7/dist-packages (from pandas-profiling>=2.8.0->pycaret) (0.1.0)\n",
            "Requirement already satisfied: requests>=2.24.0 in /usr/local/lib/python3.7/dist-packages (from pandas-profiling>=2.8.0->pycaret) (2.26.0)\n",
            "Requirement already satisfied: htmlmin>=0.1.12 in /usr/local/lib/python3.7/dist-packages (from pandas-profiling>=2.8.0->pycaret) (0.1.12)\n",
            "Requirement already satisfied: networkx>=2.4 in /usr/local/lib/python3.7/dist-packages (from visions[type_image_path]==0.7.1->pandas-profiling>=2.8.0->pycaret) (2.6.2)\n",
            "Requirement already satisfied: multimethod==1.4 in /usr/local/lib/python3.7/dist-packages (from visions[type_image_path]==0.7.1->pandas-profiling>=2.8.0->pycaret) (1.4)\n",
            "Requirement already satisfied: bottleneck in /usr/local/lib/python3.7/dist-packages (from visions[type_image_path]==0.7.1->pandas-profiling>=2.8.0->pycaret) (1.3.2)\n",
            "Requirement already satisfied: attrs>=19.3.0 in /usr/local/lib/python3.7/dist-packages (from visions[type_image_path]==0.7.1->pandas-profiling>=2.8.0->pycaret) (21.2.0)\n",
            "Requirement already satisfied: Pillow in /usr/local/lib/python3.7/dist-packages (from visions[type_image_path]==0.7.1->pandas-profiling>=2.8.0->pycaret) (7.1.2)\n",
            "Requirement already satisfied: imagehash in /usr/local/lib/python3.7/dist-packages (from visions[type_image_path]==0.7.1->pandas-profiling>=2.8.0->pycaret) (4.2.1)\n",
            "Requirement already satisfied: MarkupSafe>=0.23 in /usr/local/lib/python3.7/dist-packages (from jinja2>=2.11.1->pandas-profiling>=2.8.0->pycaret) (2.0.1)\n",
            "Requirement already satisfied: retrying>=1.3.3 in /usr/local/lib/python3.7/dist-packages (from plotly>=4.4.1->pycaret) (1.3.3)\n",
            "Requirement already satisfied: wcwidth in /usr/local/lib/python3.7/dist-packages (from prompt-toolkit<2.0.0,>=1.0.4->IPython->pycaret) (0.2.5)\n",
            "Requirement already satisfied: typing-extensions>=3.7.4.3 in /usr/local/lib/python3.7/dist-packages (from pydantic>=1.8.1->pandas-profiling>=2.8.0->pycaret) (3.7.4.3)\n",
            "Requirement already satisfied: charset-normalizer~=2.0.0 in /usr/local/lib/python3.7/dist-packages (from requests>=2.24.0->pandas-profiling>=2.8.0->pycaret) (2.0.4)\n",
            "Requirement already satisfied: certifi>=2017.4.17 in /usr/local/lib/python3.7/dist-packages (from requests>=2.24.0->pandas-profiling>=2.8.0->pycaret) (2021.5.30)\n",
            "Requirement already satisfied: idna<4,>=2.5 in /usr/local/lib/python3.7/dist-packages (from requests>=2.24.0->pandas-profiling>=2.8.0->pycaret) (2.10)\n",
            "Requirement already satisfied: urllib3<1.27,>=1.21.1 in /usr/local/lib/python3.7/dist-packages (from requests>=2.24.0->pandas-profiling>=2.8.0->pycaret) (1.24.3)\n",
            "Requirement already satisfied: wasabi<1.1.0,>=0.4.0 in /usr/local/lib/python3.7/dist-packages (from spacy<2.4.0->pycaret) (0.8.2)\n",
            "Requirement already satisfied: plac<1.2.0,>=0.9.6 in /usr/local/lib/python3.7/dist-packages (from spacy<2.4.0->pycaret) (1.1.3)\n",
            "Requirement already satisfied: cymem<2.1.0,>=2.0.2 in /usr/local/lib/python3.7/dist-packages (from spacy<2.4.0->pycaret) (2.0.5)\n",
            "Requirement already satisfied: catalogue<1.1.0,>=0.0.7 in /usr/local/lib/python3.7/dist-packages (from spacy<2.4.0->pycaret) (1.0.0)\n",
            "Requirement already satisfied: thinc==7.4.0 in /usr/local/lib/python3.7/dist-packages (from spacy<2.4.0->pycaret) (7.4.0)\n",
            "Requirement already satisfied: murmurhash<1.1.0,>=0.28.0 in /usr/local/lib/python3.7/dist-packages (from spacy<2.4.0->pycaret) (1.0.5)\n",
            "Requirement already satisfied: blis<0.5.0,>=0.4.0 in /usr/local/lib/python3.7/dist-packages (from spacy<2.4.0->pycaret) (0.4.1)\n",
            "Requirement already satisfied: srsly<1.1.0,>=1.0.2 in /usr/local/lib/python3.7/dist-packages (from spacy<2.4.0->pycaret) (1.0.5)\n",
            "Requirement already satisfied: preshed<3.1.0,>=3.0.2 in /usr/local/lib/python3.7/dist-packages (from spacy<2.4.0->pycaret) (3.0.5)\n",
            "Requirement already satisfied: importlib-metadata>=0.20 in /usr/local/lib/python3.7/dist-packages (from catalogue<1.1.0,>=0.0.7->spacy<2.4.0->pycaret) (4.6.4)\n",
            "Requirement already satisfied: zipp>=0.5 in /usr/local/lib/python3.7/dist-packages (from importlib-metadata>=0.20->catalogue<1.1.0,>=0.0.7->spacy<2.4.0->pycaret) (3.5.0)\n",
            "Requirement already satisfied: notebook>=4.4.1 in /usr/local/lib/python3.7/dist-packages (from widgetsnbextension~=3.5.0->ipywidgets->pycaret) (5.3.1)\n",
            "Requirement already satisfied: Send2Trash in /usr/local/lib/python3.7/dist-packages (from notebook>=4.4.1->widgetsnbextension~=3.5.0->ipywidgets->pycaret) (1.8.0)\n",
            "Requirement already satisfied: nbconvert in /usr/local/lib/python3.7/dist-packages (from notebook>=4.4.1->widgetsnbextension~=3.5.0->ipywidgets->pycaret) (5.6.1)\n",
            "Requirement already satisfied: terminado>=0.8.1 in /usr/local/lib/python3.7/dist-packages (from notebook>=4.4.1->widgetsnbextension~=3.5.0->ipywidgets->pycaret) (0.11.0)\n",
            "Requirement already satisfied: pyzmq>=13 in /usr/local/lib/python3.7/dist-packages (from jupyter-client->ipykernel>=4.5.1->ipywidgets->pycaret) (22.2.1)\n",
            "Requirement already satisfied: ptyprocess in /usr/local/lib/python3.7/dist-packages (from terminado>=0.8.1->notebook>=4.4.1->widgetsnbextension~=3.5.0->ipywidgets->pycaret) (0.7.0)\n",
            "Requirement already satisfied: PyWavelets in /usr/local/lib/python3.7/dist-packages (from imagehash->visions[type_image_path]==0.7.1->pandas-profiling>=2.8.0->pycaret) (1.1.1)\n",
            "Requirement already satisfied: alembic<=1.4.1 in /usr/local/lib/python3.7/dist-packages (from mlflow->pycaret) (1.4.1)\n",
            "Requirement already satisfied: querystring-parser in /usr/local/lib/python3.7/dist-packages (from mlflow->pycaret) (1.2.4)\n",
            "Requirement already satisfied: Flask in /usr/local/lib/python3.7/dist-packages (from mlflow->pycaret) (1.1.4)\n",
            "Requirement already satisfied: gitpython>=2.1.0 in /usr/local/lib/python3.7/dist-packages (from mlflow->pycaret) (3.1.18)\n",
            "Requirement already satisfied: gunicorn in /usr/local/lib/python3.7/dist-packages (from mlflow->pycaret) (20.1.0)\n",
            "Requirement already satisfied: entrypoints in /usr/local/lib/python3.7/dist-packages (from mlflow->pycaret) (0.3)\n",
            "Requirement already satisfied: packaging in /usr/local/lib/python3.7/dist-packages (from mlflow->pycaret) (21.0)\n",
            "Requirement already satisfied: docker>=4.0.0 in /usr/local/lib/python3.7/dist-packages (from mlflow->pycaret) (5.0.0)\n",
            "Requirement already satisfied: sqlalchemy in /usr/local/lib/python3.7/dist-packages (from mlflow->pycaret) (1.4.22)\n",
            "Requirement already satisfied: protobuf>=3.7.0 in /usr/local/lib/python3.7/dist-packages (from mlflow->pycaret) (3.17.3)\n",
            "Requirement already satisfied: databricks-cli>=0.8.7 in /usr/local/lib/python3.7/dist-packages (from mlflow->pycaret) (0.15.0)\n",
            "Requirement already satisfied: prometheus-flask-exporter in /usr/local/lib/python3.7/dist-packages (from mlflow->pycaret) (0.18.2)\n",
            "Requirement already satisfied: sqlparse>=0.3.1 in /usr/local/lib/python3.7/dist-packages (from mlflow->pycaret) (0.4.1)\n",
            "Requirement already satisfied: cloudpickle in /usr/local/lib/python3.7/dist-packages (from mlflow->pycaret) (1.3.0)\n",
            "Requirement already satisfied: click>=7.0 in /usr/local/lib/python3.7/dist-packages (from mlflow->pycaret) (7.1.2)\n",
            "Requirement already satisfied: Mako in /usr/local/lib/python3.7/dist-packages (from alembic<=1.4.1->mlflow->pycaret) (1.1.5)\n",
            "Requirement already satisfied: python-editor>=0.3 in /usr/local/lib/python3.7/dist-packages (from alembic<=1.4.1->mlflow->pycaret) (1.0.4)\n",
            "Requirement already satisfied: tabulate>=0.7.7 in /usr/local/lib/python3.7/dist-packages (from databricks-cli>=0.8.7->mlflow->pycaret) (0.8.9)\n",
            "Requirement already satisfied: websocket-client>=0.32.0 in /usr/local/lib/python3.7/dist-packages (from docker>=4.0.0->mlflow->pycaret) (1.2.1)\n",
            "Requirement already satisfied: gitdb<5,>=4.0.1 in /usr/local/lib/python3.7/dist-packages (from gitpython>=2.1.0->mlflow->pycaret) (4.0.7)\n",
            "Requirement already satisfied: smmap<5,>=3.0.1 in /usr/local/lib/python3.7/dist-packages (from gitdb<5,>=4.0.1->gitpython>=2.1.0->mlflow->pycaret) (4.0.0)\n",
            "Requirement already satisfied: greenlet!=0.4.17 in /usr/local/lib/python3.7/dist-packages (from sqlalchemy->mlflow->pycaret) (1.1.1)\n",
            "Requirement already satisfied: itsdangerous<2.0,>=0.24 in /usr/local/lib/python3.7/dist-packages (from Flask->mlflow->pycaret) (1.1.0)\n",
            "Requirement already satisfied: Werkzeug<2.0,>=0.15 in /usr/local/lib/python3.7/dist-packages (from Flask->mlflow->pycaret) (1.0.1)\n",
            "Requirement already satisfied: mistune<2,>=0.8.1 in /usr/local/lib/python3.7/dist-packages (from nbconvert->notebook>=4.4.1->widgetsnbextension~=3.5.0->ipywidgets->pycaret) (0.8.4)\n",
            "Requirement already satisfied: bleach in /usr/local/lib/python3.7/dist-packages (from nbconvert->notebook>=4.4.1->widgetsnbextension~=3.5.0->ipywidgets->pycaret) (4.0.0)\n",
            "Requirement already satisfied: pandocfilters>=1.4.1 in /usr/local/lib/python3.7/dist-packages (from nbconvert->notebook>=4.4.1->widgetsnbextension~=3.5.0->ipywidgets->pycaret) (1.4.3)\n",
            "Requirement already satisfied: defusedxml in /usr/local/lib/python3.7/dist-packages (from nbconvert->notebook>=4.4.1->widgetsnbextension~=3.5.0->ipywidgets->pycaret) (0.7.1)\n",
            "Requirement already satisfied: testpath in /usr/local/lib/python3.7/dist-packages (from nbconvert->notebook>=4.4.1->widgetsnbextension~=3.5.0->ipywidgets->pycaret) (0.5.0)\n",
            "Requirement already satisfied: webencodings in /usr/local/lib/python3.7/dist-packages (from bleach->nbconvert->notebook>=4.4.1->widgetsnbextension~=3.5.0->ipywidgets->pycaret) (0.5.1)\n",
            "Requirement already satisfied: prometheus-client in /usr/local/lib/python3.7/dist-packages (from prometheus-flask-exporter->mlflow->pycaret) (0.11.0)\n",
            "Requirement already satisfied: future in /usr/local/lib/python3.7/dist-packages (from pyLDAvis->pycaret) (0.16.0)\n",
            "Requirement already satisfied: numexpr in /usr/local/lib/python3.7/dist-packages (from pyLDAvis->pycaret) (2.7.3)\n",
            "Requirement already satisfied: funcy in /usr/local/lib/python3.7/dist-packages (from pyLDAvis->pycaret) (1.16)\n",
            "Requirement already satisfied: statsmodels in /usr/local/lib/python3.7/dist-packages (from pyod->pycaret) (0.10.2)\n",
            "Requirement already satisfied: numba>=0.35 in /usr/local/lib/python3.7/dist-packages (from pyod->pycaret) (0.51.2)\n",
            "Requirement already satisfied: llvmlite<0.35,>=0.34.0.dev0 in /usr/local/lib/python3.7/dist-packages (from numba>=0.35->pyod->pycaret) (0.34.0)\n",
            "Requirement already satisfied: patsy>=0.4.0 in /usr/local/lib/python3.7/dist-packages (from statsmodels->pyod->pycaret) (0.5.1)\n",
            "Requirement already satisfied: pynndescent>=0.5 in /usr/local/lib/python3.7/dist-packages (from umap-learn->pycaret) (0.5.4)\n",
            "Requirement already satisfied: optuna in /usr/local/lib/python3.7/dist-packages (2.9.1)\n",
            "Requirement already satisfied: colorlog in /usr/local/lib/python3.7/dist-packages (from optuna) (5.0.1)\n",
            "Requirement already satisfied: packaging>=20.0 in /usr/local/lib/python3.7/dist-packages (from optuna) (21.0)\n",
            "Requirement already satisfied: scipy!=1.4.0 in /usr/local/lib/python3.7/dist-packages (from optuna) (1.5.4)\n",
            "Requirement already satisfied: sqlalchemy>=1.1.0 in /usr/local/lib/python3.7/dist-packages (from optuna) (1.4.22)\n",
            "Requirement already satisfied: alembic in /usr/local/lib/python3.7/dist-packages (from optuna) (1.4.1)\n",
            "Requirement already satisfied: cliff in /usr/local/lib/python3.7/dist-packages (from optuna) (3.8.0)\n",
            "Requirement already satisfied: cmaes>=0.8.2 in /usr/local/lib/python3.7/dist-packages (from optuna) (0.8.2)\n",
            "Requirement already satisfied: numpy in /usr/local/lib/python3.7/dist-packages (from optuna) (1.19.5)\n",
            "Requirement already satisfied: tqdm in /usr/local/lib/python3.7/dist-packages (from optuna) (4.62.0)\n",
            "Requirement already satisfied: PyYAML in /usr/local/lib/python3.7/dist-packages (from optuna) (5.4.1)\n",
            "Requirement already satisfied: pyparsing>=2.0.2 in /usr/local/lib/python3.7/dist-packages (from packaging>=20.0->optuna) (2.4.7)\n",
            "Requirement already satisfied: importlib-metadata in /usr/local/lib/python3.7/dist-packages (from sqlalchemy>=1.1.0->optuna) (4.6.4)\n",
            "Requirement already satisfied: greenlet!=0.4.17 in /usr/local/lib/python3.7/dist-packages (from sqlalchemy>=1.1.0->optuna) (1.1.1)\n",
            "Requirement already satisfied: python-editor>=0.3 in /usr/local/lib/python3.7/dist-packages (from alembic->optuna) (1.0.4)\n",
            "Requirement already satisfied: Mako in /usr/local/lib/python3.7/dist-packages (from alembic->optuna) (1.1.5)\n",
            "Requirement already satisfied: python-dateutil in /usr/local/lib/python3.7/dist-packages (from alembic->optuna) (2.8.2)\n",
            "Requirement already satisfied: cmd2>=1.0.0 in /usr/local/lib/python3.7/dist-packages (from cliff->optuna) (2.1.2)\n",
            "Requirement already satisfied: stevedore>=2.0.1 in /usr/local/lib/python3.7/dist-packages (from cliff->optuna) (3.4.0)\n",
            "Requirement already satisfied: PrettyTable>=0.7.2 in /usr/local/lib/python3.7/dist-packages (from cliff->optuna) (2.1.0)\n",
            "Requirement already satisfied: pbr!=2.1.0,>=2.0.0 in /usr/local/lib/python3.7/dist-packages (from cliff->optuna) (5.6.0)\n",
            "Requirement already satisfied: colorama>=0.3.7 in /usr/local/lib/python3.7/dist-packages (from cmd2>=1.0.0->cliff->optuna) (0.4.4)\n",
            "Requirement already satisfied: pyperclip>=1.6 in /usr/local/lib/python3.7/dist-packages (from cmd2>=1.0.0->cliff->optuna) (1.8.2)\n",
            "Requirement already satisfied: wcwidth>=0.1.7 in /usr/local/lib/python3.7/dist-packages (from cmd2>=1.0.0->cliff->optuna) (0.2.5)\n",
            "Requirement already satisfied: attrs>=16.3.0 in /usr/local/lib/python3.7/dist-packages (from cmd2>=1.0.0->cliff->optuna) (21.2.0)\n",
            "Requirement already satisfied: typing-extensions in /usr/local/lib/python3.7/dist-packages (from cmd2>=1.0.0->cliff->optuna) (3.7.4.3)\n",
            "Requirement already satisfied: zipp>=0.5 in /usr/local/lib/python3.7/dist-packages (from importlib-metadata->sqlalchemy>=1.1.0->optuna) (3.5.0)\n",
            "Requirement already satisfied: MarkupSafe>=0.9.2 in /usr/local/lib/python3.7/dist-packages (from Mako->alembic->optuna) (2.0.1)\n",
            "Requirement already satisfied: six>=1.5 in /usr/local/lib/python3.7/dist-packages (from python-dateutil->alembic->optuna) (1.15.0)\n"
          ],
          "name": "stdout"
        }
      ]
    },
    {
      "cell_type": "code",
      "metadata": {
        "id": "lkVKX22IOZvn"
      },
      "source": [
        "from sklearn.preprocessing import StandardScaler\n",
        "\n",
        "# for \"4. Modeling with Pycaret\"\n",
        "from pycaret.regression import *\n",
        "\n",
        "# for \"5. Modeling with CatBoostRegressor\"\n",
        "from catboost import CatBoostRegressor\n",
        "import optuna\n",
        "from optuna import Trial\n",
        "from optuna.samplers import TPESampler\n",
        "from sklearn.metrics import mean_absolute_error"
      ],
      "execution_count": 19,
      "outputs": []
    },
    {
      "cell_type": "code",
      "metadata": {
        "id": "j72YODIxOsq4"
      },
      "source": [
        "path = '/content/drive/MyDrive/데청캠 프로젝트/dataset/시군구별_인프라수_청년수.csv'\n",
        "df = pd.read_csv(path, encoding='cp949')\n",
        "df = df.drop(['Unnamed: 0'], axis=1)\n",
        "df['청년인구'] = df['청년인구'].str.replace(\",\",\"\")\n",
        "df['청년인구'] = df['청년인구'].astype('float64')\n",
        "df = df.drop([22,0,1])"
      ],
      "execution_count": 20,
      "outputs": []
    },
    {
      "cell_type": "code",
      "metadata": {
        "id": "ft_HnX8pOeZg"
      },
      "source": [
        "items = df.columns\n",
        "need_list = ['병원', '법원, 교도소', '경찰서', '소형상업시설(음식점_카페_학원_편의점)',  '숙박시설']\n",
        "need_list2 = ['병원',\t'법원교도소',\t'경찰서',\t'소형상업시설' ,'숙박시설']\n",
        "del_list = items.drop(need_list)"
      ],
      "execution_count": 21,
      "outputs": []
    },
    {
      "cell_type": "code",
      "metadata": {
        "id": "Hwl9fJsmPMsu"
      },
      "source": [
        "X = df[need_list]\n",
        "y = df['청년인구']\n",
        "df_data = pd.concat([y,X] , axis=1)\n"
      ],
      "execution_count": 22,
      "outputs": []
    },
    {
      "cell_type": "code",
      "metadata": {
        "id": "4oLunWjsPrrn"
      },
      "source": [
        "df_data = df_data.astype('float64')"
      ],
      "execution_count": 23,
      "outputs": []
    },
    {
      "cell_type": "code",
      "metadata": {
        "id": "tOEEvYZ3QRIb"
      },
      "source": [
        "std_scaler = StandardScaler()"
      ],
      "execution_count": 24,
      "outputs": []
    },
    {
      "cell_type": "code",
      "metadata": {
        "id": "PPDAU55dPZWf"
      },
      "source": [
        "df_data.loc[:,need_list] = std_scaler.fit_transform(df_data[need_list])\n",
        "df_data.columns = ['청년인구',\t'병원',\t'법원교도소',\t'경찰서',\t'소형상업시설' ,'숙박시설']\n",
        "X = df_data[need_list2]\n",
        "y = df_data['청년인구']"
      ],
      "execution_count": 25,
      "outputs": []
    },
    {
      "cell_type": "code",
      "metadata": {
        "colab": {
          "base_uri": "https://localhost:8080/",
          "height": 637,
          "referenced_widgets": [
            "7f0325ca2e5240d1ae886aa5db3005d5",
            "d370d5156f6a4992ac807f7ec788a8be",
            "b271623b619c42b880bfaf3dca7e8acd"
          ]
        },
        "id": "zaRDGnm4PnRE",
        "outputId": "df93b753-34c0-4135-dc60-e54ce3cd53a4"
      },
      "source": [
        "reg = setup(df_data, \n",
        "            preprocess = False, # True로 설정되면, 자체적인 Feature Engineering을 추가로 진행해 Predict가 불가능해진다.\n",
        "            train_size = 0.999,  # 우리는 전체 데이터를 학습해 test를 예측하는게 목표이기 때문에, 0.999로 설정한다.\n",
        "            target = '청년인구', \n",
        "            silent = True, # 엔터를 누르기 귀찮다. 궁금하면 풀어보세요\n",
        "            use_gpu = False, # GPU가 있으면 사용하세요 (Cat BOost 속도 향상)\n",
        "            numeric_features=list(df_data.drop(columns = ['청년인구']).columns), # 모든 변수가 숫자로써의 의미가 있다.\n",
        "            session_id = 2021,\n",
        "            fold_shuffle = True\n",
        "            )"
      ],
      "execution_count": 26,
      "outputs": [
        {
          "output_type": "display_data",
          "data": {
            "text/html": [
              "<div>\n",
              "<style scoped>\n",
              "    .dataframe tbody tr th:only-of-type {\n",
              "        vertical-align: middle;\n",
              "    }\n",
              "\n",
              "    .dataframe tbody tr th {\n",
              "        vertical-align: top;\n",
              "    }\n",
              "\n",
              "    .dataframe thead th {\n",
              "        text-align: right;\n",
              "    }\n",
              "</style>\n",
              "<table border=\"1\" class=\"dataframe\">\n",
              "  <thead>\n",
              "    <tr style=\"text-align: right;\">\n",
              "      <th></th>\n",
              "      <th>Description</th>\n",
              "      <th>Value</th>\n",
              "    </tr>\n",
              "  </thead>\n",
              "  <tbody>\n",
              "    <tr>\n",
              "      <th>0</th>\n",
              "      <td>session_id</td>\n",
              "      <td>2021</td>\n",
              "    </tr>\n",
              "    <tr>\n",
              "      <th>1</th>\n",
              "      <td>Target</td>\n",
              "      <td>청년인구</td>\n",
              "    </tr>\n",
              "    <tr>\n",
              "      <th>2</th>\n",
              "      <td>Original Data</td>\n",
              "      <td>(72, 6)</td>\n",
              "    </tr>\n",
              "    <tr>\n",
              "      <th>3</th>\n",
              "      <td>Missing Values</td>\n",
              "      <td>False</td>\n",
              "    </tr>\n",
              "    <tr>\n",
              "      <th>4</th>\n",
              "      <td>Numeric Features</td>\n",
              "      <td>5</td>\n",
              "    </tr>\n",
              "    <tr>\n",
              "      <th>5</th>\n",
              "      <td>Categorical Features</td>\n",
              "      <td>0</td>\n",
              "    </tr>\n",
              "    <tr>\n",
              "      <th>6</th>\n",
              "      <td>Transformed Train Set</td>\n",
              "      <td>(71, 5)</td>\n",
              "    </tr>\n",
              "    <tr>\n",
              "      <th>7</th>\n",
              "      <td>Transformed Test Set</td>\n",
              "      <td>(1, 5)</td>\n",
              "    </tr>\n",
              "    <tr>\n",
              "      <th>8</th>\n",
              "      <td>Shuffle Train-Test</td>\n",
              "      <td>True</td>\n",
              "    </tr>\n",
              "    <tr>\n",
              "      <th>9</th>\n",
              "      <td>Stratify Train-Test</td>\n",
              "      <td>False</td>\n",
              "    </tr>\n",
              "    <tr>\n",
              "      <th>10</th>\n",
              "      <td>Fold Generator</td>\n",
              "      <td>KFold</td>\n",
              "    </tr>\n",
              "    <tr>\n",
              "      <th>11</th>\n",
              "      <td>Fold Number</td>\n",
              "      <td>10</td>\n",
              "    </tr>\n",
              "    <tr>\n",
              "      <th>12</th>\n",
              "      <td>CPU Jobs</td>\n",
              "      <td>-1</td>\n",
              "    </tr>\n",
              "    <tr>\n",
              "      <th>13</th>\n",
              "      <td>Use GPU</td>\n",
              "      <td>False</td>\n",
              "    </tr>\n",
              "    <tr>\n",
              "      <th>14</th>\n",
              "      <td>Log Experiment</td>\n",
              "      <td>False</td>\n",
              "    </tr>\n",
              "    <tr>\n",
              "      <th>15</th>\n",
              "      <td>Experiment Name</td>\n",
              "      <td>reg-default-name</td>\n",
              "    </tr>\n",
              "    <tr>\n",
              "      <th>16</th>\n",
              "      <td>USI</td>\n",
              "      <td>9b25</td>\n",
              "    </tr>\n",
              "    <tr>\n",
              "      <th>17</th>\n",
              "      <td>Transform Target</td>\n",
              "      <td>False</td>\n",
              "    </tr>\n",
              "    <tr>\n",
              "      <th>18</th>\n",
              "      <td>Transform Target Method</td>\n",
              "      <td>box-cox</td>\n",
              "    </tr>\n",
              "  </tbody>\n",
              "</table>\n",
              "</div>"
            ],
            "text/plain": [
              "                Description             Value\n",
              "0                session_id              2021\n",
              "1                    Target              청년인구\n",
              "2             Original Data           (72, 6)\n",
              "3            Missing Values             False\n",
              "4          Numeric Features                 5\n",
              "5      Categorical Features                 0\n",
              "6     Transformed Train Set           (71, 5)\n",
              "7      Transformed Test Set            (1, 5)\n",
              "8        Shuffle Train-Test              True\n",
              "9       Stratify Train-Test             False\n",
              "10           Fold Generator             KFold\n",
              "11              Fold Number                10\n",
              "12                 CPU Jobs                -1\n",
              "13                  Use GPU             False\n",
              "14           Log Experiment             False\n",
              "15          Experiment Name  reg-default-name\n",
              "16                      USI              9b25\n",
              "17         Transform Target             False\n",
              "18  Transform Target Method           box-cox"
            ]
          },
          "metadata": {}
        }
      ]
    },
    {
      "cell_type": "code",
      "metadata": {
        "colab": {
          "base_uri": "https://localhost:8080/",
          "height": 606,
          "referenced_widgets": [
            "7dd1e9794e8b414daf200c4f28de0109",
            "ae71cf046d0343b687bbac9f7b5a4f45",
            "fc138b4f3f8c49e7b0079eae8ab49426"
          ]
        },
        "id": "_D6aObyuQcnK",
        "outputId": "fa380301-4462-4ee6-b01f-99e829cba37c"
      },
      "source": [
        "top5 = compare_models(n_select = 5, sort = 'MAE')"
      ],
      "execution_count": 27,
      "outputs": [
        {
          "output_type": "display_data",
          "data": {
            "text/html": [
              "<div>\n",
              "<style scoped>\n",
              "    .dataframe tbody tr th:only-of-type {\n",
              "        vertical-align: middle;\n",
              "    }\n",
              "\n",
              "    .dataframe tbody tr th {\n",
              "        vertical-align: top;\n",
              "    }\n",
              "\n",
              "    .dataframe thead th {\n",
              "        text-align: right;\n",
              "    }\n",
              "</style>\n",
              "<table border=\"1\" class=\"dataframe\">\n",
              "  <thead>\n",
              "    <tr style=\"text-align: right;\">\n",
              "      <th></th>\n",
              "      <th>Model</th>\n",
              "      <th>MAE</th>\n",
              "      <th>MSE</th>\n",
              "      <th>RMSE</th>\n",
              "      <th>R2</th>\n",
              "      <th>RMSLE</th>\n",
              "      <th>MAPE</th>\n",
              "      <th>TT (Sec)</th>\n",
              "    </tr>\n",
              "  </thead>\n",
              "  <tbody>\n",
              "    <tr>\n",
              "      <th>huber</th>\n",
              "      <td>Huber Regressor</td>\n",
              "      <td>10601.2662</td>\n",
              "      <td>2.300105e+08</td>\n",
              "      <td>14023.9841</td>\n",
              "      <td>0.6959</td>\n",
              "      <td>0.3061</td>\n",
              "      <td>0.3236</td>\n",
              "      <td>0.021</td>\n",
              "    </tr>\n",
              "    <tr>\n",
              "      <th>ridge</th>\n",
              "      <td>Ridge Regression</td>\n",
              "      <td>10920.0777</td>\n",
              "      <td>2.299411e+08</td>\n",
              "      <td>14143.7012</td>\n",
              "      <td>0.6987</td>\n",
              "      <td>0.3105</td>\n",
              "      <td>0.3363</td>\n",
              "      <td>0.014</td>\n",
              "    </tr>\n",
              "    <tr>\n",
              "      <th>br</th>\n",
              "      <td>Bayesian Ridge</td>\n",
              "      <td>10934.1748</td>\n",
              "      <td>2.293762e+08</td>\n",
              "      <td>14121.6012</td>\n",
              "      <td>0.7003</td>\n",
              "      <td>0.3120</td>\n",
              "      <td>0.3374</td>\n",
              "      <td>0.016</td>\n",
              "    </tr>\n",
              "    <tr>\n",
              "      <th>llar</th>\n",
              "      <td>Lasso Least Angle Regression</td>\n",
              "      <td>10937.7391</td>\n",
              "      <td>2.317172e+08</td>\n",
              "      <td>14204.5013</td>\n",
              "      <td>0.6953</td>\n",
              "      <td>0.3107</td>\n",
              "      <td>0.3394</td>\n",
              "      <td>0.015</td>\n",
              "    </tr>\n",
              "    <tr>\n",
              "      <th>lasso</th>\n",
              "      <td>Lasso Regression</td>\n",
              "      <td>10937.9458</td>\n",
              "      <td>2.317040e+08</td>\n",
              "      <td>14204.4460</td>\n",
              "      <td>0.6954</td>\n",
              "      <td>0.3107</td>\n",
              "      <td>0.3396</td>\n",
              "      <td>0.015</td>\n",
              "    </tr>\n",
              "    <tr>\n",
              "      <th>lr</th>\n",
              "      <td>Linear Regression</td>\n",
              "      <td>10937.9733</td>\n",
              "      <td>2.317011e+08</td>\n",
              "      <td>14204.3827</td>\n",
              "      <td>0.6954</td>\n",
              "      <td>0.3107</td>\n",
              "      <td>0.3396</td>\n",
              "      <td>0.336</td>\n",
              "    </tr>\n",
              "    <tr>\n",
              "      <th>lar</th>\n",
              "      <td>Least Angle Regression</td>\n",
              "      <td>10937.9752</td>\n",
              "      <td>2.317011e+08</td>\n",
              "      <td>14204.3837</td>\n",
              "      <td>0.6954</td>\n",
              "      <td>0.3107</td>\n",
              "      <td>0.3396</td>\n",
              "      <td>0.015</td>\n",
              "    </tr>\n",
              "    <tr>\n",
              "      <th>rf</th>\n",
              "      <td>Random Forest Regressor</td>\n",
              "      <td>11764.1193</td>\n",
              "      <td>2.882969e+08</td>\n",
              "      <td>16124.5054</td>\n",
              "      <td>0.6113</td>\n",
              "      <td>0.2883</td>\n",
              "      <td>0.2634</td>\n",
              "      <td>0.415</td>\n",
              "    </tr>\n",
              "    <tr>\n",
              "      <th>et</th>\n",
              "      <td>Extra Trees Regressor</td>\n",
              "      <td>11803.3849</td>\n",
              "      <td>2.856215e+08</td>\n",
              "      <td>15940.2980</td>\n",
              "      <td>0.6272</td>\n",
              "      <td>0.2847</td>\n",
              "      <td>0.2628</td>\n",
              "      <td>0.364</td>\n",
              "    </tr>\n",
              "    <tr>\n",
              "      <th>ada</th>\n",
              "      <td>AdaBoost Regressor</td>\n",
              "      <td>12093.9060</td>\n",
              "      <td>2.977558e+08</td>\n",
              "      <td>16372.4038</td>\n",
              "      <td>0.6104</td>\n",
              "      <td>0.3316</td>\n",
              "      <td>0.3196</td>\n",
              "      <td>0.083</td>\n",
              "    </tr>\n",
              "    <tr>\n",
              "      <th>en</th>\n",
              "      <td>Elastic Net</td>\n",
              "      <td>12146.2681</td>\n",
              "      <td>2.759642e+08</td>\n",
              "      <td>15513.7546</td>\n",
              "      <td>0.6651</td>\n",
              "      <td>0.3460</td>\n",
              "      <td>0.3418</td>\n",
              "      <td>0.016</td>\n",
              "    </tr>\n",
              "    <tr>\n",
              "      <th>catboost</th>\n",
              "      <td>CatBoost Regressor</td>\n",
              "      <td>12487.4451</td>\n",
              "      <td>2.956565e+08</td>\n",
              "      <td>16115.6922</td>\n",
              "      <td>0.6619</td>\n",
              "      <td>0.3180</td>\n",
              "      <td>0.3066</td>\n",
              "      <td>0.520</td>\n",
              "    </tr>\n",
              "    <tr>\n",
              "      <th>omp</th>\n",
              "      <td>Orthogonal Matching Pursuit</td>\n",
              "      <td>12816.4790</td>\n",
              "      <td>3.506789e+08</td>\n",
              "      <td>17332.5136</td>\n",
              "      <td>0.4930</td>\n",
              "      <td>0.3667</td>\n",
              "      <td>0.3654</td>\n",
              "      <td>0.013</td>\n",
              "    </tr>\n",
              "    <tr>\n",
              "      <th>gbr</th>\n",
              "      <td>Gradient Boosting Regressor</td>\n",
              "      <td>13128.0652</td>\n",
              "      <td>3.216182e+08</td>\n",
              "      <td>17023.0096</td>\n",
              "      <td>0.5421</td>\n",
              "      <td>0.2866</td>\n",
              "      <td>0.2644</td>\n",
              "      <td>0.044</td>\n",
              "    </tr>\n",
              "    <tr>\n",
              "      <th>knn</th>\n",
              "      <td>K Neighbors Regressor</td>\n",
              "      <td>13375.1889</td>\n",
              "      <td>2.830311e+08</td>\n",
              "      <td>16526.7475</td>\n",
              "      <td>0.6431</td>\n",
              "      <td>0.3857</td>\n",
              "      <td>0.4140</td>\n",
              "      <td>0.064</td>\n",
              "    </tr>\n",
              "    <tr>\n",
              "      <th>lightgbm</th>\n",
              "      <td>Light Gradient Boosting Machine</td>\n",
              "      <td>13881.9020</td>\n",
              "      <td>3.262450e+08</td>\n",
              "      <td>17343.3328</td>\n",
              "      <td>0.5673</td>\n",
              "      <td>0.4103</td>\n",
              "      <td>0.4426</td>\n",
              "      <td>0.074</td>\n",
              "    </tr>\n",
              "    <tr>\n",
              "      <th>par</th>\n",
              "      <td>Passive Aggressive Regressor</td>\n",
              "      <td>15387.4392</td>\n",
              "      <td>4.275284e+08</td>\n",
              "      <td>19596.6838</td>\n",
              "      <td>0.4343</td>\n",
              "      <td>0.3743</td>\n",
              "      <td>0.3741</td>\n",
              "      <td>0.019</td>\n",
              "    </tr>\n",
              "    <tr>\n",
              "      <th>dt</th>\n",
              "      <td>Decision Tree Regressor</td>\n",
              "      <td>16291.8857</td>\n",
              "      <td>5.285025e+08</td>\n",
              "      <td>20944.7767</td>\n",
              "      <td>0.1398</td>\n",
              "      <td>0.3397</td>\n",
              "      <td>0.3251</td>\n",
              "      <td>0.015</td>\n",
              "    </tr>\n",
              "  </tbody>\n",
              "</table>\n",
              "</div>"
            ],
            "text/plain": [
              "                                    Model         MAE           MSE  \\\n",
              "huber                     Huber Regressor  10601.2662  2.300105e+08   \n",
              "ridge                    Ridge Regression  10920.0777  2.299411e+08   \n",
              "br                         Bayesian Ridge  10934.1748  2.293762e+08   \n",
              "llar         Lasso Least Angle Regression  10937.7391  2.317172e+08   \n",
              "lasso                    Lasso Regression  10937.9458  2.317040e+08   \n",
              "lr                      Linear Regression  10937.9733  2.317011e+08   \n",
              "lar                Least Angle Regression  10937.9752  2.317011e+08   \n",
              "rf                Random Forest Regressor  11764.1193  2.882969e+08   \n",
              "et                  Extra Trees Regressor  11803.3849  2.856215e+08   \n",
              "ada                    AdaBoost Regressor  12093.9060  2.977558e+08   \n",
              "en                            Elastic Net  12146.2681  2.759642e+08   \n",
              "catboost               CatBoost Regressor  12487.4451  2.956565e+08   \n",
              "omp           Orthogonal Matching Pursuit  12816.4790  3.506789e+08   \n",
              "gbr           Gradient Boosting Regressor  13128.0652  3.216182e+08   \n",
              "knn                 K Neighbors Regressor  13375.1889  2.830311e+08   \n",
              "lightgbm  Light Gradient Boosting Machine  13881.9020  3.262450e+08   \n",
              "par          Passive Aggressive Regressor  15387.4392  4.275284e+08   \n",
              "dt                Decision Tree Regressor  16291.8857  5.285025e+08   \n",
              "\n",
              "                RMSE      R2   RMSLE    MAPE  TT (Sec)  \n",
              "huber     14023.9841  0.6959  0.3061  0.3236     0.021  \n",
              "ridge     14143.7012  0.6987  0.3105  0.3363     0.014  \n",
              "br        14121.6012  0.7003  0.3120  0.3374     0.016  \n",
              "llar      14204.5013  0.6953  0.3107  0.3394     0.015  \n",
              "lasso     14204.4460  0.6954  0.3107  0.3396     0.015  \n",
              "lr        14204.3827  0.6954  0.3107  0.3396     0.336  \n",
              "lar       14204.3837  0.6954  0.3107  0.3396     0.015  \n",
              "rf        16124.5054  0.6113  0.2883  0.2634     0.415  \n",
              "et        15940.2980  0.6272  0.2847  0.2628     0.364  \n",
              "ada       16372.4038  0.6104  0.3316  0.3196     0.083  \n",
              "en        15513.7546  0.6651  0.3460  0.3418     0.016  \n",
              "catboost  16115.6922  0.6619  0.3180  0.3066     0.520  \n",
              "omp       17332.5136  0.4930  0.3667  0.3654     0.013  \n",
              "gbr       17023.0096  0.5421  0.2866  0.2644     0.044  \n",
              "knn       16526.7475  0.6431  0.3857  0.4140     0.064  \n",
              "lightgbm  17343.3328  0.5673  0.4103  0.4426     0.074  \n",
              "par       19596.6838  0.4343  0.3743  0.3741     0.019  \n",
              "dt        20944.7767  0.1398  0.3397  0.3251     0.015  "
            ]
          },
          "metadata": {}
        }
      ]
    },
    {
      "cell_type": "code",
      "metadata": {
        "colab": {
          "base_uri": "https://localhost:8080/",
          "height": 420,
          "referenced_widgets": [
            "790a18916d984a489c14c8cd9a62e86f",
            "be3c26a57a794b96b953152b5ae447a9",
            "9a39c63e5de34424a171e4d2e44b9563",
            "3c3f1c364a5a42eaa193d051c617da3e",
            "8c0f9ef01e0942d3a34ee2838ff7d28d",
            "3602374419ce4777aa0078864931b2a8",
            "e19b25a1c0e04005a41570f1dc9ecd47",
            "8933fbef129e40a295b335bb937d6217",
            "3d613244df2a48ae827a65aa8b037d36",
            "10711b6696b24093bb327c3cbd5db054",
            "14282c2da44749b6820eb4d38ef718d9",
            "32fa8371ca004f38bc10bff76b716e23",
            "de9e322b627141a1b39397c955781274",
            "bc72694c903042cbb68c0453e6fd2f15",
            "f1cfca766e5d455c88f65bdc0039df31"
          ]
        },
        "id": "AoI7YeKXQj0z",
        "outputId": "e90c2cfc-6198-4a62-d9db-44083a3dc310"
      },
      "source": [
        "models = []\n",
        "for m in top5:\n",
        "    models.append(tune_model(m, \n",
        "                             optimize = 'MAE', \n",
        "                             choose_better = True,\n",
        "                            n_iter = 10))"
      ],
      "execution_count": 28,
      "outputs": [
        {
          "output_type": "display_data",
          "data": {
            "text/html": [
              "<div>\n",
              "<style scoped>\n",
              "    .dataframe tbody tr th:only-of-type {\n",
              "        vertical-align: middle;\n",
              "    }\n",
              "\n",
              "    .dataframe tbody tr th {\n",
              "        vertical-align: top;\n",
              "    }\n",
              "\n",
              "    .dataframe thead th {\n",
              "        text-align: right;\n",
              "    }\n",
              "</style>\n",
              "<table border=\"1\" class=\"dataframe\">\n",
              "  <thead>\n",
              "    <tr style=\"text-align: right;\">\n",
              "      <th></th>\n",
              "      <th>MAE</th>\n",
              "      <th>MSE</th>\n",
              "      <th>RMSE</th>\n",
              "      <th>R2</th>\n",
              "      <th>RMSLE</th>\n",
              "      <th>MAPE</th>\n",
              "    </tr>\n",
              "  </thead>\n",
              "  <tbody>\n",
              "    <tr>\n",
              "      <th>0</th>\n",
              "      <td>10514.0312</td>\n",
              "      <td>1.519940e+08</td>\n",
              "      <td>12328.5830</td>\n",
              "      <td>0.6918</td>\n",
              "      <td>0.1776</td>\n",
              "      <td>0.1672</td>\n",
              "    </tr>\n",
              "    <tr>\n",
              "      <th>1</th>\n",
              "      <td>8624.2510</td>\n",
              "      <td>1.018606e+08</td>\n",
              "      <td>10092.6016</td>\n",
              "      <td>0.8843</td>\n",
              "      <td>0.1618</td>\n",
              "      <td>0.1487</td>\n",
              "    </tr>\n",
              "    <tr>\n",
              "      <th>2</th>\n",
              "      <td>9541.9043</td>\n",
              "      <td>1.376681e+08</td>\n",
              "      <td>11733.2051</td>\n",
              "      <td>0.7361</td>\n",
              "      <td>0.1760</td>\n",
              "      <td>0.1463</td>\n",
              "    </tr>\n",
              "    <tr>\n",
              "      <th>3</th>\n",
              "      <td>14473.2334</td>\n",
              "      <td>4.172890e+08</td>\n",
              "      <td>20427.6523</td>\n",
              "      <td>0.0449</td>\n",
              "      <td>0.2367</td>\n",
              "      <td>0.1618</td>\n",
              "    </tr>\n",
              "    <tr>\n",
              "      <th>4</th>\n",
              "      <td>8198.7764</td>\n",
              "      <td>1.512460e+08</td>\n",
              "      <td>12298.2090</td>\n",
              "      <td>0.8908</td>\n",
              "      <td>0.3725</td>\n",
              "      <td>0.3043</td>\n",
              "    </tr>\n",
              "    <tr>\n",
              "      <th>5</th>\n",
              "      <td>8058.7104</td>\n",
              "      <td>8.145044e+07</td>\n",
              "      <td>9024.9902</td>\n",
              "      <td>0.8770</td>\n",
              "      <td>0.1545</td>\n",
              "      <td>0.1512</td>\n",
              "    </tr>\n",
              "    <tr>\n",
              "      <th>6</th>\n",
              "      <td>13862.0049</td>\n",
              "      <td>3.099328e+08</td>\n",
              "      <td>17604.9082</td>\n",
              "      <td>0.4226</td>\n",
              "      <td>0.4968</td>\n",
              "      <td>0.4868</td>\n",
              "    </tr>\n",
              "    <tr>\n",
              "      <th>7</th>\n",
              "      <td>7765.8110</td>\n",
              "      <td>9.357675e+07</td>\n",
              "      <td>9673.5078</td>\n",
              "      <td>0.7927</td>\n",
              "      <td>0.1602</td>\n",
              "      <td>0.1444</td>\n",
              "    </tr>\n",
              "    <tr>\n",
              "      <th>8</th>\n",
              "      <td>18384.9102</td>\n",
              "      <td>7.344769e+08</td>\n",
              "      <td>27101.2344</td>\n",
              "      <td>0.6748</td>\n",
              "      <td>0.7650</td>\n",
              "      <td>1.3013</td>\n",
              "    </tr>\n",
              "    <tr>\n",
              "      <th>9</th>\n",
              "      <td>9942.6270</td>\n",
              "      <td>1.385667e+08</td>\n",
              "      <td>11771.4375</td>\n",
              "      <td>0.9360</td>\n",
              "      <td>0.4061</td>\n",
              "      <td>0.3749</td>\n",
              "    </tr>\n",
              "    <tr>\n",
              "      <th>Mean</th>\n",
              "      <td>10936.6260</td>\n",
              "      <td>2.318061e+08</td>\n",
              "      <td>14205.6329</td>\n",
              "      <td>0.6951</td>\n",
              "      <td>0.3107</td>\n",
              "      <td>0.3387</td>\n",
              "    </tr>\n",
              "    <tr>\n",
              "      <th>SD</th>\n",
              "      <td>3329.1681</td>\n",
              "      <td>1.954996e+08</td>\n",
              "      <td>5477.7839</td>\n",
              "      <td>0.2596</td>\n",
              "      <td>0.1909</td>\n",
              "      <td>0.3403</td>\n",
              "    </tr>\n",
              "  </tbody>\n",
              "</table>\n",
              "</div>"
            ],
            "text/plain": [
              "             MAE           MSE        RMSE      R2   RMSLE    MAPE\n",
              "0     10514.0312  1.519940e+08  12328.5830  0.6918  0.1776  0.1672\n",
              "1      8624.2510  1.018606e+08  10092.6016  0.8843  0.1618  0.1487\n",
              "2      9541.9043  1.376681e+08  11733.2051  0.7361  0.1760  0.1463\n",
              "3     14473.2334  4.172890e+08  20427.6523  0.0449  0.2367  0.1618\n",
              "4      8198.7764  1.512460e+08  12298.2090  0.8908  0.3725  0.3043\n",
              "5      8058.7104  8.145044e+07   9024.9902  0.8770  0.1545  0.1512\n",
              "6     13862.0049  3.099328e+08  17604.9082  0.4226  0.4968  0.4868\n",
              "7      7765.8110  9.357675e+07   9673.5078  0.7927  0.1602  0.1444\n",
              "8     18384.9102  7.344769e+08  27101.2344  0.6748  0.7650  1.3013\n",
              "9      9942.6270  1.385667e+08  11771.4375  0.9360  0.4061  0.3749\n",
              "Mean  10936.6260  2.318061e+08  14205.6329  0.6951  0.3107  0.3387\n",
              "SD     3329.1681  1.954996e+08   5477.7839  0.2596  0.1909  0.3403"
            ]
          },
          "metadata": {}
        }
      ]
    },
    {
      "cell_type": "code",
      "metadata": {
        "colab": {
          "base_uri": "https://localhost:8080/",
          "height": 420,
          "referenced_widgets": [
            "cac6857ef3754f01a86c0eb8df0b73e5",
            "346074083b414abc849eca9cf1a36574",
            "f454c9d936514b5eae6ffb201e5108bd",
            "40d1971bd2f14097b9be96f610947b5c",
            "8d328d2e614941c9b6fa64ba2924f668",
            "f2b9f680693e44459d2d9fe3fa98b010"
          ]
        },
        "id": "q8LQ4sK-QlVx",
        "outputId": "79d357fe-5722-4f6e-f1aa-18d66184f1c5"
      },
      "source": [
        "voting = blend_models(models, optimize = 'MAE')\n",
        "voting = tune_model(voting, \n",
        "                 optimize = 'MAE', \n",
        "                 choose_better = True,\n",
        "                 n_iter = 30)\n",
        "\n",
        "voting = finalize_model(voting)"
      ],
      "execution_count": 29,
      "outputs": [
        {
          "output_type": "display_data",
          "data": {
            "text/html": [
              "<div>\n",
              "<style scoped>\n",
              "    .dataframe tbody tr th:only-of-type {\n",
              "        vertical-align: middle;\n",
              "    }\n",
              "\n",
              "    .dataframe tbody tr th {\n",
              "        vertical-align: top;\n",
              "    }\n",
              "\n",
              "    .dataframe thead th {\n",
              "        text-align: right;\n",
              "    }\n",
              "</style>\n",
              "<table border=\"1\" class=\"dataframe\">\n",
              "  <thead>\n",
              "    <tr style=\"text-align: right;\">\n",
              "      <th></th>\n",
              "      <th>MAE</th>\n",
              "      <th>MSE</th>\n",
              "      <th>RMSE</th>\n",
              "      <th>R2</th>\n",
              "      <th>RMSLE</th>\n",
              "      <th>MAPE</th>\n",
              "    </tr>\n",
              "  </thead>\n",
              "  <tbody>\n",
              "    <tr>\n",
              "      <th>0</th>\n",
              "      <td>10075.2719</td>\n",
              "      <td>1.305333e+08</td>\n",
              "      <td>11425.1160</td>\n",
              "      <td>0.7353</td>\n",
              "      <td>0.1715</td>\n",
              "      <td>0.1603</td>\n",
              "    </tr>\n",
              "    <tr>\n",
              "      <th>1</th>\n",
              "      <td>8490.0514</td>\n",
              "      <td>9.917937e+07</td>\n",
              "      <td>9958.8842</td>\n",
              "      <td>0.8873</td>\n",
              "      <td>0.1665</td>\n",
              "      <td>0.1499</td>\n",
              "    </tr>\n",
              "    <tr>\n",
              "      <th>2</th>\n",
              "      <td>9349.7269</td>\n",
              "      <td>1.381469e+08</td>\n",
              "      <td>11753.5911</td>\n",
              "      <td>0.7352</td>\n",
              "      <td>0.1749</td>\n",
              "      <td>0.1419</td>\n",
              "    </tr>\n",
              "    <tr>\n",
              "      <th>3</th>\n",
              "      <td>14652.8075</td>\n",
              "      <td>4.361524e+08</td>\n",
              "      <td>20884.2624</td>\n",
              "      <td>0.0017</td>\n",
              "      <td>0.2352</td>\n",
              "      <td>0.1622</td>\n",
              "    </tr>\n",
              "    <tr>\n",
              "      <th>4</th>\n",
              "      <td>8125.2392</td>\n",
              "      <td>1.369772e+08</td>\n",
              "      <td>11703.7268</td>\n",
              "      <td>0.9011</td>\n",
              "      <td>0.3742</td>\n",
              "      <td>0.3093</td>\n",
              "    </tr>\n",
              "    <tr>\n",
              "      <th>5</th>\n",
              "      <td>7874.6775</td>\n",
              "      <td>7.970968e+07</td>\n",
              "      <td>8928.0279</td>\n",
              "      <td>0.8796</td>\n",
              "      <td>0.1520</td>\n",
              "      <td>0.1479</td>\n",
              "    </tr>\n",
              "    <tr>\n",
              "      <th>6</th>\n",
              "      <td>13617.1239</td>\n",
              "      <td>2.988421e+08</td>\n",
              "      <td>17287.0493</td>\n",
              "      <td>0.4433</td>\n",
              "      <td>0.4888</td>\n",
              "      <td>0.4740</td>\n",
              "    </tr>\n",
              "    <tr>\n",
              "      <th>7</th>\n",
              "      <td>7617.3103</td>\n",
              "      <td>8.540401e+07</td>\n",
              "      <td>9241.4292</td>\n",
              "      <td>0.8108</td>\n",
              "      <td>0.1560</td>\n",
              "      <td>0.1462</td>\n",
              "    </tr>\n",
              "    <tr>\n",
              "      <th>8</th>\n",
              "      <td>18148.4460</td>\n",
              "      <td>7.279005e+08</td>\n",
              "      <td>26979.6308</td>\n",
              "      <td>0.6777</td>\n",
              "      <td>0.7413</td>\n",
              "      <td>1.2356</td>\n",
              "    </tr>\n",
              "    <tr>\n",
              "      <th>9</th>\n",
              "      <td>9746.1363</td>\n",
              "      <td>1.508250e+08</td>\n",
              "      <td>12281.0821</td>\n",
              "      <td>0.9304</td>\n",
              "      <td>0.4248</td>\n",
              "      <td>0.3839</td>\n",
              "    </tr>\n",
              "    <tr>\n",
              "      <th>Mean</th>\n",
              "      <td>10769.6791</td>\n",
              "      <td>2.283670e+08</td>\n",
              "      <td>14044.2800</td>\n",
              "      <td>0.7002</td>\n",
              "      <td>0.3085</td>\n",
              "      <td>0.3311</td>\n",
              "    </tr>\n",
              "    <tr>\n",
              "      <th>SD</th>\n",
              "      <td>3341.9629</td>\n",
              "      <td>1.972253e+08</td>\n",
              "      <td>5579.0000</td>\n",
              "      <td>0.2701</td>\n",
              "      <td>0.1864</td>\n",
              "      <td>0.3219</td>\n",
              "    </tr>\n",
              "  </tbody>\n",
              "</table>\n",
              "</div>"
            ],
            "text/plain": [
              "             MAE           MSE        RMSE      R2   RMSLE    MAPE\n",
              "0     10075.2719  1.305333e+08  11425.1160  0.7353  0.1715  0.1603\n",
              "1      8490.0514  9.917937e+07   9958.8842  0.8873  0.1665  0.1499\n",
              "2      9349.7269  1.381469e+08  11753.5911  0.7352  0.1749  0.1419\n",
              "3     14652.8075  4.361524e+08  20884.2624  0.0017  0.2352  0.1622\n",
              "4      8125.2392  1.369772e+08  11703.7268  0.9011  0.3742  0.3093\n",
              "5      7874.6775  7.970968e+07   8928.0279  0.8796  0.1520  0.1479\n",
              "6     13617.1239  2.988421e+08  17287.0493  0.4433  0.4888  0.4740\n",
              "7      7617.3103  8.540401e+07   9241.4292  0.8108  0.1560  0.1462\n",
              "8     18148.4460  7.279005e+08  26979.6308  0.6777  0.7413  1.2356\n",
              "9      9746.1363  1.508250e+08  12281.0821  0.9304  0.4248  0.3839\n",
              "Mean  10769.6791  2.283670e+08  14044.2800  0.7002  0.3085  0.3311\n",
              "SD     3341.9629  1.972253e+08   5579.0000  0.2701  0.1864  0.3219"
            ]
          },
          "metadata": {}
        }
      ]
    },
    {
      "cell_type": "code",
      "metadata": {
        "colab": {
          "base_uri": "https://localhost:8080/"
        },
        "id": "RktuiNBKR5SU",
        "outputId": "31184df4-45e4-4feb-9cf4-40a8d72fdcd8"
      },
      "source": [
        "voting.weights"
      ],
      "execution_count": 30,
      "outputs": [
        {
          "output_type": "execute_result",
          "data": {
            "text/plain": [
              "[0.8300000000000001,\n",
              " 0.29000000000000004,\n",
              " 0.9400000000000001,\n",
              " 0.19,\n",
              " 0.09999999999999999]"
            ]
          },
          "metadata": {},
          "execution_count": 30
        }
      ]
    },
    {
      "cell_type": "code",
      "metadata": {
        "colab": {
          "base_uri": "https://localhost:8080/"
        },
        "id": "t_P71QRsQnRM",
        "outputId": "23b12557-4f7e-4ef6-cb49-0713319779b7"
      },
      "source": [
        "layer1_pred = voting.predict(df_data.drop(columns = ['청년인구']))\n",
        "layer1_pred"
      ],
      "execution_count": 31,
      "outputs": [
        {
          "output_type": "execute_result",
          "data": {
            "text/plain": [
              "array([ 51794.72183876,  69608.67914395,  86653.62292935,  81085.89047077,\n",
              "        69693.91856958,  81744.57496171,  60335.80668619,  51783.17343505,\n",
              "        93411.12327805,  93572.47206506,  66203.23900707, 101989.8280156 ,\n",
              "        78319.10606596, 116023.07592738,  71940.23182035,  49630.33940282,\n",
              "       102089.15365338,  74741.82489549,  94729.2205552 , 112806.66410242,\n",
              "       135797.65902261, 105290.56816045,  19696.97111772,  20063.82024416,\n",
              "        20970.98011617,  22997.65137663,  99580.1007397 ,  59560.41284637,\n",
              "        56186.87464872,  46686.74068885,  72471.19705511,  61608.09254961,\n",
              "        50539.15230643,  25340.20532981,  31010.16568404,  39482.20267443,\n",
              "        28451.00048432,  35066.80855638,  53670.26616322,  72403.94447558,\n",
              "        38230.33064609,  40418.26256457,  92119.58542181,  90045.90457248,\n",
              "       106903.72611424,  53505.0189076 ,  23834.43830136,  10535.46280512,\n",
              "        51001.96238715,  62168.96301786, 110962.89737536,  96502.63285254,\n",
              "        51017.78294455,  85176.03267339,  12058.42519251, -12723.08745924,\n",
              "        20243.84574177,  73189.57554317,  50620.24969101,  78470.62529947,\n",
              "        98687.96323825,  44430.30117712,  44200.2963396 , 103880.81358828,\n",
              "        64935.53556521,  38237.94103107,  42506.60402776,  62143.10920176,\n",
              "        30665.15334832,  34463.22978998,  38387.49338748,  70357.48917607])"
            ]
          },
          "metadata": {},
          "execution_count": 31
        }
      ]
    },
    {
      "cell_type": "code",
      "metadata": {
        "colab": {
          "base_uri": "https://localhost:8080/"
        },
        "id": "5GYBqs7wQqVr",
        "outputId": "74e47e18-a17a-4947-e575-54249c5d5943"
      },
      "source": [
        "df_data['청년인구']"
      ],
      "execution_count": 32,
      "outputs": [
        {
          "output_type": "execute_result",
          "data": {
            "text/plain": [
              "2     52554.0\n",
              "3     67271.0\n",
              "4     91126.0\n",
              "5     80217.0\n",
              "6     83722.0\n",
              "       ...   \n",
              "70    64670.0\n",
              "71    26280.0\n",
              "72    41455.0\n",
              "73    37605.0\n",
              "74    64602.0\n",
              "Name: 청년인구, Length: 72, dtype: float64"
            ]
          },
          "metadata": {},
          "execution_count": 32
        }
      ]
    },
    {
      "cell_type": "markdown",
      "metadata": {
        "id": "seGjbpBBUeHf"
      },
      "source": [
        "## huber"
      ]
    },
    {
      "cell_type": "code",
      "metadata": {
        "id": "HrykvtdHRzgU"
      },
      "source": [
        "from sklearn.linear_model import HuberRegressor, LinearRegression"
      ],
      "execution_count": 33,
      "outputs": []
    },
    {
      "cell_type": "code",
      "metadata": {
        "id": "u7UYUUuFUfkM"
      },
      "source": [
        "huber = HuberRegressor().fit(X, y)"
      ],
      "execution_count": 34,
      "outputs": []
    },
    {
      "cell_type": "code",
      "metadata": {
        "colab": {
          "base_uri": "https://localhost:8080/"
        },
        "id": "uFte1B7oVK5m",
        "outputId": "b4df7d17-239e-40aa-9856-8c392c6bae62"
      },
      "source": [
        "huber.score(X, y)"
      ],
      "execution_count": 35,
      "outputs": [
        {
          "output_type": "execute_result",
          "data": {
            "text/plain": [
              "0.8254001792301644"
            ]
          },
          "metadata": {},
          "execution_count": 35
        }
      ]
    },
    {
      "cell_type": "code",
      "metadata": {
        "colab": {
          "base_uri": "https://localhost:8080/"
        },
        "id": "vYBP8OnGVNTi",
        "outputId": "d6a3e84d-02fb-47b6-f769-71ac578528bf"
      },
      "source": [
        "huber.predict(X)"
      ],
      "execution_count": 36,
      "outputs": [
        {
          "output_type": "execute_result",
          "data": {
            "text/plain": [
              "array([ 50669.17887607,  68344.15709252,  84847.71469227,  80198.05039981,\n",
              "        69260.88505221,  80057.49737611,  59987.17660099,  52283.0228529 ,\n",
              "        93526.13375748,  92709.46963513,  64817.7246378 , 100601.76142539,\n",
              "        79480.91764941, 114693.30941107,  71995.82733721,  48904.09426466,\n",
              "       100536.05119969,  75002.71281454,  93457.46342122, 120757.65630868,\n",
              "       138041.91826672, 104965.10976468,  19226.48915467,  20036.93682348,\n",
              "        20807.62178841,  22716.23798707,  98779.81246269,  59067.71727056,\n",
              "        55189.62729571,  46434.05392378,  71710.52538815,  60534.44440023,\n",
              "        49732.67364584,  25760.19937769,  34333.26480282,  38964.13604907,\n",
              "        28965.06269126,  33526.92180497,  53495.4292502 ,  69960.54281885,\n",
              "        37346.96323759,  39662.32465113,  89246.70086252,  91882.6047096 ,\n",
              "       107433.35859229,  52510.92428986,  21319.12425167,  10985.79368896,\n",
              "        52748.80843182,  60234.25889033, 108694.42909128,  94159.23031154,\n",
              "        50442.62069753,  82312.83945616,  11636.74023532, -12498.31122938,\n",
              "        21816.83757915,  72118.17231792,  49856.56066607,  78192.03295106,\n",
              "        94360.67682602,  43555.33897275,  43335.17919527, 106103.11329366,\n",
              "        64098.58537997,  36921.11490563,  40991.59024339,  62703.33230139,\n",
              "        29579.35042611,  33007.85365674,  36777.38642152,  68672.38320343])"
            ]
          },
          "metadata": {},
          "execution_count": 36
        }
      ]
    },
    {
      "cell_type": "code",
      "metadata": {
        "colab": {
          "base_uri": "https://localhost:8080/"
        },
        "id": "yzfNwzWRVXYn",
        "outputId": "8f63d93f-95e4-49c5-a128-8c4a025bc6b1"
      },
      "source": [
        "# 변수의 가중치값\n",
        "huber.coef_"
      ],
      "execution_count": 41,
      "outputs": [
        {
          "output_type": "execute_result",
          "data": {
            "text/plain": [
              "array([18353.21255524, -5797.00036004,  5342.1988369 , 10818.52961357,\n",
              "       -5267.55126726])"
            ]
          },
          "metadata": {},
          "execution_count": 41
        }
      ]
    },
    {
      "cell_type": "code",
      "metadata": {
        "id": "AqR4dGa5VjPL",
        "colab": {
          "base_uri": "https://localhost:8080/"
        },
        "outputId": "6efff080-d19c-4994-bb6d-ce8235f72e3e"
      },
      "source": [
        "coef = huber.coef_\n",
        "coef = coef/5000\n",
        "coef"
      ],
      "execution_count": 50,
      "outputs": [
        {
          "output_type": "execute_result",
          "data": {
            "text/plain": [
              "array([ 3.67064251, -1.15940007,  1.06843977,  2.16370592, -1.05351025])"
            ]
          },
          "metadata": {},
          "execution_count": 50
        }
      ]
    },
    {
      "cell_type": "code",
      "metadata": {
        "id": "FHN1gr6OWBC6"
      },
      "source": [
        "path = '/content/drive/MyDrive/데청캠 프로젝트/dataset/시군구별_인프라수_청년수.csv'\n",
        "df = pd.read_csv(path, encoding='cp949')\n",
        "df = df.drop(['Unnamed: 0'], axis=1)\n",
        "df['청년인구'] = df['청년인구'].str.replace(\",\",\"\")\n",
        "df['청년인구'] = df['청년인구'].astype('float64')\n",
        "df = df.drop([22,0,1])"
      ],
      "execution_count": 75,
      "outputs": []
    },
    {
      "cell_type": "code",
      "metadata": {
        "colab": {
          "base_uri": "https://localhost:8080/"
        },
        "id": "GEjErL3bXZh9",
        "outputId": "67b7eb00-650e-4a63-fdcc-b0e26b7cdaac"
      },
      "source": [
        "coef[0]"
      ],
      "execution_count": 76,
      "outputs": [
        {
          "output_type": "execute_result",
          "data": {
            "text/plain": [
              "3.670642511047812"
            ]
          },
          "metadata": {},
          "execution_count": 76
        }
      ]
    },
    {
      "cell_type": "code",
      "metadata": {
        "colab": {
          "base_uri": "https://localhost:8080/",
          "height": 605
        },
        "id": "3zzzrQh-XMjb",
        "outputId": "1d9ba85d-fd53-4e57-ce28-3a68835efeeb"
      },
      "source": [
        "df['청년인프라지수'] = df[need_list[0]] * coef[0] + df[need_list[1]] * coef[1] + df[need_list[2]] * coef[2] + df[need_list[3]] * coef[3] + df[need_list[4]] * coef[4]\n",
        "df.sort_values(by=['청년인프라지수'], axis=0, ascending=False)"
      ],
      "execution_count": 77,
      "outputs": [
        {
          "output_type": "execute_result",
          "data": {
            "text/html": [
              "<div>\n",
              "<style scoped>\n",
              "    .dataframe tbody tr th:only-of-type {\n",
              "        vertical-align: middle;\n",
              "    }\n",
              "\n",
              "    .dataframe tbody tr th {\n",
              "        vertical-align: top;\n",
              "    }\n",
              "\n",
              "    .dataframe thead th {\n",
              "        text-align: right;\n",
              "    }\n",
              "</style>\n",
              "<table border=\"1\" class=\"dataframe\">\n",
              "  <thead>\n",
              "    <tr style=\"text-align: right;\">\n",
              "      <th></th>\n",
              "      <th>시군구</th>\n",
              "      <th>청년인구</th>\n",
              "      <th>병원</th>\n",
              "      <th>사회스포츠</th>\n",
              "      <th>대학교</th>\n",
              "      <th>초중고</th>\n",
              "      <th>공항</th>\n",
              "      <th>소방서</th>\n",
              "      <th>경찰서</th>\n",
              "      <th>소형상업시설(음식점_카페_학원_편의점)</th>\n",
              "      <th>대형상업시설</th>\n",
              "      <th>숙박시설</th>\n",
              "      <th>기차역</th>\n",
              "      <th>행정기관</th>\n",
              "      <th>법원, 교도소</th>\n",
              "      <th>문화시설_영화/공연/미술관박물관</th>\n",
              "      <th>버스터미널</th>\n",
              "      <th>청년인프라지수</th>\n",
              "    </tr>\n",
              "  </thead>\n",
              "  <tbody>\n",
              "    <tr>\n",
              "      <th>66</th>\n",
              "      <td>대전_서구</td>\n",
              "      <td>104642.0</td>\n",
              "      <td>896</td>\n",
              "      <td>66.0</td>\n",
              "      <td>3</td>\n",
              "      <td>165.0</td>\n",
              "      <td>0</td>\n",
              "      <td>2</td>\n",
              "      <td>11</td>\n",
              "      <td>9410</td>\n",
              "      <td>42</td>\n",
              "      <td>79</td>\n",
              "      <td>2</td>\n",
              "      <td>25.0</td>\n",
              "      <td>4.0</td>\n",
              "      <td>29.0</td>\n",
              "      <td>2.0</td>\n",
              "      <td>23573.256350</td>\n",
              "    </tr>\n",
              "    <tr>\n",
              "      <th>23</th>\n",
              "      <td>서울_송파구</td>\n",
              "      <td>143645.0</td>\n",
              "      <td>1215</td>\n",
              "      <td>108.0</td>\n",
              "      <td>1</td>\n",
              "      <td>139.0</td>\n",
              "      <td>0</td>\n",
              "      <td>1</td>\n",
              "      <td>11</td>\n",
              "      <td>8807</td>\n",
              "      <td>46</td>\n",
              "      <td>52</td>\n",
              "      <td>1</td>\n",
              "      <td>29.0</td>\n",
              "      <td>2.0</td>\n",
              "      <td>37.0</td>\n",
              "      <td>0.0</td>\n",
              "      <td>23470.240216</td>\n",
              "    </tr>\n",
              "    <tr>\n",
              "      <th>21</th>\n",
              "      <td>서울_서초구</td>\n",
              "      <td>81935.0</td>\n",
              "      <td>1279</td>\n",
              "      <td>172.0</td>\n",
              "      <td>1</td>\n",
              "      <td>80.0</td>\n",
              "      <td>0</td>\n",
              "      <td>1</td>\n",
              "      <td>13</td>\n",
              "      <td>8169</td>\n",
              "      <td>29</td>\n",
              "      <td>80</td>\n",
              "      <td>0</td>\n",
              "      <td>20.0</td>\n",
              "      <td>6.0</td>\n",
              "      <td>62.0</td>\n",
              "      <td>3.0</td>\n",
              "      <td>22292.717951</td>\n",
              "    </tr>\n",
              "    <tr>\n",
              "      <th>47</th>\n",
              "      <td>대구_달서구</td>\n",
              "      <td>107479.0</td>\n",
              "      <td>822</td>\n",
              "      <td>180.0</td>\n",
              "      <td>3</td>\n",
              "      <td>191.0</td>\n",
              "      <td>0</td>\n",
              "      <td>1</td>\n",
              "      <td>14</td>\n",
              "      <td>8913</td>\n",
              "      <td>35</td>\n",
              "      <td>101</td>\n",
              "      <td>0</td>\n",
              "      <td>24.0</td>\n",
              "      <td>3.0</td>\n",
              "      <td>15.0</td>\n",
              "      <td>0.0</td>\n",
              "      <td>22207.454454</td>\n",
              "    </tr>\n",
              "    <tr>\n",
              "      <th>13</th>\n",
              "      <td>서울_마포구</td>\n",
              "      <td>93492.0</td>\n",
              "      <td>761</td>\n",
              "      <td>98.0</td>\n",
              "      <td>2</td>\n",
              "      <td>72.0</td>\n",
              "      <td>0</td>\n",
              "      <td>1</td>\n",
              "      <td>9</td>\n",
              "      <td>8638</td>\n",
              "      <td>31</td>\n",
              "      <td>115</td>\n",
              "      <td>2</td>\n",
              "      <td>18.0</td>\n",
              "      <td>1.0</td>\n",
              "      <td>77.0</td>\n",
              "      <td>0.0</td>\n",
              "      <td>21370.753590</td>\n",
              "    </tr>\n",
              "    <tr>\n",
              "      <th>...</th>\n",
              "      <td>...</td>\n",
              "      <td>...</td>\n",
              "      <td>...</td>\n",
              "      <td>...</td>\n",
              "      <td>...</td>\n",
              "      <td>...</td>\n",
              "      <td>...</td>\n",
              "      <td>...</td>\n",
              "      <td>...</td>\n",
              "      <td>...</td>\n",
              "      <td>...</td>\n",
              "      <td>...</td>\n",
              "      <td>...</td>\n",
              "      <td>...</td>\n",
              "      <td>...</td>\n",
              "      <td>...</td>\n",
              "      <td>...</td>\n",
              "      <td>...</td>\n",
              "    </tr>\n",
              "    <tr>\n",
              "      <th>28</th>\n",
              "      <td>부산_영도구</td>\n",
              "      <td>16436.0</td>\n",
              "      <td>142</td>\n",
              "      <td>46.0</td>\n",
              "      <td>2</td>\n",
              "      <td>41.0</td>\n",
              "      <td>0</td>\n",
              "      <td>1</td>\n",
              "      <td>5</td>\n",
              "      <td>1906</td>\n",
              "      <td>5</td>\n",
              "      <td>48</td>\n",
              "      <td>0</td>\n",
              "      <td>13.0</td>\n",
              "      <td>0.0</td>\n",
              "      <td>6.0</td>\n",
              "      <td>0.0</td>\n",
              "      <td>4600.028432</td>\n",
              "    </tr>\n",
              "    <tr>\n",
              "      <th>57</th>\n",
              "      <td>인천_강화군</td>\n",
              "      <td>7579.0</td>\n",
              "      <td>87</td>\n",
              "      <td>120.0</td>\n",
              "      <td>1</td>\n",
              "      <td>56.0</td>\n",
              "      <td>0</td>\n",
              "      <td>1</td>\n",
              "      <td>14</td>\n",
              "      <td>1998</td>\n",
              "      <td>2</td>\n",
              "      <td>305</td>\n",
              "      <td>1</td>\n",
              "      <td>14.0</td>\n",
              "      <td>1.0</td>\n",
              "      <td>19.0</td>\n",
              "      <td>1.0</td>\n",
              "      <td>4334.908461</td>\n",
              "    </tr>\n",
              "    <tr>\n",
              "      <th>26</th>\n",
              "      <td>부산_서구</td>\n",
              "      <td>18425.0</td>\n",
              "      <td>145</td>\n",
              "      <td>53.0</td>\n",
              "      <td>0</td>\n",
              "      <td>33.0</td>\n",
              "      <td>0</td>\n",
              "      <td>0</td>\n",
              "      <td>5</td>\n",
              "      <td>1663</td>\n",
              "      <td>9</td>\n",
              "      <td>68</td>\n",
              "      <td>0</td>\n",
              "      <td>15.0</td>\n",
              "      <td>0.0</td>\n",
              "      <td>8.0</td>\n",
              "      <td>0.0</td>\n",
              "      <td>4064.189615</td>\n",
              "    </tr>\n",
              "    <tr>\n",
              "      <th>50</th>\n",
              "      <td>인천_동구</td>\n",
              "      <td>9546.0</td>\n",
              "      <td>90</td>\n",
              "      <td>41.0</td>\n",
              "      <td>1</td>\n",
              "      <td>27.0</td>\n",
              "      <td>0</td>\n",
              "      <td>0</td>\n",
              "      <td>3</td>\n",
              "      <td>990</td>\n",
              "      <td>9</td>\n",
              "      <td>37</td>\n",
              "      <td>4</td>\n",
              "      <td>12.0</td>\n",
              "      <td>0.0</td>\n",
              "      <td>6.0</td>\n",
              "      <td>0.0</td>\n",
              "      <td>2436.652129</td>\n",
              "    </tr>\n",
              "    <tr>\n",
              "      <th>58</th>\n",
              "      <td>인천_옹진군</td>\n",
              "      <td>3526.0</td>\n",
              "      <td>28</td>\n",
              "      <td>27.0</td>\n",
              "      <td>0</td>\n",
              "      <td>26.0</td>\n",
              "      <td>0</td>\n",
              "      <td>0</td>\n",
              "      <td>6</td>\n",
              "      <td>733</td>\n",
              "      <td>0</td>\n",
              "      <td>333</td>\n",
              "      <td>0</td>\n",
              "      <td>7.0</td>\n",
              "      <td>0.0</td>\n",
              "      <td>1.0</td>\n",
              "      <td>0.0</td>\n",
              "      <td>1344.366156</td>\n",
              "    </tr>\n",
              "  </tbody>\n",
              "</table>\n",
              "<p>72 rows × 18 columns</p>\n",
              "</div>"
            ],
            "text/plain": [
              "       시군구      청년인구    병원  ...  문화시설_영화/공연/미술관박물관  버스터미널       청년인프라지수\n",
              "66   대전_서구  104642.0   896  ...               29.0    2.0  23573.256350\n",
              "23  서울_송파구  143645.0  1215  ...               37.0    0.0  23470.240216\n",
              "21  서울_서초구   81935.0  1279  ...               62.0    3.0  22292.717951\n",
              "47  대구_달서구  107479.0   822  ...               15.0    0.0  22207.454454\n",
              "13  서울_마포구   93492.0   761  ...               77.0    0.0  21370.753590\n",
              "..     ...       ...   ...  ...                ...    ...           ...\n",
              "28  부산_영도구   16436.0   142  ...                6.0    0.0   4600.028432\n",
              "57  인천_강화군    7579.0    87  ...               19.0    1.0   4334.908461\n",
              "26   부산_서구   18425.0   145  ...                8.0    0.0   4064.189615\n",
              "50   인천_동구    9546.0    90  ...                6.0    0.0   2436.652129\n",
              "58  인천_옹진군    3526.0    28  ...                1.0    0.0   1344.366156\n",
              "\n",
              "[72 rows x 18 columns]"
            ]
          },
          "metadata": {},
          "execution_count": 77
        }
      ]
    },
    {
      "cell_type": "markdown",
      "metadata": {
        "id": "s5vRpJ8AbA3X"
      },
      "source": [
        "### 단순 가중치 반영 : 인구수 대비 비교파악이 필요 "
      ]
    },
    {
      "cell_type": "code",
      "metadata": {
        "colab": {
          "base_uri": "https://localhost:8080/",
          "height": 284
        },
        "id": "URo-yimJZ-fG",
        "outputId": "2ddf30ff-7599-4ede-bc41-141764ece56f"
      },
      "source": [
        "plt.plot(df['청년인구'], df['청년인프라지수'], 'ro')"
      ],
      "execution_count": 78,
      "outputs": [
        {
          "output_type": "execute_result",
          "data": {
            "text/plain": [
              "[<matplotlib.lines.Line2D at 0x7f211f05d590>]"
            ]
          },
          "metadata": {},
          "execution_count": 78
        },
        {
          "output_type": "display_data",
          "data": {
            "image/png": "[encoded data removed]",
            "text/plain": [
              "<Figure size 432x288 with 1 Axes>"
            ]
          },
          "metadata": {
            "needs_background": "light"
          }
        }
      ]
    },
    {
      "cell_type": "code",
      "metadata": {
        "id": "6nIRIwPgYZj2"
      },
      "source": [
        "df['청년인프라지수'] = df['청년인구']/ df['청년인프라지수']"
      ],
      "execution_count": 79,
      "outputs": []
    },
    {
      "cell_type": "code",
      "metadata": {
        "colab": {
          "base_uri": "https://localhost:8080/"
        },
        "id": "jUwUz_eZcE9Z",
        "outputId": "ac973d6f-35dc-45cc-de2c-5790028e93ca"
      },
      "source": [
        "df['청년인프라지수'].mean()"
      ],
      "execution_count": 85,
      "outputs": [
        {
          "output_type": "execute_result",
          "data": {
            "text/plain": [
              "4.825398825165709"
            ]
          },
          "metadata": {},
          "execution_count": 85
        }
      ]
    },
    {
      "cell_type": "code",
      "metadata": {
        "colab": {
          "base_uri": "https://localhost:8080/",
          "height": 562
        },
        "id": "Ek6zO2vjZpUF",
        "outputId": "85f184c6-9711-4211-ad11-3ae9b61fd37c"
      },
      "source": [
        "df.sort_values(by=['청년인프라지수'], axis=0, ascending=False)"
      ],
      "execution_count": 80,
      "outputs": [
        {
          "output_type": "execute_result",
          "data": {
            "text/html": [
              "<div>\n",
              "<style scoped>\n",
              "    .dataframe tbody tr th:only-of-type {\n",
              "        vertical-align: middle;\n",
              "    }\n",
              "\n",
              "    .dataframe tbody tr th {\n",
              "        vertical-align: top;\n",
              "    }\n",
              "\n",
              "    .dataframe thead th {\n",
              "        text-align: right;\n",
              "    }\n",
              "</style>\n",
              "<table border=\"1\" class=\"dataframe\">\n",
              "  <thead>\n",
              "    <tr style=\"text-align: right;\">\n",
              "      <th></th>\n",
              "      <th>시군구</th>\n",
              "      <th>청년인구</th>\n",
              "      <th>병원</th>\n",
              "      <th>사회스포츠</th>\n",
              "      <th>대학교</th>\n",
              "      <th>초중고</th>\n",
              "      <th>공항</th>\n",
              "      <th>소방서</th>\n",
              "      <th>경찰서</th>\n",
              "      <th>소형상업시설(음식점_카페_학원_편의점)</th>\n",
              "      <th>대형상업시설</th>\n",
              "      <th>숙박시설</th>\n",
              "      <th>기차역</th>\n",
              "      <th>행정기관</th>\n",
              "      <th>법원, 교도소</th>\n",
              "      <th>문화시설_영화/공연/미술관박물관</th>\n",
              "      <th>버스터미널</th>\n",
              "      <th>청년인프라지수</th>\n",
              "    </tr>\n",
              "  </thead>\n",
              "  <tbody>\n",
              "    <tr>\n",
              "      <th>20</th>\n",
              "      <td>서울_관악구</td>\n",
              "      <td>157264.0</td>\n",
              "      <td>706</td>\n",
              "      <td>140.0</td>\n",
              "      <td>1</td>\n",
              "      <td>91.0</td>\n",
              "      <td>0</td>\n",
              "      <td>1</td>\n",
              "      <td>10</td>\n",
              "      <td>6461</td>\n",
              "      <td>27</td>\n",
              "      <td>98</td>\n",
              "      <td>0</td>\n",
              "      <td>23.0</td>\n",
              "      <td>0.0</td>\n",
              "      <td>17.0</td>\n",
              "      <td>0.0</td>\n",
              "      <td>9.543519</td>\n",
              "    </tr>\n",
              "    <tr>\n",
              "      <th>19</th>\n",
              "      <td>서울_동작구</td>\n",
              "      <td>97181.0</td>\n",
              "      <td>601</td>\n",
              "      <td>105.0</td>\n",
              "      <td>3</td>\n",
              "      <td>78.0</td>\n",
              "      <td>0</td>\n",
              "      <td>1</td>\n",
              "      <td>8</td>\n",
              "      <td>4143</td>\n",
              "      <td>19</td>\n",
              "      <td>30</td>\n",
              "      <td>1</td>\n",
              "      <td>17.0</td>\n",
              "      <td>0.0</td>\n",
              "      <td>10.0</td>\n",
              "      <td>0.0</td>\n",
              "      <td>8.717949</td>\n",
              "    </tr>\n",
              "    <tr>\n",
              "      <th>6</th>\n",
              "      <td>서울_중랑구</td>\n",
              "      <td>83722.0</td>\n",
              "      <td>539</td>\n",
              "      <td>96.0</td>\n",
              "      <td>1</td>\n",
              "      <td>76.0</td>\n",
              "      <td>0</td>\n",
              "      <td>1</td>\n",
              "      <td>9</td>\n",
              "      <td>4410</td>\n",
              "      <td>14</td>\n",
              "      <td>89</td>\n",
              "      <td>7</td>\n",
              "      <td>18.0</td>\n",
              "      <td>0.0</td>\n",
              "      <td>5.0</td>\n",
              "      <td>1.0</td>\n",
              "      <td>7.320742</td>\n",
              "    </tr>\n",
              "    <tr>\n",
              "      <th>10</th>\n",
              "      <td>서울_노원구</td>\n",
              "      <td>101260.0</td>\n",
              "      <td>747</td>\n",
              "      <td>205.0</td>\n",
              "      <td>6</td>\n",
              "      <td>159.0</td>\n",
              "      <td>0</td>\n",
              "      <td>1</td>\n",
              "      <td>9</td>\n",
              "      <td>5218</td>\n",
              "      <td>25</td>\n",
              "      <td>26</td>\n",
              "      <td>3</td>\n",
              "      <td>21.0</td>\n",
              "      <td>0.0</td>\n",
              "      <td>19.0</td>\n",
              "      <td>0.0</td>\n",
              "      <td>7.225419</td>\n",
              "    </tr>\n",
              "    <tr>\n",
              "      <th>9</th>\n",
              "      <td>서울_도봉구</td>\n",
              "      <td>61212.0</td>\n",
              "      <td>370</td>\n",
              "      <td>90.0</td>\n",
              "      <td>1</td>\n",
              "      <td>71.0</td>\n",
              "      <td>0</td>\n",
              "      <td>1</td>\n",
              "      <td>9</td>\n",
              "      <td>3429</td>\n",
              "      <td>15</td>\n",
              "      <td>21</td>\n",
              "      <td>5</td>\n",
              "      <td>16.0</td>\n",
              "      <td>1.0</td>\n",
              "      <td>12.0</td>\n",
              "      <td>0.0</td>\n",
              "      <td>6.984627</td>\n",
              "    </tr>\n",
              "    <tr>\n",
              "      <th>...</th>\n",
              "      <td>...</td>\n",
              "      <td>...</td>\n",
              "      <td>...</td>\n",
              "      <td>...</td>\n",
              "      <td>...</td>\n",
              "      <td>...</td>\n",
              "      <td>...</td>\n",
              "      <td>...</td>\n",
              "      <td>...</td>\n",
              "      <td>...</td>\n",
              "      <td>...</td>\n",
              "      <td>...</td>\n",
              "      <td>...</td>\n",
              "      <td>...</td>\n",
              "      <td>...</td>\n",
              "      <td>...</td>\n",
              "      <td>...</td>\n",
              "      <td>...</td>\n",
              "    </tr>\n",
              "    <tr>\n",
              "      <th>59</th>\n",
              "      <td>광주_동구</td>\n",
              "      <td>21164.0</td>\n",
              "      <td>231</td>\n",
              "      <td>115.0</td>\n",
              "      <td>3</td>\n",
              "      <td>40.0</td>\n",
              "      <td>0</td>\n",
              "      <td>1</td>\n",
              "      <td>6</td>\n",
              "      <td>3261</td>\n",
              "      <td>25</td>\n",
              "      <td>128</td>\n",
              "      <td>0</td>\n",
              "      <td>14.0</td>\n",
              "      <td>2.0</td>\n",
              "      <td>42.0</td>\n",
              "      <td>0.0</td>\n",
              "      <td>2.722756</td>\n",
              "    </tr>\n",
              "    <tr>\n",
              "      <th>58</th>\n",
              "      <td>인천_옹진군</td>\n",
              "      <td>3526.0</td>\n",
              "      <td>28</td>\n",
              "      <td>27.0</td>\n",
              "      <td>0</td>\n",
              "      <td>26.0</td>\n",
              "      <td>0</td>\n",
              "      <td>0</td>\n",
              "      <td>6</td>\n",
              "      <td>733</td>\n",
              "      <td>0</td>\n",
              "      <td>333</td>\n",
              "      <td>0</td>\n",
              "      <td>7.0</td>\n",
              "      <td>0.0</td>\n",
              "      <td>1.0</td>\n",
              "      <td>0.0</td>\n",
              "      <td>2.622797</td>\n",
              "    </tr>\n",
              "    <tr>\n",
              "      <th>57</th>\n",
              "      <td>인천_강화군</td>\n",
              "      <td>7579.0</td>\n",
              "      <td>87</td>\n",
              "      <td>120.0</td>\n",
              "      <td>1</td>\n",
              "      <td>56.0</td>\n",
              "      <td>0</td>\n",
              "      <td>1</td>\n",
              "      <td>14</td>\n",
              "      <td>1998</td>\n",
              "      <td>2</td>\n",
              "      <td>305</td>\n",
              "      <td>1</td>\n",
              "      <td>14.0</td>\n",
              "      <td>1.0</td>\n",
              "      <td>19.0</td>\n",
              "      <td>1.0</td>\n",
              "      <td>1.748364</td>\n",
              "    </tr>\n",
              "    <tr>\n",
              "      <th>25</th>\n",
              "      <td>부산_중구</td>\n",
              "      <td>8049.0</td>\n",
              "      <td>140</td>\n",
              "      <td>15.0</td>\n",
              "      <td>0</td>\n",
              "      <td>14.0</td>\n",
              "      <td>0</td>\n",
              "      <td>1</td>\n",
              "      <td>6</td>\n",
              "      <td>2058</td>\n",
              "      <td>21</td>\n",
              "      <td>125</td>\n",
              "      <td>0</td>\n",
              "      <td>11.0</td>\n",
              "      <td>0.0</td>\n",
              "      <td>21.0</td>\n",
              "      <td>0.0</td>\n",
              "      <td>1.662495</td>\n",
              "    </tr>\n",
              "    <tr>\n",
              "      <th>41</th>\n",
              "      <td>대구_중구</td>\n",
              "      <td>16533.0</td>\n",
              "      <td>460</td>\n",
              "      <td>37.0</td>\n",
              "      <td>0</td>\n",
              "      <td>31.0</td>\n",
              "      <td>0</td>\n",
              "      <td>1</td>\n",
              "      <td>5</td>\n",
              "      <td>4209</td>\n",
              "      <td>31</td>\n",
              "      <td>102</td>\n",
              "      <td>0</td>\n",
              "      <td>15.0</td>\n",
              "      <td>0.0</td>\n",
              "      <td>48.0</td>\n",
              "      <td>0.0</td>\n",
              "      <td>1.546091</td>\n",
              "    </tr>\n",
              "  </tbody>\n",
              "</table>\n",
              "<p>72 rows × 18 columns</p>\n",
              "</div>"
            ],
            "text/plain": [
              "       시군구      청년인구   병원  사회스포츠  ...  법원, 교도소  문화시설_영화/공연/미술관박물관  버스터미널   청년인프라지수\n",
              "20  서울_관악구  157264.0  706  140.0  ...      0.0               17.0    0.0  9.543519\n",
              "19  서울_동작구   97181.0  601  105.0  ...      0.0               10.0    0.0  8.717949\n",
              "6   서울_중랑구   83722.0  539   96.0  ...      0.0                5.0    1.0  7.320742\n",
              "10  서울_노원구  101260.0  747  205.0  ...      0.0               19.0    0.0  7.225419\n",
              "9   서울_도봉구   61212.0  370   90.0  ...      1.0               12.0    0.0  6.984627\n",
              "..     ...       ...  ...    ...  ...      ...                ...    ...       ...\n",
              "59   광주_동구   21164.0  231  115.0  ...      2.0               42.0    0.0  2.722756\n",
              "58  인천_옹진군    3526.0   28   27.0  ...      0.0                1.0    0.0  2.622797\n",
              "57  인천_강화군    7579.0   87  120.0  ...      1.0               19.0    1.0  1.748364\n",
              "25   부산_중구    8049.0  140   15.0  ...      0.0               21.0    0.0  1.662495\n",
              "41   대구_중구   16533.0  460   37.0  ...      0.0               48.0    0.0  1.546091\n",
              "\n",
              "[72 rows x 18 columns]"
            ]
          },
          "metadata": {},
          "execution_count": 80
        }
      ]
    },
    {
      "cell_type": "code",
      "metadata": {
        "colab": {
          "base_uri": "https://localhost:8080/",
          "height": 284
        },
        "id": "RXlVfXn4Xyyj",
        "outputId": "86578810-2da2-4a8a-d471-975e62da19e3"
      },
      "source": [
        "plt.plot(df['청년인구'], df['청년인프라지수'], 'ro')\n",
        "plt.axhline(y=5.8, color='b', linewidth=1)\n",
        "plt.axhline(y=3.8, color='b', linewidth=1)"
      ],
      "execution_count": 88,
      "outputs": [
        {
          "output_type": "execute_result",
          "data": {
            "text/plain": [
              "<matplotlib.lines.Line2D at 0x7f211ed87a10>"
            ]
          },
          "metadata": {},
          "execution_count": 88
        },
        {
          "output_type": "display_data",
          "data": {
            "image/png": "[encoded data removed]",
            "text/plain": [
              "<Figure size 432x288 with 1 Axes>"
            ]
          },
          "metadata": {
            "needs_background": "light"
          }
        }
      ]
    },
    {
      "cell_type": "markdown",
      "metadata": {
        "id": "FlMSGR_WaQuw"
      },
      "source": [
        "\n",
        "### 청년인구 / 가중치값 : 지수가 클수록 인프라대비 청년인구가 많다.\n",
        "\n",
        "### + 평균 지수에 가까울수록 적정인구이다 *"
      ]
    },
    {
      "cell_type": "markdown",
      "metadata": {
        "id": "p9RoizPpeVb0"
      },
      "source": [
        "의미부여 : 도시인구집중 문제를 해결하기위해 신도시개발을 할때  해당 지수를 사용시 목표도시인구를 인프라설계에 도움을 줄수있다?"
      ]
    },
    {
      "cell_type": "code",
      "metadata": {
        "colab": {
          "base_uri": "https://localhost:8080/"
        },
        "id": "mN7QusJRYNV9",
        "outputId": "4a0b48a0-d9cb-4e9a-9214-88f2f2a009fb"
      },
      "source": [
        "df[df['시군구']=='세종시']['청년인프라지수']"
      ],
      "execution_count": 92,
      "outputs": [
        {
          "output_type": "execute_result",
          "data": {
            "text/plain": [
              "74    4.538125\n",
              "Name: 청년인프라지수, dtype: float64"
            ]
          },
          "metadata": {},
          "execution_count": 92
        }
      ]
    },
    {
      "cell_type": "markdown",
      "metadata": {
        "id": "VRAowX3bgH_C"
      },
      "source": [
        "세종시에 청년인구를 더 수용할수있는 인프라를 가지고 있다."
      ]
    },
    {
      "cell_type": "code",
      "metadata": {
        "id": "glCeIRydfnho"
      },
      "source": [
        ""
      ],
      "execution_count": null,
      "outputs": []
    }
  ]
}