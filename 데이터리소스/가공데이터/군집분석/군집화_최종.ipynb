{
 "cells": [
  {
   "cell_type": "code",
   "execution_count": 2,
   "id": "ebe69da1",
   "metadata": {},
   "outputs": [],
   "source": [
    "import pandas as pd\n",
    "import numpy as np\n",
    "import seaborn as sns\n",
    "from patsy import dmatrices\n",
    "import statsmodels.api as sm\n",
    "from statsmodels.stats.outliers_influence import variance_inflation_factor\n",
    "from sklearn.preprocessing import MinMaxScaler"
   ]
  },
  {
   "cell_type": "code",
   "execution_count": 3,
   "id": "81ac82cb",
   "metadata": {},
   "outputs": [],
   "source": [
    "#플롯에서 한글이 깨지는 경우가 없도록 폰트 지정\n",
    "from matplotlib import font_manager, rc\n",
    "font_path = \"C:/Windows/Fonts/NGULIM.TTF\"\n",
    "font = font_manager.FontProperties(fname=font_path).get_name()\n",
    "rc('font', family=font)"
   ]
  },
  {
   "cell_type": "code",
   "execution_count": 4,
   "id": "1989e3b2",
   "metadata": {
    "scrolled": true
   },
   "outputs": [
    {
     "data": {
      "text/html": [
       "<div>\n",
       "<style scoped>\n",
       "    .dataframe tbody tr th:only-of-type {\n",
       "        vertical-align: middle;\n",
       "    }\n",
       "\n",
       "    .dataframe tbody tr th {\n",
       "        vertical-align: top;\n",
       "    }\n",
       "\n",
       "    .dataframe thead th {\n",
       "        text-align: right;\n",
       "    }\n",
       "</style>\n",
       "<table border=\"1\" class=\"dataframe\">\n",
       "  <thead>\n",
       "    <tr style=\"text-align: right;\">\n",
       "      <th></th>\n",
       "      <th>청년인구</th>\n",
       "      <th>병원</th>\n",
       "      <th>사회스포츠</th>\n",
       "      <th>대학교</th>\n",
       "      <th>초중고</th>\n",
       "      <th>공항</th>\n",
       "      <th>소방서</th>\n",
       "      <th>경찰서</th>\n",
       "      <th>소형상업시설(음식점_카페_학원_편의점)</th>\n",
       "      <th>대형상업시설</th>\n",
       "      <th>숙박시설</th>\n",
       "      <th>기차역</th>\n",
       "      <th>행정기관</th>\n",
       "      <th>법원, 교도소</th>\n",
       "      <th>문화시설_영화/공연/미술관박물관</th>\n",
       "      <th>버스터미널</th>\n",
       "      <th>인프라수</th>\n",
       "    </tr>\n",
       "  </thead>\n",
       "  <tbody>\n",
       "    <tr>\n",
       "      <th>0</th>\n",
       "      <td>0.191345</td>\n",
       "      <td>0.172503</td>\n",
       "      <td>0.052846</td>\n",
       "      <td>0.500000</td>\n",
       "      <td>0.258427</td>\n",
       "      <td>0.0</td>\n",
       "      <td>0.5</td>\n",
       "      <td>1.00</td>\n",
       "      <td>0.346292</td>\n",
       "      <td>0.387097</td>\n",
       "      <td>0.582278</td>\n",
       "      <td>0.0</td>\n",
       "      <td>0.521739</td>\n",
       "      <td>0.000000</td>\n",
       "      <td>1.000000</td>\n",
       "      <td>0.00</td>\n",
       "      <td>0.331672</td>\n",
       "    </tr>\n",
       "    <tr>\n",
       "      <th>1</th>\n",
       "      <td>0.160995</td>\n",
       "      <td>0.200516</td>\n",
       "      <td>0.004065</td>\n",
       "      <td>0.333333</td>\n",
       "      <td>0.191011</td>\n",
       "      <td>0.0</td>\n",
       "      <td>0.5</td>\n",
       "      <td>0.70</td>\n",
       "      <td>0.322245</td>\n",
       "      <td>1.000000</td>\n",
       "      <td>0.835443</td>\n",
       "      <td>0.1</td>\n",
       "      <td>0.478261</td>\n",
       "      <td>0.000000</td>\n",
       "      <td>0.207650</td>\n",
       "      <td>0.00</td>\n",
       "      <td>0.304525</td>\n",
       "    </tr>\n",
       "    <tr>\n",
       "      <th>2</th>\n",
       "      <td>0.318906</td>\n",
       "      <td>0.107261</td>\n",
       "      <td>0.016260</td>\n",
       "      <td>0.166667</td>\n",
       "      <td>0.185393</td>\n",
       "      <td>0.0</td>\n",
       "      <td>0.5</td>\n",
       "      <td>0.30</td>\n",
       "      <td>0.299584</td>\n",
       "      <td>0.370968</td>\n",
       "      <td>0.275316</td>\n",
       "      <td>0.9</td>\n",
       "      <td>0.478261</td>\n",
       "      <td>0.166667</td>\n",
       "      <td>0.128415</td>\n",
       "      <td>0.00</td>\n",
       "      <td>0.257388</td>\n",
       "    </tr>\n",
       "    <tr>\n",
       "      <th>3</th>\n",
       "      <td>0.414634</td>\n",
       "      <td>0.158128</td>\n",
       "      <td>0.024390</td>\n",
       "      <td>0.333333</td>\n",
       "      <td>0.308989</td>\n",
       "      <td>0.0</td>\n",
       "      <td>0.5</td>\n",
       "      <td>0.35</td>\n",
       "      <td>0.265350</td>\n",
       "      <td>0.354839</td>\n",
       "      <td>0.142405</td>\n",
       "      <td>0.3</td>\n",
       "      <td>0.521739</td>\n",
       "      <td>0.000000</td>\n",
       "      <td>0.081967</td>\n",
       "      <td>0.00</td>\n",
       "      <td>0.234708</td>\n",
       "    </tr>\n",
       "    <tr>\n",
       "      <th>4</th>\n",
       "      <td>0.569801</td>\n",
       "      <td>0.195356</td>\n",
       "      <td>0.247967</td>\n",
       "      <td>0.500000</td>\n",
       "      <td>0.348315</td>\n",
       "      <td>0.0</td>\n",
       "      <td>0.5</td>\n",
       "      <td>0.45</td>\n",
       "      <td>0.337907</td>\n",
       "      <td>0.419355</td>\n",
       "      <td>0.155063</td>\n",
       "      <td>0.0</td>\n",
       "      <td>0.434783</td>\n",
       "      <td>0.000000</td>\n",
       "      <td>0.065574</td>\n",
       "      <td>0.25</td>\n",
       "      <td>0.304066</td>\n",
       "    </tr>\n",
       "  </tbody>\n",
       "</table>\n",
       "</div>"
      ],
      "text/plain": [
       "       청년인구        병원     사회스포츠       대학교       초중고   공항  소방서   경찰서  \\\n",
       "0  0.191345  0.172503  0.052846  0.500000  0.258427  0.0  0.5  1.00   \n",
       "1  0.160995  0.200516  0.004065  0.333333  0.191011  0.0  0.5  0.70   \n",
       "2  0.318906  0.107261  0.016260  0.166667  0.185393  0.0  0.5  0.30   \n",
       "3  0.414634  0.158128  0.024390  0.333333  0.308989  0.0  0.5  0.35   \n",
       "4  0.569801  0.195356  0.247967  0.500000  0.348315  0.0  0.5  0.45   \n",
       "\n",
       "   소형상업시설(음식점_카페_학원_편의점)    대형상업시설      숙박시설  기차역      행정기관   법원, 교도소  \\\n",
       "0               0.346292  0.387097  0.582278  0.0  0.521739  0.000000   \n",
       "1               0.322245  1.000000  0.835443  0.1  0.478261  0.000000   \n",
       "2               0.299584  0.370968  0.275316  0.9  0.478261  0.166667   \n",
       "3               0.265350  0.354839  0.142405  0.3  0.521739  0.000000   \n",
       "4               0.337907  0.419355  0.155063  0.0  0.434783  0.000000   \n",
       "\n",
       "   문화시설_영화/공연/미술관박물관  버스터미널      인프라수  \n",
       "0           1.000000   0.00  0.331672  \n",
       "1           0.207650   0.00  0.304525  \n",
       "2           0.128415   0.00  0.257388  \n",
       "3           0.081967   0.00  0.234708  \n",
       "4           0.065574   0.25  0.304066  "
      ]
     },
     "execution_count": 4,
     "metadata": {},
     "output_type": "execute_result"
    }
   ],
   "source": [
    "scaler = MinMaxScaler()\n",
    "\n",
    "df = pd.read_csv('Add_Class_청년인구_인프라수.csv', encoding='cp949')\n",
    "\n",
    "df = df.drop('Unnamed: 0',axis=1)\n",
    "\n",
    "df_city = df['시군구']\n",
    "df_Class = df['Class']\n",
    "df_data = df.drop(['시군구','Class'], axis=1)\n",
    "\n",
    "df_data[:] = scaler.fit_transform(df_data[:])\n",
    "df_data.head()"
   ]
  },
  {
   "cell_type": "code",
   "execution_count": 5,
   "id": "d632d9eb",
   "metadata": {},
   "outputs": [
    {
     "data": {
      "text/html": [
       "<table class=\"simpletable\">\n",
       "<caption>OLS Regression Results</caption>\n",
       "<tr>\n",
       "  <th>Dep. Variable:</th>          <td>청년인구</td>       <th>  R-squared (uncentered):</th>      <td>   0.934</td>\n",
       "</tr>\n",
       "<tr>\n",
       "  <th>Model:</th>                   <td>OLS</td>       <th>  Adj. R-squared (uncentered):</th> <td>   0.931</td>\n",
       "</tr>\n",
       "<tr>\n",
       "  <th>Method:</th>             <td>Least Squares</td>  <th>  F-statistic:       </th>          <td>   253.0</td>\n",
       "</tr>\n",
       "<tr>\n",
       "  <th>Date:</th>             <td>Wed, 18 Aug 2021</td> <th>  Prob (F-statistic):</th>          <td>3.35e-41</td>\n",
       "</tr>\n",
       "<tr>\n",
       "  <th>Time:</th>                 <td>17:03:52</td>     <th>  Log-Likelihood:    </th>          <td>  57.385</td>\n",
       "</tr>\n",
       "<tr>\n",
       "  <th>No. Observations:</th>      <td>    75</td>      <th>  AIC:               </th>          <td>  -106.8</td>\n",
       "</tr>\n",
       "<tr>\n",
       "  <th>Df Residuals:</th>          <td>    71</td>      <th>  BIC:               </th>          <td>  -97.50</td>\n",
       "</tr>\n",
       "<tr>\n",
       "  <th>Df Model:</th>              <td>     4</td>      <th>                     </th>              <td> </td>   \n",
       "</tr>\n",
       "<tr>\n",
       "  <th>Covariance Type:</th>      <td>nonrobust</td>    <th>                     </th>              <td> </td>   \n",
       "</tr>\n",
       "</table>\n",
       "<table class=\"simpletable\">\n",
       "<tr>\n",
       "            <td></td>               <th>coef</th>     <th>std err</th>      <th>t</th>      <th>P>|t|</th>  <th>[0.025</th>    <th>0.975]</th>  \n",
       "</tr>\n",
       "<tr>\n",
       "  <th>소형상업시설(음식점_카페_학원_편의점)</th> <td>    0.7471</td> <td>    0.121</td> <td>    6.161</td> <td> 0.000</td> <td>    0.505</td> <td>    0.989</td>\n",
       "</tr>\n",
       "<tr>\n",
       "  <th>숙박시설</th>                  <td>   -0.1581</td> <td>    0.056</td> <td>   -2.833</td> <td> 0.006</td> <td>   -0.269</td> <td>   -0.047</td>\n",
       "</tr>\n",
       "<tr>\n",
       "  <th>행정기관</th>                  <td>    0.4624</td> <td>    0.080</td> <td>    5.784</td> <td> 0.000</td> <td>    0.303</td> <td>    0.622</td>\n",
       "</tr>\n",
       "<tr>\n",
       "  <th>문화시설_영화/공연/미술관박물관</th>     <td>   -0.2874</td> <td>    0.120</td> <td>   -2.394</td> <td> 0.019</td> <td>   -0.527</td> <td>   -0.048</td>\n",
       "</tr>\n",
       "</table>\n",
       "<table class=\"simpletable\">\n",
       "<tr>\n",
       "  <th>Omnibus:</th>       <td> 9.059</td> <th>  Durbin-Watson:     </th> <td>   1.008</td>\n",
       "</tr>\n",
       "<tr>\n",
       "  <th>Prob(Omnibus):</th> <td> 0.011</td> <th>  Jarque-Bera (JB):  </th> <td>  10.757</td>\n",
       "</tr>\n",
       "<tr>\n",
       "  <th>Skew:</th>          <td> 0.554</td> <th>  Prob(JB):          </th> <td> 0.00461</td>\n",
       "</tr>\n",
       "<tr>\n",
       "  <th>Kurtosis:</th>      <td> 4.489</td> <th>  Cond. No.          </th> <td>    7.24</td>\n",
       "</tr>\n",
       "</table><br/><br/>Notes:<br/>[1] R² is computed without centering (uncentered) since the model does not contain a constant.<br/>[2] Standard Errors assume that the covariance matrix of the errors is correctly specified."
      ],
      "text/plain": [
       "<class 'statsmodels.iolib.summary.Summary'>\n",
       "\"\"\"\n",
       "                                 OLS Regression Results                                \n",
       "=======================================================================================\n",
       "Dep. Variable:                   청년인구   R-squared (uncentered):                   0.934\n",
       "Model:                            OLS   Adj. R-squared (uncentered):              0.931\n",
       "Method:                 Least Squares   F-statistic:                              253.0\n",
       "Date:                Wed, 18 Aug 2021   Prob (F-statistic):                    3.35e-41\n",
       "Time:                        17:03:52   Log-Likelihood:                          57.385\n",
       "No. Observations:                  75   AIC:                                     -106.8\n",
       "Df Residuals:                      71   BIC:                                     -97.50\n",
       "Df Model:                           4                                                  \n",
       "Covariance Type:            nonrobust                                                  \n",
       "=========================================================================================\n",
       "                            coef    std err          t      P>|t|      [0.025      0.975]\n",
       "-----------------------------------------------------------------------------------------\n",
       "소형상업시설(음식점_카페_학원_편의점)     0.7471      0.121      6.161      0.000       0.505       0.989\n",
       "숙박시설                     -0.1581      0.056     -2.833      0.006      -0.269      -0.047\n",
       "행정기관                      0.4624      0.080      5.784      0.000       0.303       0.622\n",
       "문화시설_영화/공연/미술관박물관        -0.2874      0.120     -2.394      0.019      -0.527      -0.048\n",
       "==============================================================================\n",
       "Omnibus:                        9.059   Durbin-Watson:                   1.008\n",
       "Prob(Omnibus):                  0.011   Jarque-Bera (JB):               10.757\n",
       "Skew:                           0.554   Prob(JB):                      0.00461\n",
       "Kurtosis:                       4.489   Cond. No.                         7.24\n",
       "==============================================================================\n",
       "\n",
       "Notes:\n",
       "[1] R² is computed without centering (uncentered) since the model does not contain a constant.\n",
       "[2] Standard Errors assume that the covariance matrix of the errors is correctly specified.\n",
       "\"\"\""
      ]
     },
     "execution_count": 5,
     "metadata": {},
     "output_type": "execute_result"
    }
   ],
   "source": [
    "#회귀분석에서 소형상업시설, 숙박시설, 행정기관, 문화시설이 유의미한 영향이 있다고 확인\n",
    "df_data['intercept'] = 1\n",
    "lm = sm.OLS(df_data['청년인구'], df_data[['소형상업시설(음식점_카페_학원_편의점)', '숙박시설', '행정기관', '문화시설_영화/공연/미술관박물관']])\n",
    "results = lm.fit()\n",
    "results.summary()"
   ]
  },
  {
   "cell_type": "code",
   "execution_count": 6,
   "id": "e31955a2",
   "metadata": {},
   "outputs": [
    {
     "data": {
      "text/html": [
       "<div>\n",
       "<style scoped>\n",
       "    .dataframe tbody tr th:only-of-type {\n",
       "        vertical-align: middle;\n",
       "    }\n",
       "\n",
       "    .dataframe tbody tr th {\n",
       "        vertical-align: top;\n",
       "    }\n",
       "\n",
       "    .dataframe thead th {\n",
       "        text-align: right;\n",
       "    }\n",
       "</style>\n",
       "<table border=\"1\" class=\"dataframe\">\n",
       "  <thead>\n",
       "    <tr style=\"text-align: right;\">\n",
       "      <th></th>\n",
       "      <th>컬럼</th>\n",
       "      <th>VIF</th>\n",
       "    </tr>\n",
       "  </thead>\n",
       "  <tbody>\n",
       "    <tr>\n",
       "      <th>0</th>\n",
       "      <td>소형상업시설(음식점_카페_학원_편의점)</td>\n",
       "      <td>9.847976</td>\n",
       "    </tr>\n",
       "    <tr>\n",
       "      <th>1</th>\n",
       "      <td>숙박시설</td>\n",
       "      <td>2.242281</td>\n",
       "    </tr>\n",
       "    <tr>\n",
       "      <th>2</th>\n",
       "      <td>행정기관</td>\n",
       "      <td>9.042207</td>\n",
       "    </tr>\n",
       "    <tr>\n",
       "      <th>3</th>\n",
       "      <td>문화시설_영화/공연/미술관박물관</td>\n",
       "      <td>1.520516</td>\n",
       "    </tr>\n",
       "  </tbody>\n",
       "</table>\n",
       "</div>"
      ],
      "text/plain": [
       "                      컬럼       VIF\n",
       "0  소형상업시설(음식점_카페_학원_편의점)  9.847976\n",
       "1                   숙박시설  2.242281\n",
       "2                   행정기관  9.042207\n",
       "3      문화시설_영화/공연/미술관박물관  1.520516"
      ]
     },
     "execution_count": 6,
     "metadata": {},
     "output_type": "execute_result"
    }
   ],
   "source": [
    "from statsmodels.stats.outliers_influence import variance_inflation_factor\n",
    "\n",
    "pd.DataFrame({'컬럼': column, 'VIF': variance_inflation_factor(lm.exog, i)} \n",
    "             for i, column in enumerate(lm.exog_names)\n",
    "                 if column != 'Intercept')  # 절편의 VIF는 구하지 않는다."
   ]
  },
  {
   "cell_type": "code",
   "execution_count": 7,
   "id": "272817df",
   "metadata": {},
   "outputs": [
    {
     "data": {
      "text/html": [
       "<table class=\"simpletable\">\n",
       "<caption>OLS Regression Results</caption>\n",
       "<tr>\n",
       "  <th>Dep. Variable:</th>          <td>청년인구</td>       <th>  R-squared (uncentered):</th>      <td>   0.899</td>\n",
       "</tr>\n",
       "<tr>\n",
       "  <th>Model:</th>                   <td>OLS</td>       <th>  Adj. R-squared (uncentered):</th> <td>   0.895</td>\n",
       "</tr>\n",
       "<tr>\n",
       "  <th>Method:</th>             <td>Least Squares</td>  <th>  F-statistic:       </th>          <td>   214.5</td>\n",
       "</tr>\n",
       "<tr>\n",
       "  <th>Date:</th>             <td>Wed, 18 Aug 2021</td> <th>  Prob (F-statistic):</th>          <td>8.10e-36</td>\n",
       "</tr>\n",
       "<tr>\n",
       "  <th>Time:</th>                 <td>17:03:52</td>     <th>  Log-Likelihood:    </th>          <td>  41.325</td>\n",
       "</tr>\n",
       "<tr>\n",
       "  <th>No. Observations:</th>      <td>    75</td>      <th>  AIC:               </th>          <td>  -76.65</td>\n",
       "</tr>\n",
       "<tr>\n",
       "  <th>Df Residuals:</th>          <td>    72</td>      <th>  BIC:               </th>          <td>  -69.70</td>\n",
       "</tr>\n",
       "<tr>\n",
       "  <th>Df Model:</th>              <td>     3</td>      <th>                     </th>              <td> </td>   \n",
       "</tr>\n",
       "<tr>\n",
       "  <th>Covariance Type:</th>      <td>nonrobust</td>    <th>                     </th>              <td> </td>   \n",
       "</tr>\n",
       "</table>\n",
       "<table class=\"simpletable\">\n",
       "<tr>\n",
       "          <td></td>             <th>coef</th>     <th>std err</th>      <th>t</th>      <th>P>|t|</th>  <th>[0.025</th>    <th>0.975]</th>  \n",
       "</tr>\n",
       "<tr>\n",
       "  <th>숙박시설</th>              <td>   -0.0903</td> <td>    0.067</td> <td>   -1.342</td> <td> 0.184</td> <td>   -0.224</td> <td>    0.044</td>\n",
       "</tr>\n",
       "<tr>\n",
       "  <th>행정기관</th>              <td>    0.8940</td> <td>    0.047</td> <td>   18.873</td> <td> 0.000</td> <td>    0.800</td> <td>    0.988</td>\n",
       "</tr>\n",
       "<tr>\n",
       "  <th>문화시설_영화/공연/미술관박물관</th> <td>   -0.1540</td> <td>    0.145</td> <td>   -1.060</td> <td> 0.293</td> <td>   -0.444</td> <td>    0.136</td>\n",
       "</tr>\n",
       "</table>\n",
       "<table class=\"simpletable\">\n",
       "<tr>\n",
       "  <th>Omnibus:</th>       <td> 0.513</td> <th>  Durbin-Watson:     </th> <td>   1.074</td>\n",
       "</tr>\n",
       "<tr>\n",
       "  <th>Prob(Omnibus):</th> <td> 0.774</td> <th>  Jarque-Bera (JB):  </th> <td>   0.576</td>\n",
       "</tr>\n",
       "<tr>\n",
       "  <th>Skew:</th>          <td> 0.187</td> <th>  Prob(JB):          </th> <td>   0.750</td>\n",
       "</tr>\n",
       "<tr>\n",
       "  <th>Kurtosis:</th>      <td> 2.788</td> <th>  Cond. No.          </th> <td>    5.20</td>\n",
       "</tr>\n",
       "</table><br/><br/>Notes:<br/>[1] R² is computed without centering (uncentered) since the model does not contain a constant.<br/>[2] Standard Errors assume that the covariance matrix of the errors is correctly specified."
      ],
      "text/plain": [
       "<class 'statsmodels.iolib.summary.Summary'>\n",
       "\"\"\"\n",
       "                                 OLS Regression Results                                \n",
       "=======================================================================================\n",
       "Dep. Variable:                   청년인구   R-squared (uncentered):                   0.899\n",
       "Model:                            OLS   Adj. R-squared (uncentered):              0.895\n",
       "Method:                 Least Squares   F-statistic:                              214.5\n",
       "Date:                Wed, 18 Aug 2021   Prob (F-statistic):                    8.10e-36\n",
       "Time:                        17:03:52   Log-Likelihood:                          41.325\n",
       "No. Observations:                  75   AIC:                                     -76.65\n",
       "Df Residuals:                      72   BIC:                                     -69.70\n",
       "Df Model:                           3                                                  \n",
       "Covariance Type:            nonrobust                                                  \n",
       "=====================================================================================\n",
       "                        coef    std err          t      P>|t|      [0.025      0.975]\n",
       "-------------------------------------------------------------------------------------\n",
       "숙박시설                 -0.0903      0.067     -1.342      0.184      -0.224       0.044\n",
       "행정기관                  0.8940      0.047     18.873      0.000       0.800       0.988\n",
       "문화시설_영화/공연/미술관박물관    -0.1540      0.145     -1.060      0.293      -0.444       0.136\n",
       "==============================================================================\n",
       "Omnibus:                        0.513   Durbin-Watson:                   1.074\n",
       "Prob(Omnibus):                  0.774   Jarque-Bera (JB):                0.576\n",
       "Skew:                           0.187   Prob(JB):                        0.750\n",
       "Kurtosis:                       2.788   Cond. No.                         5.20\n",
       "==============================================================================\n",
       "\n",
       "Notes:\n",
       "[1] R² is computed without centering (uncentered) since the model does not contain a constant.\n",
       "[2] Standard Errors assume that the covariance matrix of the errors is correctly specified.\n",
       "\"\"\""
      ]
     },
     "execution_count": 7,
     "metadata": {},
     "output_type": "execute_result"
    }
   ],
   "source": [
    "lm = sm.OLS(df_data['청년인구'], df_data[['숙박시설', '행정기관', '문화시설_영화/공연/미술관박물관']])\n",
    "results = lm.fit()\n",
    "results.summary()"
   ]
  },
  {
   "cell_type": "code",
   "execution_count": 8,
   "id": "302637b0",
   "metadata": {},
   "outputs": [
    {
     "data": {
      "text/html": [
       "<div>\n",
       "<style scoped>\n",
       "    .dataframe tbody tr th:only-of-type {\n",
       "        vertical-align: middle;\n",
       "    }\n",
       "\n",
       "    .dataframe tbody tr th {\n",
       "        vertical-align: top;\n",
       "    }\n",
       "\n",
       "    .dataframe thead th {\n",
       "        text-align: right;\n",
       "    }\n",
       "</style>\n",
       "<table border=\"1\" class=\"dataframe\">\n",
       "  <thead>\n",
       "    <tr style=\"text-align: right;\">\n",
       "      <th></th>\n",
       "      <th>컬럼</th>\n",
       "      <th>VIF</th>\n",
       "    </tr>\n",
       "  </thead>\n",
       "  <tbody>\n",
       "    <tr>\n",
       "      <th>0</th>\n",
       "      <td>숙박시설</td>\n",
       "      <td>2.155128</td>\n",
       "    </tr>\n",
       "    <tr>\n",
       "      <th>1</th>\n",
       "      <td>행정기관</td>\n",
       "      <td>2.098069</td>\n",
       "    </tr>\n",
       "    <tr>\n",
       "      <th>2</th>\n",
       "      <td>문화시설_영화/공연/미술관박물관</td>\n",
       "      <td>1.471060</td>\n",
       "    </tr>\n",
       "  </tbody>\n",
       "</table>\n",
       "</div>"
      ],
      "text/plain": [
       "                  컬럼       VIF\n",
       "0               숙박시설  2.155128\n",
       "1               행정기관  2.098069\n",
       "2  문화시설_영화/공연/미술관박물관  1.471060"
      ]
     },
     "execution_count": 8,
     "metadata": {},
     "output_type": "execute_result"
    }
   ],
   "source": [
    "pd.DataFrame({'컬럼': column, 'VIF': variance_inflation_factor(lm.exog, i)} \n",
    "             for i, column in enumerate(lm.exog_names)\n",
    "                 if column != 'Intercept')  # 절편의 VIF는 구하지 않는다.\n",
    "\n",
    "#행정기관과 소형상업시설의 상관관게가 너무 높아 소형상업시설은 빼고 구함"
   ]
  },
  {
   "cell_type": "code",
   "execution_count": 9,
   "id": "b8d363c1",
   "metadata": {},
   "outputs": [
    {
     "data": {
      "text/html": [
       "<div>\n",
       "<style scoped>\n",
       "    .dataframe tbody tr th:only-of-type {\n",
       "        vertical-align: middle;\n",
       "    }\n",
       "\n",
       "    .dataframe tbody tr th {\n",
       "        vertical-align: top;\n",
       "    }\n",
       "\n",
       "    .dataframe thead th {\n",
       "        text-align: right;\n",
       "    }\n",
       "</style>\n",
       "<table border=\"1\" class=\"dataframe\">\n",
       "  <thead>\n",
       "    <tr style=\"text-align: right;\">\n",
       "      <th></th>\n",
       "      <th>시군구</th>\n",
       "      <th>청년인구</th>\n",
       "      <th>병원</th>\n",
       "      <th>사회스포츠</th>\n",
       "      <th>대학교</th>\n",
       "      <th>초중고</th>\n",
       "      <th>공항</th>\n",
       "      <th>소방서</th>\n",
       "      <th>경찰서</th>\n",
       "      <th>소형상업시설(음식점_카페_학원_편의점)</th>\n",
       "      <th>대형상업시설</th>\n",
       "      <th>숙박시설</th>\n",
       "      <th>기차역</th>\n",
       "      <th>행정기관</th>\n",
       "      <th>법원, 교도소</th>\n",
       "      <th>문화시설_영화/공연/미술관박물관</th>\n",
       "      <th>버스터미널</th>\n",
       "      <th>인프라수</th>\n",
       "      <th>intercept</th>\n",
       "    </tr>\n",
       "  </thead>\n",
       "  <tbody>\n",
       "    <tr>\n",
       "      <th>0</th>\n",
       "      <td>서울_종로구</td>\n",
       "      <td>0.191345</td>\n",
       "      <td>0.172503</td>\n",
       "      <td>0.052846</td>\n",
       "      <td>0.500000</td>\n",
       "      <td>0.258427</td>\n",
       "      <td>0.0</td>\n",
       "      <td>0.5</td>\n",
       "      <td>1.00</td>\n",
       "      <td>0.346292</td>\n",
       "      <td>0.387097</td>\n",
       "      <td>0.582278</td>\n",
       "      <td>0.0</td>\n",
       "      <td>0.521739</td>\n",
       "      <td>0.000000</td>\n",
       "      <td>1.000000</td>\n",
       "      <td>0.00</td>\n",
       "      <td>0.331672</td>\n",
       "      <td>1</td>\n",
       "    </tr>\n",
       "    <tr>\n",
       "      <th>1</th>\n",
       "      <td>서울_중구</td>\n",
       "      <td>0.160995</td>\n",
       "      <td>0.200516</td>\n",
       "      <td>0.004065</td>\n",
       "      <td>0.333333</td>\n",
       "      <td>0.191011</td>\n",
       "      <td>0.0</td>\n",
       "      <td>0.5</td>\n",
       "      <td>0.70</td>\n",
       "      <td>0.322245</td>\n",
       "      <td>1.000000</td>\n",
       "      <td>0.835443</td>\n",
       "      <td>0.1</td>\n",
       "      <td>0.478261</td>\n",
       "      <td>0.000000</td>\n",
       "      <td>0.207650</td>\n",
       "      <td>0.00</td>\n",
       "      <td>0.304525</td>\n",
       "      <td>1</td>\n",
       "    </tr>\n",
       "    <tr>\n",
       "      <th>2</th>\n",
       "      <td>서울_용산구</td>\n",
       "      <td>0.318906</td>\n",
       "      <td>0.107261</td>\n",
       "      <td>0.016260</td>\n",
       "      <td>0.166667</td>\n",
       "      <td>0.185393</td>\n",
       "      <td>0.0</td>\n",
       "      <td>0.5</td>\n",
       "      <td>0.30</td>\n",
       "      <td>0.299584</td>\n",
       "      <td>0.370968</td>\n",
       "      <td>0.275316</td>\n",
       "      <td>0.9</td>\n",
       "      <td>0.478261</td>\n",
       "      <td>0.166667</td>\n",
       "      <td>0.128415</td>\n",
       "      <td>0.00</td>\n",
       "      <td>0.257388</td>\n",
       "      <td>1</td>\n",
       "    </tr>\n",
       "    <tr>\n",
       "      <th>3</th>\n",
       "      <td>서울_성동구</td>\n",
       "      <td>0.414634</td>\n",
       "      <td>0.158128</td>\n",
       "      <td>0.024390</td>\n",
       "      <td>0.333333</td>\n",
       "      <td>0.308989</td>\n",
       "      <td>0.0</td>\n",
       "      <td>0.5</td>\n",
       "      <td>0.35</td>\n",
       "      <td>0.265350</td>\n",
       "      <td>0.354839</td>\n",
       "      <td>0.142405</td>\n",
       "      <td>0.3</td>\n",
       "      <td>0.521739</td>\n",
       "      <td>0.000000</td>\n",
       "      <td>0.081967</td>\n",
       "      <td>0.00</td>\n",
       "      <td>0.234708</td>\n",
       "      <td>1</td>\n",
       "    </tr>\n",
       "    <tr>\n",
       "      <th>4</th>\n",
       "      <td>서울_광진구</td>\n",
       "      <td>0.569801</td>\n",
       "      <td>0.195356</td>\n",
       "      <td>0.247967</td>\n",
       "      <td>0.500000</td>\n",
       "      <td>0.348315</td>\n",
       "      <td>0.0</td>\n",
       "      <td>0.5</td>\n",
       "      <td>0.45</td>\n",
       "      <td>0.337907</td>\n",
       "      <td>0.419355</td>\n",
       "      <td>0.155063</td>\n",
       "      <td>0.0</td>\n",
       "      <td>0.434783</td>\n",
       "      <td>0.000000</td>\n",
       "      <td>0.065574</td>\n",
       "      <td>0.25</td>\n",
       "      <td>0.304066</td>\n",
       "      <td>1</td>\n",
       "    </tr>\n",
       "  </tbody>\n",
       "</table>\n",
       "</div>"
      ],
      "text/plain": [
       "      시군구      청년인구        병원     사회스포츠       대학교       초중고   공항  소방서   경찰서  \\\n",
       "0  서울_종로구  0.191345  0.172503  0.052846  0.500000  0.258427  0.0  0.5  1.00   \n",
       "1   서울_중구  0.160995  0.200516  0.004065  0.333333  0.191011  0.0  0.5  0.70   \n",
       "2  서울_용산구  0.318906  0.107261  0.016260  0.166667  0.185393  0.0  0.5  0.30   \n",
       "3  서울_성동구  0.414634  0.158128  0.024390  0.333333  0.308989  0.0  0.5  0.35   \n",
       "4  서울_광진구  0.569801  0.195356  0.247967  0.500000  0.348315  0.0  0.5  0.45   \n",
       "\n",
       "   소형상업시설(음식점_카페_학원_편의점)    대형상업시설      숙박시설  기차역      행정기관   법원, 교도소  \\\n",
       "0               0.346292  0.387097  0.582278  0.0  0.521739  0.000000   \n",
       "1               0.322245  1.000000  0.835443  0.1  0.478261  0.000000   \n",
       "2               0.299584  0.370968  0.275316  0.9  0.478261  0.166667   \n",
       "3               0.265350  0.354839  0.142405  0.3  0.521739  0.000000   \n",
       "4               0.337907  0.419355  0.155063  0.0  0.434783  0.000000   \n",
       "\n",
       "   문화시설_영화/공연/미술관박물관  버스터미널      인프라수  intercept  \n",
       "0           1.000000   0.00  0.331672          1  \n",
       "1           0.207650   0.00  0.304525          1  \n",
       "2           0.128415   0.00  0.257388          1  \n",
       "3           0.081967   0.00  0.234708          1  \n",
       "4           0.065574   0.25  0.304066          1  "
      ]
     },
     "execution_count": 9,
     "metadata": {},
     "output_type": "execute_result"
    }
   ],
   "source": [
    "#정규화된 데이터에 시군구 붙여줌\n",
    "nol_df = pd.concat([df_city, df_data], axis = 1)\n",
    "nol_df.head()"
   ]
  },
  {
   "cell_type": "markdown",
   "id": "33e8332f",
   "metadata": {},
   "source": [
    "## 클러스터 결정"
   ]
  },
  {
   "cell_type": "code",
   "execution_count": 22,
   "id": "0b855ef5",
   "metadata": {},
   "outputs": [
    {
     "name": "stdout",
     "output_type": "stream",
     "text": [
      "x.shape:  (75, 3) , y.shape:  (75,)\n"
     ]
    },
    {
     "data": {
      "image/png": "[encoded data removed]",
      "text/plain": [
       "<Figure size 432x432 with 1 Axes>"
      ]
     },
     "metadata": {
      "needs_background": "light"
     },
     "output_type": "display_data"
    }
   ],
   "source": [
    "from mpl_toolkits.mplot3d import Axes3D\n",
    "from sklearn.datasets import make_blobs\n",
    "import matplotlib.pyplot as plt\n",
    "\n",
    "nol_df_ar = nol_df[['숙박시설','행정기관','문화시설_영화/공연/미술관박물관']].values\n",
    "\n",
    "y,x = nol_df['청년인구'], nol_df_ar\n",
    "print(\"x.shape: \", x.shape, \", y.shape: \", y.shape)\n",
    "\n",
    "#3차원 그래프로 표현\n",
    "xs = x[:,0] #숙박시설\n",
    "ys = x[:,1] #행정기관\n",
    "zx = x[:,2] #문화시설\n",
    "\n",
    "fig = plt.figure(figsize=(6, 6))\n",
    "ax = fig.add_subplot(111, projection='3d')\n",
    "ax.scatter(xs,ys,zx , marker='o', s=15, cmap='Greens')\n",
    "\n",
    "#2차원 그래프\n",
    "#plt.scatter(x[:, 1], x[:,2], marker = \"o\", s = 50)\n",
    "#plt.grid()\n",
    "\n",
    "\n",
    "plt.show()"
   ]
  },
  {
   "cell_type": "code",
   "execution_count": 81,
   "id": "28f48d1c",
   "metadata": {
    "scrolled": true
   },
   "outputs": [
    {
     "name": "stderr",
     "output_type": "stream",
     "text": [
      "C:\\Users\\csh51\\anaconda3\\lib\\site-packages\\sklearn\\cluster\\_kmeans.py:881: UserWarning: KMeans is known to have a memory leak on Windows with MKL, when there are less chunks than available threads. You can avoid it by setting the environment variable OMP_NUM_THREADS=1.\n",
      "  warnings.warn(\n"
     ]
    },
    {
     "data": {
      "image/png": "[encoded data removed]",
      "text/plain": [
       "<Figure size 432x288 with 1 Axes>"
      ]
     },
     "metadata": {
      "needs_background": "light"
     },
     "output_type": "display_data"
    }
   ],
   "source": [
    "## 방법 elbow기법\n",
    "\n",
    "from sklearn.cluster import KMeans\n",
    "init_centroid = \"random\" # 초기 클러스터 중심을 임의적\n",
    "#init_centroid = \"k-means++\" # 기본값\n",
    "\n",
    "def elbow(x):\n",
    "    sse = [] #오차제곱합이 최소가 되도록 클러스터의 중심을 결정\n",
    "    for i in range(1, 16):\n",
    "        km = KMeans(n_clusters = i, init = \"k-means++\", random_state = 0)\n",
    "        km.fit(x)\n",
    "        sse.append(km.inertia_)\n",
    "    plt.plot(range(1, 16), sse, marker = \"o\")\n",
    "    plt.xlabel(\"클러스터 수\")\n",
    "    plt.ylabel(\"sse\")\n",
    "    plt.show()\n",
    "    \n",
    "elbow(x)"
   ]
  },
  {
   "cell_type": "markdown",
   "id": "29a8efab",
   "metadata": {},
   "source": [
    "## K-means"
   ]
  },
  {
   "cell_type": "code",
   "execution_count": 12,
   "id": "15312d10",
   "metadata": {
    "scrolled": true
   },
   "outputs": [
    {
     "name": "stdout",
     "output_type": "stream",
     "text": [
      "KMeans(init='random', n_clusters=3, random_state=0)\n",
      "pred:  [2 2 0 0 1 1 1 0 1 1 0 1 1 0 0 0 1 1 0 1 0 0 0 0 0 1 1 1 1 0 1 0 1 2 1 1 1\n",
      " 1 1 1 1 1 0 0 1 0 0 0 1 2 1 0 1 0 0 1 0 2 2 1 0 1 0 0 1 2 0 1 1 1 2 1 1 2\n",
      " 0]\n"
     ]
    },
    {
     "data": {
      "image/png": "[encoded data removed]",
      "text/plain": [
       "<Figure size 432x288 with 1 Axes>"
      ]
     },
     "metadata": {
      "needs_background": "light"
     },
     "output_type": "display_data"
    }
   ],
   "source": [
    "from sklearn.cluster import KMeans\n",
    "init_centroid = \"random\" # 초기 클러스터 중심을 임의적\n",
    "#init_centroid = \"k-means++\" # 기본값\n",
    "\n",
    "kmodel = KMeans(n_clusters = 3, init = init_centroid, random_state = 0)\n",
    "print(kmodel)\n",
    "pred = kmodel.fit_predict(x)\n",
    "print(\"pred: \", pred)\n",
    "plt.scatter(x[pred == 0, 0], x[pred == 0, 1], marker = \"o\", s = 50, c = \"red\", label = \"cluster1\")\n",
    "plt.scatter(x[pred == 1, 0], x[pred == 1, 1], marker = \"s\", s = 50, c = \"green\", label = \"cluster2\")\n",
    "plt.scatter(x[pred == 2, 0], x[pred == 2, 1], marker = \"v\", s = 50, c = \"blue\", label = \"cluster3\")\n",
    "\n",
    "plt.scatter(kmodel.cluster_centers_[:,0], kmodel.cluster_centers_[:,1],\n",
    "            marker = \"+\", s = 80, c = \"black\", label = \"center\")\n",
    "plt.legend()\n",
    "plt.grid()\n",
    "plt.show()"
   ]
  },
  {
   "cell_type": "markdown",
   "id": "1dbf48e3",
   "metadata": {},
   "source": [
    "## 밀도 기반 클러스터링"
   ]
  },
  {
   "cell_type": "code",
   "execution_count": 13,
   "id": "ad6a0ecc",
   "metadata": {},
   "outputs": [
    {
     "name": "stdout",
     "output_type": "stream",
     "text": [
      "[[0.58227848 0.52173913 1.        ]\n",
      " [0.83544304 0.47826087 0.20765027]\n",
      " [0.27531646 0.47826087 0.1284153 ]\n",
      " [0.14240506 0.52173913 0.08196721]\n",
      " [0.15506329 0.43478261 0.06557377]\n",
      " [0.30063291 0.39130435 0.05464481]\n",
      " [0.2278481  0.47826087 0.01092896]\n",
      " [0.24050633 0.60869565 0.1284153 ]\n",
      " [0.26582278 0.34782609 0.04644809]\n",
      " [0.01265823 0.39130435 0.03005464]\n",
      " [0.02848101 0.60869565 0.04918033]\n",
      " [0.12974684 0.47826087 0.03005464]\n",
      " [0.1835443  0.39130435 0.1147541 ]\n",
      " [0.31012658 0.47826087 0.20765027]\n",
      " [0.         0.56521739 0.02185792]\n",
      " [0.23734177 1.         0.04371585]\n",
      " [0.26265823 0.47826087 0.04098361]\n",
      " [0.15189873 0.2173913  0.01092896]\n",
      " [0.5        0.56521739 0.08196721]\n",
      " [0.04113924 0.43478261 0.02459016]\n",
      " [0.25632911 0.69565217 0.04371585]\n",
      " [0.19936709 0.56521739 0.16666667]\n",
      " [0.38607595 0.65217391 0.25409836]\n",
      " [0.11075949 0.95652174 0.09836066]\n",
      " [0.16772152 0.56521739 0.03005464]\n",
      " [0.34177215 0.17391304 0.05464481]\n",
      " [0.16139241 0.34782609 0.01912568]\n",
      " [0.33544304 0.30434783 0.0273224 ]\n",
      " [0.09810127 0.26086957 0.0136612 ]\n",
      " [0.50949367 0.65217391 0.03825137]\n",
      " [0.34493671 0.34782609 0.03825137]\n",
      " [0.12025316 0.52173913 0.1010929 ]\n",
      " [0.22468354 0.34782609 0.02459016]\n",
      " [0.97468354 0.56521739 0.10655738]\n",
      " [0.15506329 0.47826087 0.02459016]\n",
      " [0.15189873 0.47826087 0.04371585]\n",
      " [0.11075949 0.13043478 0.0136612 ]\n",
      " [0.11708861 0.34782609 0.01639344]\n",
      " [0.29746835 0.13043478 0.06284153]\n",
      " [0.24683544 0.30434783 0.01639344]\n",
      " [0.21835443 0.         0.03825137]\n",
      " [0.26898734 0.34782609 0.1284153 ]\n",
      " [0.44936709 0.73913043 0.04918033]\n",
      " [0.25316456 0.52173913 0.00819672]\n",
      " [0.06329114 0.30434783 0.06284153]\n",
      " [0.16772152 0.69565217 0.05737705]\n",
      " [0.17405063 0.7826087  0.06830601]\n",
      " [0.26582278 0.73913043 0.03825137]\n",
      " [0.12025316 0.17391304 0.02459016]\n",
      " [0.78481013 0.26086957 0.06557377]\n",
      " [0.06329114 0.2173913  0.0136612 ]\n",
      " [0.4778481  0.65217391 0.05737705]\n",
      " [0.24050633 0.39130435 0.04644809]\n",
      " [0.14556962 0.65217391 0.03005464]\n",
      " [0.3164557  0.69565217 0.03005464]\n",
      " [0.13607595 0.30434783 0.01092896]\n",
      " [0.14240506 0.7826087  0.03278689]\n",
      " [0.91139241 0.30434783 0.04918033]\n",
      " [1.         0.         0.        ]\n",
      " [0.35126582 0.30434783 0.11202186]\n",
      " [0.41139241 0.56521739 0.05464481]\n",
      " [0.05696203 0.43478261 0.04371585]\n",
      " [0.42721519 0.95652174 0.07650273]\n",
      " [0.23101266 0.65217391 0.04371585]\n",
      " [0.37341772 0.43478261 0.04098361]\n",
      " [0.53164557 0.47826087 0.07377049]\n",
      " [0.19620253 0.7826087  0.07650273]\n",
      " [0.2943038  0.2173913  0.08469945]\n",
      " [0.20886076 0.26086957 0.02459016]\n",
      " [0.19620253 0.30434783 0.03278689]\n",
      " [0.71835443 0.39130435 0.04644809]\n",
      " [0.17088608 0.13043478 0.00819672]\n",
      " [0.11075949 0.08695652 0.02185792]\n",
      " [0.56329114 0.26086957 0.04644809]\n",
      " [0.13924051 0.60869565 0.06830601]] (75, 3)\n",
      "0     0.191345\n",
      "1     0.160995\n",
      "2     0.318906\n",
      "3     0.414634\n",
      "4     0.569801\n",
      "        ...   \n",
      "70    0.397716\n",
      "71    0.148005\n",
      "72    0.246712\n",
      "73    0.221669\n",
      "74    0.397273\n",
      "Name: 청년인구, Length: 75, dtype: float64 (75,)\n"
     ]
    },
    {
     "data": {
      "image/png": "[encoded data removed]",
      "text/plain": [
       "<Figure size 432x432 with 1 Axes>"
      ]
     },
     "metadata": {
      "needs_background": "light"
     },
     "output_type": "display_data"
    },
    {
     "name": "stdout",
     "output_type": "stream",
     "text": [
      "[1 1 0 0 0 0 0 2 0 0 2 0 0 0 0 2 0 0 2 0 2 2 2 2 2 0 0 0 0 2 0 0 0 1 0 0 0\n",
      " 0 0 0 0 0 2 2 0 2 2 2 0 1 0 2 0 2 2 0 2 1 1 0 2 0 2 2 0 1 2 0 0 0 1 0 0 1\n",
      " 2]\n"
     ]
    }
   ],
   "source": [
    "import matplotlib.pyplot as plt\n",
    "import numpy as np\n",
    "from sklearn.datasets import make_moons\n",
    "from sklearn.cluster import KMeans, AgglomerativeClustering, DBSCAN\n",
    "\n",
    "y,x = nol_df['청년인구'], nol_df_ar\n",
    "print(x, x.shape)\n",
    "print(y, y.shape)\n",
    "\n",
    "#3차원 그래프로 표현\n",
    "xs = x[:,0]\n",
    "ys = x[:,1]\n",
    "zx = x[:,2]\n",
    "\n",
    "fig = plt.figure(figsize=(6, 6))\n",
    "ax = fig.add_subplot(111, projection='3d')\n",
    "ax.scatter(xs,ys,zx , marker='o', s=15, cmap='Greens')\n",
    "\n",
    "plt.show()\n",
    "\n",
    "km = KMeans(n_clusters = 3, random_state = 0)\n",
    "pred1 = km.fit_predict(x)\n",
    "print(pred1)"
   ]
  },
  {
   "cell_type": "code",
   "execution_count": 14,
   "id": "fd364c68",
   "metadata": {},
   "outputs": [
    {
     "data": {
      "image/png": "[encoded data removed]",
      "text/plain": [
       "<Figure size 432x288 with 1 Axes>"
      ]
     },
     "metadata": {
      "needs_background": "light"
     },
     "output_type": "display_data"
    }
   ],
   "source": [
    "def plotPred1(x, y):\n",
    "    plt.scatter(x[y==0, 0], x[y==0, 1], c=\"blue\", \n",
    "                marker = \"o\", s = 40, label = \"cluster1\")\n",
    "    plt.scatter(x[y==1, 0], x[y==1, 1], c=\"red\", \n",
    "                marker = \"s\", s = 40, label = \"cluster2\")\n",
    "    plt.scatter(x[y==2, 0], x[y==2, 1], c = \"green\", \n",
    "                marker = \"v\", s = 50, label = \"cluster3\")\n",
    "\n",
    "    plt.legend()\n",
    "    plt.show()\n",
    "    \n",
    "plotPred1(x, pred1)"
   ]
  },
  {
   "cell_type": "markdown",
   "id": "20b66fb3",
   "metadata": {},
   "source": [
    "## K-means 군집분석 청년인구 - 인프라"
   ]
  },
  {
   "cell_type": "markdown",
   "id": "2bb0cf21",
   "metadata": {},
   "source": [
    "### 청년인구 - 숙박시설"
   ]
  },
  {
   "cell_type": "code",
   "execution_count": 80,
   "id": "65a5223c",
   "metadata": {},
   "outputs": [
    {
     "name": "stdout",
     "output_type": "stream",
     "text": [
      "KMeans(init='random', n_clusters=3, random_state=0)\n",
      "pred:  [1 1 0 2 2 2 2 2 0 0 2 2 0 2 2 2 2 0 2 2 2 2 2 2 2 0 0 0 0 2 0 0 0 1 0 0 0\n",
      " 0 0 0 0 0 2 0 0 2 2 2 0 1 0 2 0 2 2 0 2 1 1 0 2 0 2 2 0 1 2 0 0 0 1 0 0 1\n",
      " 2]\n"
     ]
    },
    {
     "data": {
      "image/png": "[encoded data removed]",
      "text/plain": [
       "<Figure size 432x288 with 1 Axes>"
      ]
     },
     "metadata": {
      "needs_background": "light"
     },
     "output_type": "display_data"
    }
   ],
   "source": [
    "#x[0] : 청년인구\n",
    "#x[1] : 숙박시설\n",
    "#x[2] : 행정기관\n",
    "#x[3] : 문화시설\n",
    "\n",
    "x = nol_df[['청년인구','숙박시설','행정기관','문화시설_영화/공연/미술관박물관']].values\n",
    "\n",
    "from sklearn.cluster import KMeans\n",
    "init_centroid = \"random\" # 초기 클러스터 중심을 임의적\n",
    "#init_centroid = \"k-means++\" # 기본값\n",
    "\n",
    "kmodel = KMeans(n_clusters = 3, init = init_centroid, random_state = 0)\n",
    "print(kmodel)\n",
    "pred = kmodel.fit_predict(x)\n",
    "print(\"pred: \", pred)\n",
    "plt.scatter(x[pred == 0, 0], x[pred == 0, 1], marker = \"o\", s = 50, c = \"red\", label = \"cluster1\")\n",
    "plt.scatter(x[pred == 1, 0], x[pred == 1, 1], marker = \"s\", s = 50, c = \"green\", label = \"cluster2\")\n",
    "plt.scatter(x[pred == 2, 0], x[pred == 2, 1], marker = \"v\", s = 50, c = \"blue\", label = \"cluster3\")\n",
    "\n",
    "plt.scatter(kmodel.cluster_centers_[:,0], kmodel.cluster_centers_[:,1],\n",
    "            marker = \"+\", s = 80, c = \"black\", label = \"center\")\n",
    "plt.legend()\n",
    "plt.grid()\n",
    "plt.show()"
   ]
  },
  {
   "cell_type": "markdown",
   "id": "c70a1c77",
   "metadata": {},
   "source": [
    "### 청년인구 - 행정기관"
   ]
  },
  {
   "cell_type": "code",
   "execution_count": 47,
   "id": "1f714da4",
   "metadata": {},
   "outputs": [
    {
     "name": "stdout",
     "output_type": "stream",
     "text": [
      "KMeans(init='random', n_clusters=3, random_state=0)\n",
      "pred:  [1 1 0 2 2 2 2 2 0 0 2 2 0 2 2 2 2 0 2 2 2 2 2 2 2 0 0 0 0 2 0 0 0 1 0 0 0\n",
      " 0 0 0 0 0 2 0 0 2 2 2 0 1 0 2 0 2 2 0 2 1 1 0 2 0 2 2 0 1 2 0 0 0 1 0 0 1\n",
      " 2]\n"
     ]
    },
    {
     "data": {
      "image/png": "[encoded data removed]",
      "text/plain": [
       "<Figure size 432x288 with 1 Axes>"
      ]
     },
     "metadata": {
      "needs_background": "light"
     },
     "output_type": "display_data"
    }
   ],
   "source": [
    "kmodel = KMeans(n_clusters = 3, init = init_centroid, random_state = 0)\n",
    "print(kmodel)\n",
    "pred = kmodel.fit_predict(x)\n",
    "print(\"pred: \", pred)\n",
    "plt.scatter(x[pred == 0, 0], x[pred == 0, 2], marker = \"o\", s = 50, c = \"red\", label = \"cluster1\")\n",
    "plt.scatter(x[pred == 1, 0], x[pred == 1, 2], marker = \"s\", s = 50, c = \"green\", label = \"cluster2\")\n",
    "plt.scatter(x[pred == 2, 0], x[pred == 2, 2], marker = \"v\", s = 50, c = \"blue\", label = \"cluster3\")\n",
    "\n",
    "plt.scatter(kmodel.cluster_centers_[:,0], kmodel.cluster_centers_[:,2],\n",
    "            marker = \"+\", s = 80, c = \"black\", label = \"center\")\n",
    "plt.legend()\n",
    "plt.grid()\n",
    "plt.show()"
   ]
  },
  {
   "cell_type": "markdown",
   "id": "8e60417e",
   "metadata": {},
   "source": [
    "### 청년인구 - 문화시설"
   ]
  },
  {
   "cell_type": "code",
   "execution_count": 49,
   "id": "5881cfda",
   "metadata": {
    "scrolled": true
   },
   "outputs": [
    {
     "name": "stdout",
     "output_type": "stream",
     "text": [
      "KMeans(init='random', n_clusters=3, random_state=0)\n",
      "pred:  [1 1 0 2 2 2 2 2 0 0 2 2 0 2 2 2 2 0 2 2 2 2 2 2 2 0 0 0 0 2 0 0 0 1 0 0 0\n",
      " 0 0 0 0 0 2 0 0 2 2 2 0 1 0 2 0 2 2 0 2 1 1 0 2 0 2 2 0 1 2 0 0 0 1 0 0 1\n",
      " 2]\n"
     ]
    },
    {
     "data": {
      "image/png": "[encoded data removed]",
      "text/plain": [
       "<Figure size 432x288 with 1 Axes>"
      ]
     },
     "metadata": {
      "needs_background": "light"
     },
     "output_type": "display_data"
    }
   ],
   "source": [
    "kmodel = KMeans(n_clusters = 3, init = init_centroid, random_state = 0)\n",
    "print(kmodel)\n",
    "pred = kmodel.fit_predict(x)\n",
    "print(\"pred: \", pred)\n",
    "plt.scatter(x[pred == 0, 0], x[pred == 0, 3], marker = \"o\", s = 50, c = \"red\", label = \"cluster1\")\n",
    "plt.scatter(x[pred == 1, 0], x[pred == 1, 3], marker = \"s\", s = 50, c = \"green\", label = \"cluster2\")\n",
    "plt.scatter(x[pred == 2, 0], x[pred == 2, 3], marker = \"v\", s = 50, c = \"blue\", label = \"cluster3\")\n",
    "\n",
    "plt.scatter(kmodel.cluster_centers_[:,0], kmodel.cluster_centers_[:,3],\n",
    "            marker = \"+\", s = 80, c = \"black\", label = \"center\")\n",
    "plt.legend()\n",
    "plt.grid()\n",
    "plt.show()"
   ]
  },
  {
   "cell_type": "code",
   "execution_count": 51,
   "id": "7ed96ec4",
   "metadata": {},
   "outputs": [
    {
     "data": {
      "text/plain": [
       "array([[0.23687033, 0.19769173, 0.30690537, 0.04379621],\n",
       "       [0.20432742, 0.76687764, 0.36231884, 0.17729205],\n",
       "       [0.58480581, 0.2421875 , 0.63858696, 0.0673668 ]])"
      ]
     },
     "execution_count": 51,
     "metadata": {},
     "output_type": "execute_result"
    }
   ],
   "source": [
    "kmodel.cluster_centers_ #청년인구, 숙박시설, 행정기관, 문화시설의 중심값"
   ]
  },
  {
   "cell_type": "code",
   "execution_count": 57,
   "id": "9867724f",
   "metadata": {},
   "outputs": [
    {
     "data": {
      "text/html": [
       "<div>\n",
       "<style scoped>\n",
       "    .dataframe tbody tr th:only-of-type {\n",
       "        vertical-align: middle;\n",
       "    }\n",
       "\n",
       "    .dataframe tbody tr th {\n",
       "        vertical-align: top;\n",
       "    }\n",
       "\n",
       "    .dataframe thead th {\n",
       "        text-align: right;\n",
       "    }\n",
       "</style>\n",
       "<table border=\"1\" class=\"dataframe\">\n",
       "  <thead>\n",
       "    <tr style=\"text-align: right;\">\n",
       "      <th></th>\n",
       "      <th>청년인구</th>\n",
       "      <th>숙박시설</th>\n",
       "      <th>행정기관</th>\n",
       "      <th>문화시설</th>\n",
       "    </tr>\n",
       "  </thead>\n",
       "  <tbody>\n",
       "    <tr>\n",
       "      <th>군집1</th>\n",
       "      <td>0.236870</td>\n",
       "      <td>0.197692</td>\n",
       "      <td>0.306905</td>\n",
       "      <td>0.043796</td>\n",
       "    </tr>\n",
       "    <tr>\n",
       "      <th>군집2</th>\n",
       "      <td>0.204327</td>\n",
       "      <td>0.766878</td>\n",
       "      <td>0.362319</td>\n",
       "      <td>0.177292</td>\n",
       "    </tr>\n",
       "    <tr>\n",
       "      <th>군집3</th>\n",
       "      <td>0.584806</td>\n",
       "      <td>0.242188</td>\n",
       "      <td>0.638587</td>\n",
       "      <td>0.067367</td>\n",
       "    </tr>\n",
       "  </tbody>\n",
       "</table>\n",
       "</div>"
      ],
      "text/plain": [
       "         청년인구      숙박시설      행정기관      문화시설\n",
       "군집1  0.236870  0.197692  0.306905  0.043796\n",
       "군집2  0.204327  0.766878  0.362319  0.177292\n",
       "군집3  0.584806  0.242188  0.638587  0.067367"
      ]
     },
     "execution_count": 57,
     "metadata": {},
     "output_type": "execute_result"
    }
   ],
   "source": [
    "center = pd.DataFrame(kmodel.cluster_centers_,\n",
    "                     index = ['군집1','군집2','군집3'])\n",
    "center.columns =['청년인구','숙박시설','행정기관','문화시설']\n",
    "center"
   ]
  },
  {
   "cell_type": "code",
   "execution_count": null,
   "id": "6065cc40",
   "metadata": {},
   "outputs": [],
   "source": []
  }
 ],
 "metadata": {
  "kernelspec": {
   "display_name": "Python 3",
   "language": "python",
   "name": "python3"
  },
  "language_info": {
   "codemirror_mode": {
    "name": "ipython",
    "version": 3
   },
   "file_extension": ".py",
   "mimetype": "text/x-python",
   "name": "python",
   "nbconvert_exporter": "python",
   "pygments_lexer": "ipython3",
   "version": "3.8.8"
  }
 },
 "nbformat": 4,
 "nbformat_minor": 5
}
