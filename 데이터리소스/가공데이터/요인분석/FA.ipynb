{
  "nbformat": 4,
  "nbformat_minor": 0,
  "metadata": {
    "colab": {
      "name": "FA.ipynb",
      "provenance": [],
      "collapsed_sections": []
    },
    "kernelspec": {
      "name": "python3",
      "display_name": "Python 3"
    },
    "language_info": {
      "name": "python"
    }
  },
  "cells": [
    {
      "cell_type": "code",
      "metadata": {
        "colab": {
          "base_uri": "https://localhost:8080/"
        },
        "id": "02A8ElK9MEaz",
        "outputId": "750ded32-00fa-444d-cd51-17c2a2fe5a8b"
      },
      "source": [
        "from google.colab import drive\n",
        "drive.mount('/content/drive')"
      ],
      "execution_count": 1,
      "outputs": [
        {
          "output_type": "stream",
          "text": [
            "Drive already mounted at /content/drive; to attempt to forcibly remount, call drive.mount(\"/content/drive\", force_remount=True).\n"
          ],
          "name": "stdout"
        }
      ]
    },
    {
      "cell_type": "code",
      "metadata": {
        "id": "S1Eo4zcWQyWn"
      },
      "source": [
        "import numpy as np\n",
        "import pandas as pd\n",
        "import matplotlib.pyplot as plt\n",
        "import seaborn as sns"
      ],
      "execution_count": 2,
      "outputs": []
    },
    {
      "cell_type": "code",
      "metadata": {
        "colab": {
          "base_uri": "https://localhost:8080/",
          "height": 707
        },
        "id": "8RfAAymuQzmY",
        "outputId": "c41f41c3-655a-4bc6-ab79-3d5db7e652a0"
      },
      "source": [
        "path = '/content/drive/MyDrive/데청캠 프로젝트/dataset/시군구별_인프라수_청년수.csv'\n",
        "df = pd.read_csv(path, encoding='cp949')\n",
        "df"
      ],
      "execution_count": 3,
      "outputs": [
        {
          "output_type": "execute_result",
          "data": {
            "text/html": [
              "<div>\n",
              "<style scoped>\n",
              "    .dataframe tbody tr th:only-of-type {\n",
              "        vertical-align: middle;\n",
              "    }\n",
              "\n",
              "    .dataframe tbody tr th {\n",
              "        vertical-align: top;\n",
              "    }\n",
              "\n",
              "    .dataframe thead th {\n",
              "        text-align: right;\n",
              "    }\n",
              "</style>\n",
              "<table border=\"1\" class=\"dataframe\">\n",
              "  <thead>\n",
              "    <tr style=\"text-align: right;\">\n",
              "      <th></th>\n",
              "      <th>Unnamed: 0</th>\n",
              "      <th>시군구</th>\n",
              "      <th>청년인구</th>\n",
              "      <th>병원</th>\n",
              "      <th>사회스포츠</th>\n",
              "      <th>대학교</th>\n",
              "      <th>초중고</th>\n",
              "      <th>공항</th>\n",
              "      <th>소방서</th>\n",
              "      <th>경찰서</th>\n",
              "      <th>소형상업시설(음식점_카페_학원_편의점)</th>\n",
              "      <th>대형상업시설</th>\n",
              "      <th>숙박시설</th>\n",
              "      <th>기차역</th>\n",
              "      <th>행정기관</th>\n",
              "      <th>법원, 교도소</th>\n",
              "      <th>문화시설_영화/공연/미술관박물관</th>\n",
              "      <th>버스터미널</th>\n",
              "    </tr>\n",
              "  </thead>\n",
              "  <tbody>\n",
              "    <tr>\n",
              "      <th>0</th>\n",
              "      <td>0</td>\n",
              "      <td>서울_종로구</td>\n",
              "      <td>32,943</td>\n",
              "      <td>496</td>\n",
              "      <td>28.0</td>\n",
              "      <td>3</td>\n",
              "      <td>60.0</td>\n",
              "      <td>0</td>\n",
              "      <td>1</td>\n",
              "      <td>23</td>\n",
              "      <td>5730</td>\n",
              "      <td>24</td>\n",
              "      <td>201</td>\n",
              "      <td>0</td>\n",
              "      <td>19.0</td>\n",
              "      <td>0.0</td>\n",
              "      <td>367.0</td>\n",
              "      <td>0.0</td>\n",
              "    </tr>\n",
              "    <tr>\n",
              "      <th>1</th>\n",
              "      <td>1</td>\n",
              "      <td>서울_중구</td>\n",
              "      <td>28,277</td>\n",
              "      <td>572</td>\n",
              "      <td>16.0</td>\n",
              "      <td>2</td>\n",
              "      <td>48.0</td>\n",
              "      <td>0</td>\n",
              "      <td>1</td>\n",
              "      <td>17</td>\n",
              "      <td>5383</td>\n",
              "      <td>62</td>\n",
              "      <td>281</td>\n",
              "      <td>1</td>\n",
              "      <td>18.0</td>\n",
              "      <td>0.0</td>\n",
              "      <td>77.0</td>\n",
              "      <td>0.0</td>\n",
              "    </tr>\n",
              "    <tr>\n",
              "      <th>2</th>\n",
              "      <td>2</td>\n",
              "      <td>서울_용산구</td>\n",
              "      <td>52,554</td>\n",
              "      <td>319</td>\n",
              "      <td>19.0</td>\n",
              "      <td>1</td>\n",
              "      <td>47.0</td>\n",
              "      <td>0</td>\n",
              "      <td>1</td>\n",
              "      <td>9</td>\n",
              "      <td>5056</td>\n",
              "      <td>23</td>\n",
              "      <td>104</td>\n",
              "      <td>9</td>\n",
              "      <td>18.0</td>\n",
              "      <td>1.0</td>\n",
              "      <td>48.0</td>\n",
              "      <td>0.0</td>\n",
              "    </tr>\n",
              "    <tr>\n",
              "      <th>3</th>\n",
              "      <td>3</td>\n",
              "      <td>서울_성동구</td>\n",
              "      <td>67,271</td>\n",
              "      <td>457</td>\n",
              "      <td>21.0</td>\n",
              "      <td>2</td>\n",
              "      <td>69.0</td>\n",
              "      <td>0</td>\n",
              "      <td>1</td>\n",
              "      <td>10</td>\n",
              "      <td>4562</td>\n",
              "      <td>22</td>\n",
              "      <td>62</td>\n",
              "      <td>3</td>\n",
              "      <td>19.0</td>\n",
              "      <td>0.0</td>\n",
              "      <td>31.0</td>\n",
              "      <td>0.0</td>\n",
              "    </tr>\n",
              "    <tr>\n",
              "      <th>4</th>\n",
              "      <td>4</td>\n",
              "      <td>서울_광진구</td>\n",
              "      <td>91,126</td>\n",
              "      <td>558</td>\n",
              "      <td>76.0</td>\n",
              "      <td>3</td>\n",
              "      <td>76.0</td>\n",
              "      <td>0</td>\n",
              "      <td>1</td>\n",
              "      <td>12</td>\n",
              "      <td>5609</td>\n",
              "      <td>26</td>\n",
              "      <td>66</td>\n",
              "      <td>0</td>\n",
              "      <td>17.0</td>\n",
              "      <td>0.0</td>\n",
              "      <td>25.0</td>\n",
              "      <td>1.0</td>\n",
              "    </tr>\n",
              "    <tr>\n",
              "      <th>...</th>\n",
              "      <td>...</td>\n",
              "      <td>...</td>\n",
              "      <td>...</td>\n",
              "      <td>...</td>\n",
              "      <td>...</td>\n",
              "      <td>...</td>\n",
              "      <td>...</td>\n",
              "      <td>...</td>\n",
              "      <td>...</td>\n",
              "      <td>...</td>\n",
              "      <td>...</td>\n",
              "      <td>...</td>\n",
              "      <td>...</td>\n",
              "      <td>...</td>\n",
              "      <td>...</td>\n",
              "      <td>...</td>\n",
              "      <td>...</td>\n",
              "      <td>...</td>\n",
              "    </tr>\n",
              "    <tr>\n",
              "      <th>70</th>\n",
              "      <td>70</td>\n",
              "      <td>울산_남구</td>\n",
              "      <td>64,670</td>\n",
              "      <td>618</td>\n",
              "      <td>24.0</td>\n",
              "      <td>1</td>\n",
              "      <td>106.0</td>\n",
              "      <td>0</td>\n",
              "      <td>1</td>\n",
              "      <td>6</td>\n",
              "      <td>7460</td>\n",
              "      <td>16</td>\n",
              "      <td>244</td>\n",
              "      <td>4</td>\n",
              "      <td>16.0</td>\n",
              "      <td>2.0</td>\n",
              "      <td>18.0</td>\n",
              "      <td>3.0</td>\n",
              "    </tr>\n",
              "    <tr>\n",
              "      <th>71</th>\n",
              "      <td>71</td>\n",
              "      <td>울산_동구</td>\n",
              "      <td>26,280</td>\n",
              "      <td>174</td>\n",
              "      <td>18.0</td>\n",
              "      <td>1</td>\n",
              "      <td>60.0</td>\n",
              "      <td>0</td>\n",
              "      <td>1</td>\n",
              "      <td>5</td>\n",
              "      <td>3107</td>\n",
              "      <td>3</td>\n",
              "      <td>71</td>\n",
              "      <td>0</td>\n",
              "      <td>10.0</td>\n",
              "      <td>0.0</td>\n",
              "      <td>4.0</td>\n",
              "      <td>0.0</td>\n",
              "    </tr>\n",
              "    <tr>\n",
              "      <th>72</th>\n",
              "      <td>72</td>\n",
              "      <td>울산_북구</td>\n",
              "      <td>41,455</td>\n",
              "      <td>172</td>\n",
              "      <td>30.0</td>\n",
              "      <td>0</td>\n",
              "      <td>94.0</td>\n",
              "      <td>1</td>\n",
              "      <td>1</td>\n",
              "      <td>5</td>\n",
              "      <td>3492</td>\n",
              "      <td>11</td>\n",
              "      <td>52</td>\n",
              "      <td>2</td>\n",
              "      <td>9.0</td>\n",
              "      <td>0.0</td>\n",
              "      <td>9.0</td>\n",
              "      <td>0.0</td>\n",
              "    </tr>\n",
              "    <tr>\n",
              "      <th>73</th>\n",
              "      <td>73</td>\n",
              "      <td>울산_울주군</td>\n",
              "      <td>37,605</td>\n",
              "      <td>206</td>\n",
              "      <td>57.0</td>\n",
              "      <td>2</td>\n",
              "      <td>107.0</td>\n",
              "      <td>0</td>\n",
              "      <td>1</td>\n",
              "      <td>11</td>\n",
              "      <td>4586</td>\n",
              "      <td>5</td>\n",
              "      <td>195</td>\n",
              "      <td>5</td>\n",
              "      <td>13.0</td>\n",
              "      <td>1.0</td>\n",
              "      <td>18.0</td>\n",
              "      <td>1.0</td>\n",
              "    </tr>\n",
              "    <tr>\n",
              "      <th>74</th>\n",
              "      <td>74</td>\n",
              "      <td>세종시</td>\n",
              "      <td>64,602</td>\n",
              "      <td>402</td>\n",
              "      <td>47.0</td>\n",
              "      <td>3</td>\n",
              "      <td>155.0</td>\n",
              "      <td>0</td>\n",
              "      <td>2</td>\n",
              "      <td>11</td>\n",
              "      <td>5922</td>\n",
              "      <td>10</td>\n",
              "      <td>61</td>\n",
              "      <td>8</td>\n",
              "      <td>21.0</td>\n",
              "      <td>1.0</td>\n",
              "      <td>26.0</td>\n",
              "      <td>3.0</td>\n",
              "    </tr>\n",
              "  </tbody>\n",
              "</table>\n",
              "<p>75 rows × 18 columns</p>\n",
              "</div>"
            ],
            "text/plain": [
              "    Unnamed: 0     시군구    청년인구   병원  ...  행정기관  법원, 교도소  문화시설_영화/공연/미술관박물관  버스터미널\n",
              "0            0  서울_종로구  32,943  496  ...  19.0      0.0              367.0    0.0\n",
              "1            1   서울_중구  28,277  572  ...  18.0      0.0               77.0    0.0\n",
              "2            2  서울_용산구  52,554  319  ...  18.0      1.0               48.0    0.0\n",
              "3            3  서울_성동구  67,271  457  ...  19.0      0.0               31.0    0.0\n",
              "4            4  서울_광진구  91,126  558  ...  17.0      0.0               25.0    1.0\n",
              "..         ...     ...     ...  ...  ...   ...      ...                ...    ...\n",
              "70          70   울산_남구  64,670  618  ...  16.0      2.0               18.0    3.0\n",
              "71          71   울산_동구  26,280  174  ...  10.0      0.0                4.0    0.0\n",
              "72          72   울산_북구  41,455  172  ...   9.0      0.0                9.0    0.0\n",
              "73          73  울산_울주군  37,605  206  ...  13.0      1.0               18.0    1.0\n",
              "74          74     세종시  64,602  402  ...  21.0      1.0               26.0    3.0\n",
              "\n",
              "[75 rows x 18 columns]"
            ]
          },
          "metadata": {
            "tags": []
          },
          "execution_count": 3
        }
      ]
    },
    {
      "cell_type": "code",
      "metadata": {
        "colab": {
          "base_uri": "https://localhost:8080/",
          "height": 605
        },
        "id": "7DvdsSsuRdF7",
        "outputId": "0af582da-3bcc-43dd-c27a-df84bdd20556"
      },
      "source": [
        "df = df.drop(['Unnamed: 0'], axis=1)\n",
        "df"
      ],
      "execution_count": 4,
      "outputs": [
        {
          "output_type": "execute_result",
          "data": {
            "text/html": [
              "<div>\n",
              "<style scoped>\n",
              "    .dataframe tbody tr th:only-of-type {\n",
              "        vertical-align: middle;\n",
              "    }\n",
              "\n",
              "    .dataframe tbody tr th {\n",
              "        vertical-align: top;\n",
              "    }\n",
              "\n",
              "    .dataframe thead th {\n",
              "        text-align: right;\n",
              "    }\n",
              "</style>\n",
              "<table border=\"1\" class=\"dataframe\">\n",
              "  <thead>\n",
              "    <tr style=\"text-align: right;\">\n",
              "      <th></th>\n",
              "      <th>시군구</th>\n",
              "      <th>청년인구</th>\n",
              "      <th>병원</th>\n",
              "      <th>사회스포츠</th>\n",
              "      <th>대학교</th>\n",
              "      <th>초중고</th>\n",
              "      <th>공항</th>\n",
              "      <th>소방서</th>\n",
              "      <th>경찰서</th>\n",
              "      <th>소형상업시설(음식점_카페_학원_편의점)</th>\n",
              "      <th>대형상업시설</th>\n",
              "      <th>숙박시설</th>\n",
              "      <th>기차역</th>\n",
              "      <th>행정기관</th>\n",
              "      <th>법원, 교도소</th>\n",
              "      <th>문화시설_영화/공연/미술관박물관</th>\n",
              "      <th>버스터미널</th>\n",
              "    </tr>\n",
              "  </thead>\n",
              "  <tbody>\n",
              "    <tr>\n",
              "      <th>0</th>\n",
              "      <td>서울_종로구</td>\n",
              "      <td>32,943</td>\n",
              "      <td>496</td>\n",
              "      <td>28.0</td>\n",
              "      <td>3</td>\n",
              "      <td>60.0</td>\n",
              "      <td>0</td>\n",
              "      <td>1</td>\n",
              "      <td>23</td>\n",
              "      <td>5730</td>\n",
              "      <td>24</td>\n",
              "      <td>201</td>\n",
              "      <td>0</td>\n",
              "      <td>19.0</td>\n",
              "      <td>0.0</td>\n",
              "      <td>367.0</td>\n",
              "      <td>0.0</td>\n",
              "    </tr>\n",
              "    <tr>\n",
              "      <th>1</th>\n",
              "      <td>서울_중구</td>\n",
              "      <td>28,277</td>\n",
              "      <td>572</td>\n",
              "      <td>16.0</td>\n",
              "      <td>2</td>\n",
              "      <td>48.0</td>\n",
              "      <td>0</td>\n",
              "      <td>1</td>\n",
              "      <td>17</td>\n",
              "      <td>5383</td>\n",
              "      <td>62</td>\n",
              "      <td>281</td>\n",
              "      <td>1</td>\n",
              "      <td>18.0</td>\n",
              "      <td>0.0</td>\n",
              "      <td>77.0</td>\n",
              "      <td>0.0</td>\n",
              "    </tr>\n",
              "    <tr>\n",
              "      <th>2</th>\n",
              "      <td>서울_용산구</td>\n",
              "      <td>52,554</td>\n",
              "      <td>319</td>\n",
              "      <td>19.0</td>\n",
              "      <td>1</td>\n",
              "      <td>47.0</td>\n",
              "      <td>0</td>\n",
              "      <td>1</td>\n",
              "      <td>9</td>\n",
              "      <td>5056</td>\n",
              "      <td>23</td>\n",
              "      <td>104</td>\n",
              "      <td>9</td>\n",
              "      <td>18.0</td>\n",
              "      <td>1.0</td>\n",
              "      <td>48.0</td>\n",
              "      <td>0.0</td>\n",
              "    </tr>\n",
              "    <tr>\n",
              "      <th>3</th>\n",
              "      <td>서울_성동구</td>\n",
              "      <td>67,271</td>\n",
              "      <td>457</td>\n",
              "      <td>21.0</td>\n",
              "      <td>2</td>\n",
              "      <td>69.0</td>\n",
              "      <td>0</td>\n",
              "      <td>1</td>\n",
              "      <td>10</td>\n",
              "      <td>4562</td>\n",
              "      <td>22</td>\n",
              "      <td>62</td>\n",
              "      <td>3</td>\n",
              "      <td>19.0</td>\n",
              "      <td>0.0</td>\n",
              "      <td>31.0</td>\n",
              "      <td>0.0</td>\n",
              "    </tr>\n",
              "    <tr>\n",
              "      <th>4</th>\n",
              "      <td>서울_광진구</td>\n",
              "      <td>91,126</td>\n",
              "      <td>558</td>\n",
              "      <td>76.0</td>\n",
              "      <td>3</td>\n",
              "      <td>76.0</td>\n",
              "      <td>0</td>\n",
              "      <td>1</td>\n",
              "      <td>12</td>\n",
              "      <td>5609</td>\n",
              "      <td>26</td>\n",
              "      <td>66</td>\n",
              "      <td>0</td>\n",
              "      <td>17.0</td>\n",
              "      <td>0.0</td>\n",
              "      <td>25.0</td>\n",
              "      <td>1.0</td>\n",
              "    </tr>\n",
              "    <tr>\n",
              "      <th>...</th>\n",
              "      <td>...</td>\n",
              "      <td>...</td>\n",
              "      <td>...</td>\n",
              "      <td>...</td>\n",
              "      <td>...</td>\n",
              "      <td>...</td>\n",
              "      <td>...</td>\n",
              "      <td>...</td>\n",
              "      <td>...</td>\n",
              "      <td>...</td>\n",
              "      <td>...</td>\n",
              "      <td>...</td>\n",
              "      <td>...</td>\n",
              "      <td>...</td>\n",
              "      <td>...</td>\n",
              "      <td>...</td>\n",
              "      <td>...</td>\n",
              "    </tr>\n",
              "    <tr>\n",
              "      <th>70</th>\n",
              "      <td>울산_남구</td>\n",
              "      <td>64,670</td>\n",
              "      <td>618</td>\n",
              "      <td>24.0</td>\n",
              "      <td>1</td>\n",
              "      <td>106.0</td>\n",
              "      <td>0</td>\n",
              "      <td>1</td>\n",
              "      <td>6</td>\n",
              "      <td>7460</td>\n",
              "      <td>16</td>\n",
              "      <td>244</td>\n",
              "      <td>4</td>\n",
              "      <td>16.0</td>\n",
              "      <td>2.0</td>\n",
              "      <td>18.0</td>\n",
              "      <td>3.0</td>\n",
              "    </tr>\n",
              "    <tr>\n",
              "      <th>71</th>\n",
              "      <td>울산_동구</td>\n",
              "      <td>26,280</td>\n",
              "      <td>174</td>\n",
              "      <td>18.0</td>\n",
              "      <td>1</td>\n",
              "      <td>60.0</td>\n",
              "      <td>0</td>\n",
              "      <td>1</td>\n",
              "      <td>5</td>\n",
              "      <td>3107</td>\n",
              "      <td>3</td>\n",
              "      <td>71</td>\n",
              "      <td>0</td>\n",
              "      <td>10.0</td>\n",
              "      <td>0.0</td>\n",
              "      <td>4.0</td>\n",
              "      <td>0.0</td>\n",
              "    </tr>\n",
              "    <tr>\n",
              "      <th>72</th>\n",
              "      <td>울산_북구</td>\n",
              "      <td>41,455</td>\n",
              "      <td>172</td>\n",
              "      <td>30.0</td>\n",
              "      <td>0</td>\n",
              "      <td>94.0</td>\n",
              "      <td>1</td>\n",
              "      <td>1</td>\n",
              "      <td>5</td>\n",
              "      <td>3492</td>\n",
              "      <td>11</td>\n",
              "      <td>52</td>\n",
              "      <td>2</td>\n",
              "      <td>9.0</td>\n",
              "      <td>0.0</td>\n",
              "      <td>9.0</td>\n",
              "      <td>0.0</td>\n",
              "    </tr>\n",
              "    <tr>\n",
              "      <th>73</th>\n",
              "      <td>울산_울주군</td>\n",
              "      <td>37,605</td>\n",
              "      <td>206</td>\n",
              "      <td>57.0</td>\n",
              "      <td>2</td>\n",
              "      <td>107.0</td>\n",
              "      <td>0</td>\n",
              "      <td>1</td>\n",
              "      <td>11</td>\n",
              "      <td>4586</td>\n",
              "      <td>5</td>\n",
              "      <td>195</td>\n",
              "      <td>5</td>\n",
              "      <td>13.0</td>\n",
              "      <td>1.0</td>\n",
              "      <td>18.0</td>\n",
              "      <td>1.0</td>\n",
              "    </tr>\n",
              "    <tr>\n",
              "      <th>74</th>\n",
              "      <td>세종시</td>\n",
              "      <td>64,602</td>\n",
              "      <td>402</td>\n",
              "      <td>47.0</td>\n",
              "      <td>3</td>\n",
              "      <td>155.0</td>\n",
              "      <td>0</td>\n",
              "      <td>2</td>\n",
              "      <td>11</td>\n",
              "      <td>5922</td>\n",
              "      <td>10</td>\n",
              "      <td>61</td>\n",
              "      <td>8</td>\n",
              "      <td>21.0</td>\n",
              "      <td>1.0</td>\n",
              "      <td>26.0</td>\n",
              "      <td>3.0</td>\n",
              "    </tr>\n",
              "  </tbody>\n",
              "</table>\n",
              "<p>75 rows × 17 columns</p>\n",
              "</div>"
            ],
            "text/plain": [
              "       시군구    청년인구   병원  사회스포츠  ...  행정기관  법원, 교도소  문화시설_영화/공연/미술관박물관  버스터미널\n",
              "0   서울_종로구  32,943  496   28.0  ...  19.0      0.0              367.0    0.0\n",
              "1    서울_중구  28,277  572   16.0  ...  18.0      0.0               77.0    0.0\n",
              "2   서울_용산구  52,554  319   19.0  ...  18.0      1.0               48.0    0.0\n",
              "3   서울_성동구  67,271  457   21.0  ...  19.0      0.0               31.0    0.0\n",
              "4   서울_광진구  91,126  558   76.0  ...  17.0      0.0               25.0    1.0\n",
              "..     ...     ...  ...    ...  ...   ...      ...                ...    ...\n",
              "70   울산_남구  64,670  618   24.0  ...  16.0      2.0               18.0    3.0\n",
              "71   울산_동구  26,280  174   18.0  ...  10.0      0.0                4.0    0.0\n",
              "72   울산_북구  41,455  172   30.0  ...   9.0      0.0                9.0    0.0\n",
              "73  울산_울주군  37,605  206   57.0  ...  13.0      1.0               18.0    1.0\n",
              "74     세종시  64,602  402   47.0  ...  21.0      1.0               26.0    3.0\n",
              "\n",
              "[75 rows x 17 columns]"
            ]
          },
          "metadata": {
            "tags": []
          },
          "execution_count": 4
        }
      ]
    },
    {
      "cell_type": "code",
      "metadata": {
        "colab": {
          "base_uri": "https://localhost:8080/"
        },
        "id": "xlhx4ZziSGpU",
        "outputId": "5431e9c0-f749-4d11-bd6d-52175ecf20d9"
      },
      "source": [
        "!pip install factor-analyzer\n",
        "from factor_analyzer import FactorAnalyzer"
      ],
      "execution_count": 6,
      "outputs": [
        {
          "output_type": "stream",
          "text": [
            "Requirement already satisfied: factor-analyzer in /usr/local/lib/python3.7/dist-packages (0.3.2)\n",
            "Requirement already satisfied: scikit-learn in /usr/local/lib/python3.7/dist-packages (from factor-analyzer) (0.22.2.post1)\n",
            "Requirement already satisfied: pandas in /usr/local/lib/python3.7/dist-packages (from factor-analyzer) (1.1.5)\n",
            "Requirement already satisfied: numpy in /usr/local/lib/python3.7/dist-packages (from factor-analyzer) (1.19.5)\n",
            "Requirement already satisfied: scipy in /usr/local/lib/python3.7/dist-packages (from factor-analyzer) (1.4.1)\n",
            "Requirement already satisfied: pytz>=2017.2 in /usr/local/lib/python3.7/dist-packages (from pandas->factor-analyzer) (2018.9)\n",
            "Requirement already satisfied: python-dateutil>=2.7.3 in /usr/local/lib/python3.7/dist-packages (from pandas->factor-analyzer) (2.8.2)\n",
            "Requirement already satisfied: six>=1.5 in /usr/local/lib/python3.7/dist-packages (from python-dateutil>=2.7.3->pandas->factor-analyzer) (1.15.0)\n",
            "Requirement already satisfied: joblib>=0.11 in /usr/local/lib/python3.7/dist-packages (from scikit-learn->factor-analyzer) (1.0.1)\n"
          ],
          "name": "stdout"
        }
      ]
    },
    {
      "cell_type": "code",
      "metadata": {
        "colab": {
          "base_uri": "https://localhost:8080/"
        },
        "id": "z90Ec6qUStj1",
        "outputId": "ed941760-dfd0-4866-c1a3-9421ebebb7cb"
      },
      "source": [
        "items = df.columns.tolist()[2:]\n",
        "items"
      ],
      "execution_count": 7,
      "outputs": [
        {
          "output_type": "execute_result",
          "data": {
            "text/plain": [
              "['병원',\n",
              " '사회스포츠',\n",
              " '대학교',\n",
              " '초중고',\n",
              " '공항',\n",
              " '소방서',\n",
              " '경찰서',\n",
              " '소형상업시설(음식점_카페_학원_편의점)',\n",
              " '대형상업시설',\n",
              " '숙박시설',\n",
              " '기차역',\n",
              " '행정기관',\n",
              " '법원, 교도소',\n",
              " '문화시설_영화/공연/미술관박물관',\n",
              " '버스터미널']"
            ]
          },
          "metadata": {
            "tags": []
          },
          "execution_count": 7
        }
      ]
    },
    {
      "cell_type": "code",
      "metadata": {
        "colab": {
          "base_uri": "https://localhost:8080/"
        },
        "id": "R_kjGodHSdAL",
        "outputId": "715166c5-080c-40e6-f369-0a8ef26f7cc9"
      },
      "source": [
        "#탐색적 요인분석\n",
        "fa = FactorAnalyzer(n_factors=5, method=\"ml\", rotation=\"promax\")\n",
        "fa.fit(df[items])"
      ],
      "execution_count": 24,
      "outputs": [
        {
          "output_type": "execute_result",
          "data": {
            "text/plain": [
              "FactorAnalyzer(bounds=(0.005, 1), impute='median', is_corr_matrix=False,\n",
              "               method='ml', n_factors=5, rotation='promax', rotation_kwargs={},\n",
              "               use_smc=True)"
            ]
          },
          "metadata": {
            "tags": []
          },
          "execution_count": 24
        }
      ]
    },
    {
      "cell_type": "code",
      "metadata": {
        "colab": {
          "base_uri": "https://localhost:8080/"
        },
        "id": "3sHKsQdCTZ9F",
        "outputId": "d6ab74d0-7ce3-4e69-e39a-23a25089e952"
      },
      "source": [
        "efa_result= pd.DataFrame(fa.loadings_, index=items)\n",
        "df_get = fa.get_factor_variance()\n",
        "df_get"
      ],
      "execution_count": 28,
      "outputs": [
        {
          "output_type": "execute_result",
          "data": {
            "text/plain": [
              "(array([2.92120957, 1.47501521, 1.10865132, 0.97745005, 0.8288709 ]),\n",
              " array([0.1947473 , 0.09833435, 0.07391009, 0.06516334, 0.05525806]),\n",
              " array([0.1947473 , 0.29308165, 0.36699174, 0.43215508, 0.48741314]))"
            ]
          },
          "metadata": {
            "tags": []
          },
          "execution_count": 28
        }
      ]
    },
    {
      "cell_type": "code",
      "metadata": {
        "colab": {
          "base_uri": "https://localhost:8080/"
        },
        "id": "LFDLwnbeTliq",
        "outputId": "0401a182-0933-4efb-fd0d-5c575c34b8d8"
      },
      "source": [
        "# !sudo apt-get install -y fonts-nanum\n",
        "# !sudo fc-cache -fv\n",
        "# !rm ~/.cache/matplotlib -rf"
      ],
      "execution_count": 10,
      "outputs": [
        {
          "output_type": "stream",
          "text": [
            "Reading package lists... Done\n",
            "Building dependency tree       \n",
            "Reading state information... Done\n",
            "fonts-nanum is already the newest version (20170925-1).\n",
            "0 upgraded, 0 newly installed, 0 to remove and 40 not upgraded.\n",
            "/usr/share/fonts: caching, new cache contents: 0 fonts, 1 dirs\n",
            "/usr/share/fonts/truetype: caching, new cache contents: 0 fonts, 3 dirs\n",
            "/usr/share/fonts/truetype/humor-sans: caching, new cache contents: 1 fonts, 0 dirs\n",
            "/usr/share/fonts/truetype/liberation: caching, new cache contents: 16 fonts, 0 dirs\n",
            "/usr/share/fonts/truetype/nanum: caching, new cache contents: 10 fonts, 0 dirs\n",
            "/usr/local/share/fonts: caching, new cache contents: 0 fonts, 0 dirs\n",
            "/root/.local/share/fonts: skipping, no such directory\n",
            "/root/.fonts: skipping, no such directory\n",
            "/var/cache/fontconfig: cleaning cache directory\n",
            "/root/.cache/fontconfig: not cleaning non-existent cache directory\n",
            "/root/.fontconfig: not cleaning non-existent cache directory\n",
            "fc-cache: succeeded\n"
          ],
          "name": "stdout"
        }
      ]
    },
    {
      "cell_type": "code",
      "metadata": {
        "id": "yN5iYfffTxdj"
      },
      "source": [
        "import matplotlib.pyplot as plt\n",
        "\n",
        "plt.rc('font', family='NanumBarunGothic') "
      ],
      "execution_count": 11,
      "outputs": []
    },
    {
      "cell_type": "code",
      "metadata": {
        "colab": {
          "base_uri": "https://localhost:8080/",
          "height": 680
        },
        "id": "ITErDm7xTdOf",
        "outputId": "79d37114-21b8-49b8-849b-c1e04613ea21"
      },
      "source": [
        "plt.figure(figsize=(6,10))\n",
        "sns.heatmap(efa_result, cmap=\"Blues\", annot=True, fmt='.2f')"
      ],
      "execution_count": 26,
      "outputs": [
        {
          "output_type": "stream",
          "text": [
            "/usr/local/lib/python3.7/dist-packages/matplotlib/backends/backend_agg.py:214: RuntimeWarning: Glyph 8722 missing from current font.\n",
            "  font.set_text(s, 0.0, flags=flags)\n",
            "/usr/local/lib/python3.7/dist-packages/matplotlib/backends/backend_agg.py:183: RuntimeWarning: Glyph 8722 missing from current font.\n",
            "  font.set_text(s, 0, flags=flags)\n"
          ],
          "name": "stderr"
        },
        {
          "output_type": "execute_result",
          "data": {
            "text/plain": [
              "<matplotlib.axes._subplots.AxesSubplot at 0x7f015a5f4090>"
            ]
          },
          "metadata": {
            "tags": []
          },
          "execution_count": 26
        },
        {
          "output_type": "display_data",
          "data": {
            "image/png": "[encoded data removed]",
            "text/plain": [
              "<Figure size 432x720 with 2 Axes>"
            ]
          },
          "metadata": {
            "tags": [],
            "needs_background": "light"
          }
        }
      ]
    },
    {
      "cell_type": "code",
      "metadata": {
        "id": "fVBjl5dCWq8d"
      },
      "source": [
        "# for key, value in factors_items_dict.items():\n",
        "#     print(key)\n",
        "#     print(CronbachAlpha(df[value]))\n",
        "#     print()"
      ],
      "execution_count": 31,
      "outputs": []
    },
    {
      "cell_type": "code",
      "metadata": {
        "colab": {
          "base_uri": "https://localhost:8080/",
          "height": 436
        },
        "id": "DwGXRiVtYB-s",
        "outputId": "58fa2dfb-f2e6-4abb-ea06-b3f1594887f1"
      },
      "source": [
        "df_set = df.drop(['시군구','청년인구'], axis=1)\n",
        "df_set = df_set.astype('float64')\n",
        "df_set"
      ],
      "execution_count": 47,
      "outputs": [
        {
          "output_type": "execute_result",
          "data": {
            "text/html": [
              "<div>\n",
              "<style scoped>\n",
              "    .dataframe tbody tr th:only-of-type {\n",
              "        vertical-align: middle;\n",
              "    }\n",
              "\n",
              "    .dataframe tbody tr th {\n",
              "        vertical-align: top;\n",
              "    }\n",
              "\n",
              "    .dataframe thead th {\n",
              "        text-align: right;\n",
              "    }\n",
              "</style>\n",
              "<table border=\"1\" class=\"dataframe\">\n",
              "  <thead>\n",
              "    <tr style=\"text-align: right;\">\n",
              "      <th></th>\n",
              "      <th>병원</th>\n",
              "      <th>사회스포츠</th>\n",
              "      <th>대학교</th>\n",
              "      <th>초중고</th>\n",
              "      <th>공항</th>\n",
              "      <th>소방서</th>\n",
              "      <th>경찰서</th>\n",
              "      <th>소형상업시설(음식점_카페_학원_편의점)</th>\n",
              "      <th>대형상업시설</th>\n",
              "      <th>숙박시설</th>\n",
              "      <th>기차역</th>\n",
              "      <th>행정기관</th>\n",
              "      <th>법원, 교도소</th>\n",
              "      <th>문화시설_영화/공연/미술관박물관</th>\n",
              "      <th>버스터미널</th>\n",
              "    </tr>\n",
              "  </thead>\n",
              "  <tbody>\n",
              "    <tr>\n",
              "      <th>0</th>\n",
              "      <td>496.0</td>\n",
              "      <td>28.0</td>\n",
              "      <td>3.0</td>\n",
              "      <td>60.0</td>\n",
              "      <td>0.0</td>\n",
              "      <td>1.0</td>\n",
              "      <td>23.0</td>\n",
              "      <td>5730.0</td>\n",
              "      <td>24.0</td>\n",
              "      <td>201.0</td>\n",
              "      <td>0.0</td>\n",
              "      <td>19.0</td>\n",
              "      <td>0.0</td>\n",
              "      <td>367.0</td>\n",
              "      <td>0.0</td>\n",
              "    </tr>\n",
              "    <tr>\n",
              "      <th>1</th>\n",
              "      <td>572.0</td>\n",
              "      <td>16.0</td>\n",
              "      <td>2.0</td>\n",
              "      <td>48.0</td>\n",
              "      <td>0.0</td>\n",
              "      <td>1.0</td>\n",
              "      <td>17.0</td>\n",
              "      <td>5383.0</td>\n",
              "      <td>62.0</td>\n",
              "      <td>281.0</td>\n",
              "      <td>1.0</td>\n",
              "      <td>18.0</td>\n",
              "      <td>0.0</td>\n",
              "      <td>77.0</td>\n",
              "      <td>0.0</td>\n",
              "    </tr>\n",
              "    <tr>\n",
              "      <th>2</th>\n",
              "      <td>319.0</td>\n",
              "      <td>19.0</td>\n",
              "      <td>1.0</td>\n",
              "      <td>47.0</td>\n",
              "      <td>0.0</td>\n",
              "      <td>1.0</td>\n",
              "      <td>9.0</td>\n",
              "      <td>5056.0</td>\n",
              "      <td>23.0</td>\n",
              "      <td>104.0</td>\n",
              "      <td>9.0</td>\n",
              "      <td>18.0</td>\n",
              "      <td>1.0</td>\n",
              "      <td>48.0</td>\n",
              "      <td>0.0</td>\n",
              "    </tr>\n",
              "    <tr>\n",
              "      <th>3</th>\n",
              "      <td>457.0</td>\n",
              "      <td>21.0</td>\n",
              "      <td>2.0</td>\n",
              "      <td>69.0</td>\n",
              "      <td>0.0</td>\n",
              "      <td>1.0</td>\n",
              "      <td>10.0</td>\n",
              "      <td>4562.0</td>\n",
              "      <td>22.0</td>\n",
              "      <td>62.0</td>\n",
              "      <td>3.0</td>\n",
              "      <td>19.0</td>\n",
              "      <td>0.0</td>\n",
              "      <td>31.0</td>\n",
              "      <td>0.0</td>\n",
              "    </tr>\n",
              "    <tr>\n",
              "      <th>4</th>\n",
              "      <td>558.0</td>\n",
              "      <td>76.0</td>\n",
              "      <td>3.0</td>\n",
              "      <td>76.0</td>\n",
              "      <td>0.0</td>\n",
              "      <td>1.0</td>\n",
              "      <td>12.0</td>\n",
              "      <td>5609.0</td>\n",
              "      <td>26.0</td>\n",
              "      <td>66.0</td>\n",
              "      <td>0.0</td>\n",
              "      <td>17.0</td>\n",
              "      <td>0.0</td>\n",
              "      <td>25.0</td>\n",
              "      <td>1.0</td>\n",
              "    </tr>\n",
              "    <tr>\n",
              "      <th>...</th>\n",
              "      <td>...</td>\n",
              "      <td>...</td>\n",
              "      <td>...</td>\n",
              "      <td>...</td>\n",
              "      <td>...</td>\n",
              "      <td>...</td>\n",
              "      <td>...</td>\n",
              "      <td>...</td>\n",
              "      <td>...</td>\n",
              "      <td>...</td>\n",
              "      <td>...</td>\n",
              "      <td>...</td>\n",
              "      <td>...</td>\n",
              "      <td>...</td>\n",
              "      <td>...</td>\n",
              "    </tr>\n",
              "    <tr>\n",
              "      <th>70</th>\n",
              "      <td>618.0</td>\n",
              "      <td>24.0</td>\n",
              "      <td>1.0</td>\n",
              "      <td>106.0</td>\n",
              "      <td>0.0</td>\n",
              "      <td>1.0</td>\n",
              "      <td>6.0</td>\n",
              "      <td>7460.0</td>\n",
              "      <td>16.0</td>\n",
              "      <td>244.0</td>\n",
              "      <td>4.0</td>\n",
              "      <td>16.0</td>\n",
              "      <td>2.0</td>\n",
              "      <td>18.0</td>\n",
              "      <td>3.0</td>\n",
              "    </tr>\n",
              "    <tr>\n",
              "      <th>71</th>\n",
              "      <td>174.0</td>\n",
              "      <td>18.0</td>\n",
              "      <td>1.0</td>\n",
              "      <td>60.0</td>\n",
              "      <td>0.0</td>\n",
              "      <td>1.0</td>\n",
              "      <td>5.0</td>\n",
              "      <td>3107.0</td>\n",
              "      <td>3.0</td>\n",
              "      <td>71.0</td>\n",
              "      <td>0.0</td>\n",
              "      <td>10.0</td>\n",
              "      <td>0.0</td>\n",
              "      <td>4.0</td>\n",
              "      <td>0.0</td>\n",
              "    </tr>\n",
              "    <tr>\n",
              "      <th>72</th>\n",
              "      <td>172.0</td>\n",
              "      <td>30.0</td>\n",
              "      <td>0.0</td>\n",
              "      <td>94.0</td>\n",
              "      <td>1.0</td>\n",
              "      <td>1.0</td>\n",
              "      <td>5.0</td>\n",
              "      <td>3492.0</td>\n",
              "      <td>11.0</td>\n",
              "      <td>52.0</td>\n",
              "      <td>2.0</td>\n",
              "      <td>9.0</td>\n",
              "      <td>0.0</td>\n",
              "      <td>9.0</td>\n",
              "      <td>0.0</td>\n",
              "    </tr>\n",
              "    <tr>\n",
              "      <th>73</th>\n",
              "      <td>206.0</td>\n",
              "      <td>57.0</td>\n",
              "      <td>2.0</td>\n",
              "      <td>107.0</td>\n",
              "      <td>0.0</td>\n",
              "      <td>1.0</td>\n",
              "      <td>11.0</td>\n",
              "      <td>4586.0</td>\n",
              "      <td>5.0</td>\n",
              "      <td>195.0</td>\n",
              "      <td>5.0</td>\n",
              "      <td>13.0</td>\n",
              "      <td>1.0</td>\n",
              "      <td>18.0</td>\n",
              "      <td>1.0</td>\n",
              "    </tr>\n",
              "    <tr>\n",
              "      <th>74</th>\n",
              "      <td>402.0</td>\n",
              "      <td>47.0</td>\n",
              "      <td>3.0</td>\n",
              "      <td>155.0</td>\n",
              "      <td>0.0</td>\n",
              "      <td>2.0</td>\n",
              "      <td>11.0</td>\n",
              "      <td>5922.0</td>\n",
              "      <td>10.0</td>\n",
              "      <td>61.0</td>\n",
              "      <td>8.0</td>\n",
              "      <td>21.0</td>\n",
              "      <td>1.0</td>\n",
              "      <td>26.0</td>\n",
              "      <td>3.0</td>\n",
              "    </tr>\n",
              "  </tbody>\n",
              "</table>\n",
              "<p>75 rows × 15 columns</p>\n",
              "</div>"
            ],
            "text/plain": [
              "       병원  사회스포츠  대학교    초중고   공항  ...  기차역  행정기관  법원, 교도소  문화시설_영화/공연/미술관박물관  버스터미널\n",
              "0   496.0   28.0  3.0   60.0  0.0  ...  0.0  19.0      0.0              367.0    0.0\n",
              "1   572.0   16.0  2.0   48.0  0.0  ...  1.0  18.0      0.0               77.0    0.0\n",
              "2   319.0   19.0  1.0   47.0  0.0  ...  9.0  18.0      1.0               48.0    0.0\n",
              "3   457.0   21.0  2.0   69.0  0.0  ...  3.0  19.0      0.0               31.0    0.0\n",
              "4   558.0   76.0  3.0   76.0  0.0  ...  0.0  17.0      0.0               25.0    1.0\n",
              "..    ...    ...  ...    ...  ...  ...  ...   ...      ...                ...    ...\n",
              "70  618.0   24.0  1.0  106.0  0.0  ...  4.0  16.0      2.0               18.0    3.0\n",
              "71  174.0   18.0  1.0   60.0  0.0  ...  0.0  10.0      0.0                4.0    0.0\n",
              "72  172.0   30.0  0.0   94.0  1.0  ...  2.0   9.0      0.0                9.0    0.0\n",
              "73  206.0   57.0  2.0  107.0  0.0  ...  5.0  13.0      1.0               18.0    1.0\n",
              "74  402.0   47.0  3.0  155.0  0.0  ...  8.0  21.0      1.0               26.0    3.0\n",
              "\n",
              "[75 rows x 15 columns]"
            ]
          },
          "metadata": {
            "tags": []
          },
          "execution_count": 47
        }
      ]
    },
    {
      "cell_type": "code",
      "metadata": {
        "colab": {
          "base_uri": "https://localhost:8080/"
        },
        "id": "qcHER341Ww4u",
        "outputId": "a544a7ab-75b6-4c01-d062-4539010388be"
      },
      "source": [
        "# Bartlett의 테스트\n",
        "from factor_analyzer.factor_analyzer import calculate_bartlett_sphericity\n",
        "chi_square_value,p_value=calculate_bartlett_sphericity(df_set)\n",
        "chi_square_value, p_value"
      ],
      "execution_count": 48,
      "outputs": [
        {
          "output_type": "execute_result",
          "data": {
            "text/plain": [
              "(531.0783976056026, 1.4851949509729739e-58)"
            ]
          },
          "metadata": {
            "tags": []
          },
          "execution_count": 48
        }
      ]
    },
    {
      "cell_type": "code",
      "metadata": {
        "colab": {
          "base_uri": "https://localhost:8080/"
        },
        "id": "rMH0QLVjX_tB",
        "outputId": "46420eeb-b452-407a-bb5e-89038cea8964"
      },
      "source": [
        "# Kaiser-Meyer-Olkin (KMO)\n",
        "from factor_analyzer.factor_analyzer import calculate_kmo\n",
        "kmo_all,kmo_model=calculate_kmo(df_set)\n",
        "kmo_model"
      ],
      "execution_count": 50,
      "outputs": [
        {
          "output_type": "execute_result",
          "data": {
            "text/plain": [
              "0.6002067062296267"
            ]
          },
          "metadata": {
            "tags": []
          },
          "execution_count": 50
        }
      ]
    },
    {
      "cell_type": "code",
      "metadata": {
        "colab": {
          "base_uri": "https://localhost:8080/"
        },
        "id": "KoJ4yo02Y1BE",
        "outputId": "751afe68-3d06-4bad-93ce-6cb5b22c049b"
      },
      "source": [
        "fa = FactorAnalyzer(n_factors=15,rotation=None)\n",
        "fa.fit(df_set)\n",
        "\n",
        "#Eigen값 체크 \n",
        "ev, v = fa.get_eigenvalues()\n",
        "ev"
      ],
      "execution_count": 51,
      "outputs": [
        {
          "output_type": "execute_result",
          "data": {
            "text/plain": [
              "array([4.61648756, 1.70740136, 1.47775676, 1.26363492, 1.14670305,\n",
              "       0.94200269, 0.86431053, 0.72825267, 0.66141703, 0.47409439,\n",
              "       0.40733485, 0.28256483, 0.23496605, 0.154506  , 0.0385673 ])"
            ]
          },
          "metadata": {
            "tags": []
          },
          "execution_count": 51
        }
      ]
    },
    {
      "cell_type": "code",
      "metadata": {
        "colab": {
          "base_uri": "https://localhost:8080/",
          "height": 294
        },
        "id": "ivko4g8iZKda",
        "outputId": "ae5fc545-84e9-464c-b5f0-35ef9f867871"
      },
      "source": [
        "plt.scatter(range(1,df_set.shape[1]+1),ev)\n",
        "plt.plot(range(1,df_set.shape[1]+1),ev)\n",
        "plt.title('Scree Plot')\n",
        "plt.xlabel('Factors')\n",
        "plt.ylabel('Eigenvalue')\n",
        "plt.grid()\n",
        "plt.show()"
      ],
      "execution_count": 52,
      "outputs": [
        {
          "output_type": "display_data",
          "data": {
            "image/png": "[encoded data removed]",
            "text/plain": [
              "<Figure size 432x288 with 1 Axes>"
            ]
          },
          "metadata": {
            "tags": [],
            "needs_background": "light"
          }
        }
      ]
    },
    {
      "cell_type": "markdown",
      "metadata": {
        "id": "W4aBZYMjZSg6"
      },
      "source": [
        "2개?"
      ]
    },
    {
      "cell_type": "code",
      "metadata": {
        "colab": {
          "base_uri": "https://localhost:8080/",
          "height": 513
        },
        "id": "h-O5j08eZM3_",
        "outputId": "b38e866f-0aa9-45f7-81c8-b6235a3c5771"
      },
      "source": [
        "fa = FactorAnalyzer(n_factors=2, rotation=\"varimax\") #ml : 최대우도 방법\n",
        "fa.fit(df_set)\n",
        "efa_result= pd.DataFrame(fa.loadings_, index=df_set.columns)\n",
        "efa_result"
      ],
      "execution_count": 54,
      "outputs": [
        {
          "output_type": "execute_result",
          "data": {
            "text/html": [
              "<div>\n",
              "<style scoped>\n",
              "    .dataframe tbody tr th:only-of-type {\n",
              "        vertical-align: middle;\n",
              "    }\n",
              "\n",
              "    .dataframe tbody tr th {\n",
              "        vertical-align: top;\n",
              "    }\n",
              "\n",
              "    .dataframe thead th {\n",
              "        text-align: right;\n",
              "    }\n",
              "</style>\n",
              "<table border=\"1\" class=\"dataframe\">\n",
              "  <thead>\n",
              "    <tr style=\"text-align: right;\">\n",
              "      <th></th>\n",
              "      <th>0</th>\n",
              "      <th>1</th>\n",
              "    </tr>\n",
              "  </thead>\n",
              "  <tbody>\n",
              "    <tr>\n",
              "      <th>병원</th>\n",
              "      <td>0.756059</td>\n",
              "      <td>0.302319</td>\n",
              "    </tr>\n",
              "    <tr>\n",
              "      <th>사회스포츠</th>\n",
              "      <td>0.562539</td>\n",
              "      <td>-0.056143</td>\n",
              "    </tr>\n",
              "    <tr>\n",
              "      <th>대학교</th>\n",
              "      <td>0.252101</td>\n",
              "      <td>-0.029275</td>\n",
              "    </tr>\n",
              "    <tr>\n",
              "      <th>초중고</th>\n",
              "      <td>0.836164</td>\n",
              "      <td>-0.236479</td>\n",
              "    </tr>\n",
              "    <tr>\n",
              "      <th>공항</th>\n",
              "      <td>0.034386</td>\n",
              "      <td>-0.100316</td>\n",
              "    </tr>\n",
              "    <tr>\n",
              "      <th>소방서</th>\n",
              "      <td>0.321934</td>\n",
              "      <td>-0.014851</td>\n",
              "    </tr>\n",
              "    <tr>\n",
              "      <th>경찰서</th>\n",
              "      <td>0.519546</td>\n",
              "      <td>0.611440</td>\n",
              "    </tr>\n",
              "    <tr>\n",
              "      <th>소형상업시설(음식점_카페_학원_편의점)</th>\n",
              "      <td>0.921468</td>\n",
              "      <td>0.239245</td>\n",
              "    </tr>\n",
              "    <tr>\n",
              "      <th>대형상업시설</th>\n",
              "      <td>0.503340</td>\n",
              "      <td>0.382180</td>\n",
              "    </tr>\n",
              "    <tr>\n",
              "      <th>숙박시설</th>\n",
              "      <td>-0.056838</td>\n",
              "      <td>0.368898</td>\n",
              "    </tr>\n",
              "    <tr>\n",
              "      <th>기차역</th>\n",
              "      <td>0.265584</td>\n",
              "      <td>0.039686</td>\n",
              "    </tr>\n",
              "    <tr>\n",
              "      <th>행정기관</th>\n",
              "      <td>0.793990</td>\n",
              "      <td>0.092011</td>\n",
              "    </tr>\n",
              "    <tr>\n",
              "      <th>법원, 교도소</th>\n",
              "      <td>0.343664</td>\n",
              "      <td>-0.032756</td>\n",
              "    </tr>\n",
              "    <tr>\n",
              "      <th>문화시설_영화/공연/미술관박물관</th>\n",
              "      <td>0.095421</td>\n",
              "      <td>0.699535</td>\n",
              "    </tr>\n",
              "    <tr>\n",
              "      <th>버스터미널</th>\n",
              "      <td>0.195217</td>\n",
              "      <td>-0.095113</td>\n",
              "    </tr>\n",
              "  </tbody>\n",
              "</table>\n",
              "</div>"
            ],
            "text/plain": [
              "                              0         1\n",
              "병원                     0.756059  0.302319\n",
              "사회스포츠                  0.562539 -0.056143\n",
              "대학교                    0.252101 -0.029275\n",
              "초중고                    0.836164 -0.236479\n",
              "공항                     0.034386 -0.100316\n",
              "소방서                    0.321934 -0.014851\n",
              "경찰서                    0.519546  0.611440\n",
              "소형상업시설(음식점_카페_학원_편의점)  0.921468  0.239245\n",
              "대형상업시설                 0.503340  0.382180\n",
              "숙박시설                  -0.056838  0.368898\n",
              "기차역                    0.265584  0.039686\n",
              "행정기관                   0.793990  0.092011\n",
              "법원, 교도소                0.343664 -0.032756\n",
              "문화시설_영화/공연/미술관박물관      0.095421  0.699535\n",
              "버스터미널                  0.195217 -0.095113"
            ]
          },
          "metadata": {
            "tags": []
          },
          "execution_count": 54
        }
      ]
    },
    {
      "cell_type": "code",
      "metadata": {
        "colab": {
          "base_uri": "https://localhost:8080/",
          "height": 680
        },
        "id": "8AcD0MHFZZEt",
        "outputId": "64ca5214-d038-4d04-d1d7-6fd9a4bb6279"
      },
      "source": [
        "plt.figure(figsize=(6,10))\n",
        "sns.heatmap(efa_result, cmap=\"Blues\", annot=True, fmt='.2f')"
      ],
      "execution_count": 55,
      "outputs": [
        {
          "output_type": "stream",
          "text": [
            "/usr/local/lib/python3.7/dist-packages/matplotlib/backends/backend_agg.py:214: RuntimeWarning: Glyph 8722 missing from current font.\n",
            "  font.set_text(s, 0.0, flags=flags)\n",
            "/usr/local/lib/python3.7/dist-packages/matplotlib/backends/backend_agg.py:183: RuntimeWarning: Glyph 8722 missing from current font.\n",
            "  font.set_text(s, 0, flags=flags)\n"
          ],
          "name": "stderr"
        },
        {
          "output_type": "execute_result",
          "data": {
            "text/plain": [
              "<matplotlib.axes._subplots.AxesSubplot at 0x7f0151d39990>"
            ]
          },
          "metadata": {
            "tags": []
          },
          "execution_count": 55
        },
        {
          "output_type": "display_data",
          "data": {
            "image/png": "[encoded data removed]",
            "text/plain": [
              "<Figure size 432x720 with 2 Axes>"
            ]
          },
          "metadata": {
            "tags": [],
            "needs_background": "light"
          }
        }
      ]
    },
    {
      "cell_type": "markdown",
      "metadata": {
        "id": "U7N_fmHBaTiA"
      },
      "source": [
        "공항 , 버스 , 기차역, 소방서, 대학교 , 법원, 교도서 제거?\n"
      ]
    },
    {
      "cell_type": "code",
      "metadata": {
        "colab": {
          "base_uri": "https://localhost:8080/"
        },
        "id": "96rLSnZMaRvI",
        "outputId": "ef8a8824-0afa-489e-c968-d382d2fccb62"
      },
      "source": [
        "df.columns\n",
        "# ['시군구', '청년인구',  '대학교',  '공항', '소방서', '기차역',  '법원, 교도소', '버스터미널','숙박시설']"
      ],
      "execution_count": 59,
      "outputs": [
        {
          "output_type": "execute_result",
          "data": {
            "text/plain": [
              "Index(['시군구', '청년인구', '병원', '사회스포츠', '대학교', '초중고', '공항', '소방서', '경찰서',\n",
              "       '소형상업시설(음식점_카페_학원_편의점)', '대형상업시설', '숙박시설', '기차역', '행정기관', '법원, 교도소',\n",
              "       '문화시설_영화/공연/미술관박물관', '버스터미널'],\n",
              "      dtype='object')"
            ]
          },
          "metadata": {
            "tags": []
          },
          "execution_count": 59
        }
      ]
    },
    {
      "cell_type": "code",
      "metadata": {
        "colab": {
          "base_uri": "https://localhost:8080/",
          "height": 419
        },
        "id": "gxLz-E_GbwoW",
        "outputId": "e2eb406a-5d46-44fe-877b-5b8709f0b2b5"
      },
      "source": [
        "df_set = df.drop(['시군구', '청년인구',  '대학교',  '공항', '소방서', '기차역',  '법원, 교도소', '버스터미널','숙박시설'], axis=1)\n",
        "df_set = df_set.astype('float64')\n",
        "df_set"
      ],
      "execution_count": 67,
      "outputs": [
        {
          "output_type": "execute_result",
          "data": {
            "text/html": [
              "<div>\n",
              "<style scoped>\n",
              "    .dataframe tbody tr th:only-of-type {\n",
              "        vertical-align: middle;\n",
              "    }\n",
              "\n",
              "    .dataframe tbody tr th {\n",
              "        vertical-align: top;\n",
              "    }\n",
              "\n",
              "    .dataframe thead th {\n",
              "        text-align: right;\n",
              "    }\n",
              "</style>\n",
              "<table border=\"1\" class=\"dataframe\">\n",
              "  <thead>\n",
              "    <tr style=\"text-align: right;\">\n",
              "      <th></th>\n",
              "      <th>병원</th>\n",
              "      <th>사회스포츠</th>\n",
              "      <th>초중고</th>\n",
              "      <th>경찰서</th>\n",
              "      <th>소형상업시설(음식점_카페_학원_편의점)</th>\n",
              "      <th>대형상업시설</th>\n",
              "      <th>행정기관</th>\n",
              "      <th>문화시설_영화/공연/미술관박물관</th>\n",
              "    </tr>\n",
              "  </thead>\n",
              "  <tbody>\n",
              "    <tr>\n",
              "      <th>0</th>\n",
              "      <td>496.0</td>\n",
              "      <td>28.0</td>\n",
              "      <td>60.0</td>\n",
              "      <td>23.0</td>\n",
              "      <td>5730.0</td>\n",
              "      <td>24.0</td>\n",
              "      <td>19.0</td>\n",
              "      <td>367.0</td>\n",
              "    </tr>\n",
              "    <tr>\n",
              "      <th>1</th>\n",
              "      <td>572.0</td>\n",
              "      <td>16.0</td>\n",
              "      <td>48.0</td>\n",
              "      <td>17.0</td>\n",
              "      <td>5383.0</td>\n",
              "      <td>62.0</td>\n",
              "      <td>18.0</td>\n",
              "      <td>77.0</td>\n",
              "    </tr>\n",
              "    <tr>\n",
              "      <th>2</th>\n",
              "      <td>319.0</td>\n",
              "      <td>19.0</td>\n",
              "      <td>47.0</td>\n",
              "      <td>9.0</td>\n",
              "      <td>5056.0</td>\n",
              "      <td>23.0</td>\n",
              "      <td>18.0</td>\n",
              "      <td>48.0</td>\n",
              "    </tr>\n",
              "    <tr>\n",
              "      <th>3</th>\n",
              "      <td>457.0</td>\n",
              "      <td>21.0</td>\n",
              "      <td>69.0</td>\n",
              "      <td>10.0</td>\n",
              "      <td>4562.0</td>\n",
              "      <td>22.0</td>\n",
              "      <td>19.0</td>\n",
              "      <td>31.0</td>\n",
              "    </tr>\n",
              "    <tr>\n",
              "      <th>4</th>\n",
              "      <td>558.0</td>\n",
              "      <td>76.0</td>\n",
              "      <td>76.0</td>\n",
              "      <td>12.0</td>\n",
              "      <td>5609.0</td>\n",
              "      <td>26.0</td>\n",
              "      <td>17.0</td>\n",
              "      <td>25.0</td>\n",
              "    </tr>\n",
              "    <tr>\n",
              "      <th>...</th>\n",
              "      <td>...</td>\n",
              "      <td>...</td>\n",
              "      <td>...</td>\n",
              "      <td>...</td>\n",
              "      <td>...</td>\n",
              "      <td>...</td>\n",
              "      <td>...</td>\n",
              "      <td>...</td>\n",
              "    </tr>\n",
              "    <tr>\n",
              "      <th>70</th>\n",
              "      <td>618.0</td>\n",
              "      <td>24.0</td>\n",
              "      <td>106.0</td>\n",
              "      <td>6.0</td>\n",
              "      <td>7460.0</td>\n",
              "      <td>16.0</td>\n",
              "      <td>16.0</td>\n",
              "      <td>18.0</td>\n",
              "    </tr>\n",
              "    <tr>\n",
              "      <th>71</th>\n",
              "      <td>174.0</td>\n",
              "      <td>18.0</td>\n",
              "      <td>60.0</td>\n",
              "      <td>5.0</td>\n",
              "      <td>3107.0</td>\n",
              "      <td>3.0</td>\n",
              "      <td>10.0</td>\n",
              "      <td>4.0</td>\n",
              "    </tr>\n",
              "    <tr>\n",
              "      <th>72</th>\n",
              "      <td>172.0</td>\n",
              "      <td>30.0</td>\n",
              "      <td>94.0</td>\n",
              "      <td>5.0</td>\n",
              "      <td>3492.0</td>\n",
              "      <td>11.0</td>\n",
              "      <td>9.0</td>\n",
              "      <td>9.0</td>\n",
              "    </tr>\n",
              "    <tr>\n",
              "      <th>73</th>\n",
              "      <td>206.0</td>\n",
              "      <td>57.0</td>\n",
              "      <td>107.0</td>\n",
              "      <td>11.0</td>\n",
              "      <td>4586.0</td>\n",
              "      <td>5.0</td>\n",
              "      <td>13.0</td>\n",
              "      <td>18.0</td>\n",
              "    </tr>\n",
              "    <tr>\n",
              "      <th>74</th>\n",
              "      <td>402.0</td>\n",
              "      <td>47.0</td>\n",
              "      <td>155.0</td>\n",
              "      <td>11.0</td>\n",
              "      <td>5922.0</td>\n",
              "      <td>10.0</td>\n",
              "      <td>21.0</td>\n",
              "      <td>26.0</td>\n",
              "    </tr>\n",
              "  </tbody>\n",
              "</table>\n",
              "<p>75 rows × 8 columns</p>\n",
              "</div>"
            ],
            "text/plain": [
              "       병원  사회스포츠    초중고  ...  대형상업시설  행정기관  문화시설_영화/공연/미술관박물관\n",
              "0   496.0   28.0   60.0  ...    24.0  19.0              367.0\n",
              "1   572.0   16.0   48.0  ...    62.0  18.0               77.0\n",
              "2   319.0   19.0   47.0  ...    23.0  18.0               48.0\n",
              "3   457.0   21.0   69.0  ...    22.0  19.0               31.0\n",
              "4   558.0   76.0   76.0  ...    26.0  17.0               25.0\n",
              "..    ...    ...    ...  ...     ...   ...                ...\n",
              "70  618.0   24.0  106.0  ...    16.0  16.0               18.0\n",
              "71  174.0   18.0   60.0  ...     3.0  10.0                4.0\n",
              "72  172.0   30.0   94.0  ...    11.0   9.0                9.0\n",
              "73  206.0   57.0  107.0  ...     5.0  13.0               18.0\n",
              "74  402.0   47.0  155.0  ...    10.0  21.0               26.0\n",
              "\n",
              "[75 rows x 8 columns]"
            ]
          },
          "metadata": {
            "tags": []
          },
          "execution_count": 67
        }
      ]
    },
    {
      "cell_type": "code",
      "metadata": {
        "colab": {
          "base_uri": "https://localhost:8080/"
        },
        "id": "nnITedMob4RK",
        "outputId": "ed739e24-75b7-44d0-8b2f-a2138b0f169a"
      },
      "source": [
        "# Bartlett의 테스트\n",
        "from factor_analyzer.factor_analyzer import calculate_bartlett_sphericity\n",
        "chi_square_value,p_value=calculate_bartlett_sphericity(df_set)\n",
        "chi_square_value, p_value"
      ],
      "execution_count": 68,
      "outputs": [
        {
          "output_type": "execute_result",
          "data": {
            "text/plain": [
              "(394.59843818608385, 1.1359450260606526e-66)"
            ]
          },
          "metadata": {
            "tags": []
          },
          "execution_count": 68
        }
      ]
    },
    {
      "cell_type": "code",
      "metadata": {
        "colab": {
          "base_uri": "https://localhost:8080/"
        },
        "id": "u3WxzehOb5G1",
        "outputId": "7631f071-46be-426d-8b22-09714a20112a"
      },
      "source": [
        "# Kaiser-Meyer-Olkin (KMO)\n",
        "from factor_analyzer.factor_analyzer import calculate_kmo\n",
        "kmo_all,kmo_model=calculate_kmo(df_set)\n",
        "kmo_model"
      ],
      "execution_count": 69,
      "outputs": [
        {
          "output_type": "execute_result",
          "data": {
            "text/plain": [
              "0.6949126786486151"
            ]
          },
          "metadata": {
            "tags": []
          },
          "execution_count": 69
        }
      ]
    },
    {
      "cell_type": "code",
      "metadata": {
        "colab": {
          "base_uri": "https://localhost:8080/"
        },
        "id": "RAGlNeaCb9Hg",
        "outputId": "d321e6a4-5211-4dff-a338-98a60ad75711"
      },
      "source": [
        "fa = FactorAnalyzer(n_factors=8,rotation=None)\n",
        "fa.fit(df_set)\n",
        "\n",
        "#Eigen값 체크 \n",
        "ev, v = fa.get_eigenvalues()\n",
        "ev"
      ],
      "execution_count": 70,
      "outputs": [
        {
          "output_type": "execute_result",
          "data": {
            "text/plain": [
              "array([4.22977521, 1.38855088, 0.78994488, 0.63658919, 0.39733433,\n",
              "       0.28578783, 0.21466878, 0.0573489 ])"
            ]
          },
          "metadata": {
            "tags": []
          },
          "execution_count": 70
        }
      ]
    },
    {
      "cell_type": "code",
      "metadata": {
        "colab": {
          "base_uri": "https://localhost:8080/",
          "height": 294
        },
        "id": "wE6KgtVwcEEJ",
        "outputId": "dd00940d-d428-4a91-af82-823cc1179422"
      },
      "source": [
        "plt.scatter(range(1,df_set.shape[1]+1),ev)\n",
        "plt.plot(range(1,df_set.shape[1]+1),ev)\n",
        "plt.title('Scree Plot')\n",
        "plt.xlabel('Factors')\n",
        "plt.ylabel('Eigenvalue')\n",
        "plt.grid()\n",
        "plt.show()"
      ],
      "execution_count": 71,
      "outputs": [
        {
          "output_type": "display_data",
          "data": {
            "image/png": "[encoded data removed]",
            "text/plain": [
              "<Figure size 432x288 with 1 Axes>"
            ]
          },
          "metadata": {
            "tags": [],
            "needs_background": "light"
          }
        }
      ]
    },
    {
      "cell_type": "code",
      "metadata": {
        "colab": {
          "base_uri": "https://localhost:8080/",
          "height": 297
        },
        "id": "yU2fB3cBcI9C",
        "outputId": "401def08-903f-4a6d-cac0-15ac4eb4a1e5"
      },
      "source": [
        "fa = FactorAnalyzer(n_factors=3, rotation=\"varimax\") #ml : 최대우도 방법\n",
        "fa.fit(df_set)\n",
        "efa_result= pd.DataFrame(fa.loadings_, index=df_set.columns)\n",
        "efa_result"
      ],
      "execution_count": 72,
      "outputs": [
        {
          "output_type": "execute_result",
          "data": {
            "text/html": [
              "<div>\n",
              "<style scoped>\n",
              "    .dataframe tbody tr th:only-of-type {\n",
              "        vertical-align: middle;\n",
              "    }\n",
              "\n",
              "    .dataframe tbody tr th {\n",
              "        vertical-align: top;\n",
              "    }\n",
              "\n",
              "    .dataframe thead th {\n",
              "        text-align: right;\n",
              "    }\n",
              "</style>\n",
              "<table border=\"1\" class=\"dataframe\">\n",
              "  <thead>\n",
              "    <tr style=\"text-align: right;\">\n",
              "      <th></th>\n",
              "      <th>0</th>\n",
              "      <th>1</th>\n",
              "      <th>2</th>\n",
              "    </tr>\n",
              "  </thead>\n",
              "  <tbody>\n",
              "    <tr>\n",
              "      <th>병원</th>\n",
              "      <td>0.895099</td>\n",
              "      <td>0.273739</td>\n",
              "      <td>0.165820</td>\n",
              "    </tr>\n",
              "    <tr>\n",
              "      <th>사회스포츠</th>\n",
              "      <td>0.366723</td>\n",
              "      <td>0.415375</td>\n",
              "      <td>-0.008319</td>\n",
              "    </tr>\n",
              "    <tr>\n",
              "      <th>초중고</th>\n",
              "      <td>0.207706</td>\n",
              "      <td>0.981855</td>\n",
              "      <td>0.011015</td>\n",
              "    </tr>\n",
              "    <tr>\n",
              "      <th>경찰서</th>\n",
              "      <td>0.370342</td>\n",
              "      <td>0.300822</td>\n",
              "      <td>0.603965</td>\n",
              "    </tr>\n",
              "    <tr>\n",
              "      <th>소형상업시설(음식점_카페_학원_편의점)</th>\n",
              "      <td>0.741633</td>\n",
              "      <td>0.531043</td>\n",
              "      <td>0.220661</td>\n",
              "    </tr>\n",
              "    <tr>\n",
              "      <th>대형상업시설</th>\n",
              "      <td>0.639805</td>\n",
              "      <td>0.156486</td>\n",
              "      <td>0.180005</td>\n",
              "    </tr>\n",
              "    <tr>\n",
              "      <th>행정기관</th>\n",
              "      <td>0.518807</td>\n",
              "      <td>0.584516</td>\n",
              "      <td>0.164060</td>\n",
              "    </tr>\n",
              "    <tr>\n",
              "      <th>문화시설_영화/공연/미술관박물관</th>\n",
              "      <td>0.091516</td>\n",
              "      <td>-0.096792</td>\n",
              "      <td>0.989194</td>\n",
              "    </tr>\n",
              "  </tbody>\n",
              "</table>\n",
              "</div>"
            ],
            "text/plain": [
              "                              0         1         2\n",
              "병원                     0.895099  0.273739  0.165820\n",
              "사회스포츠                  0.366723  0.415375 -0.008319\n",
              "초중고                    0.207706  0.981855  0.011015\n",
              "경찰서                    0.370342  0.300822  0.603965\n",
              "소형상업시설(음식점_카페_학원_편의점)  0.741633  0.531043  0.220661\n",
              "대형상업시설                 0.639805  0.156486  0.180005\n",
              "행정기관                   0.518807  0.584516  0.164060\n",
              "문화시설_영화/공연/미술관박물관      0.091516 -0.096792  0.989194"
            ]
          },
          "metadata": {
            "tags": []
          },
          "execution_count": 72
        }
      ]
    },
    {
      "cell_type": "code",
      "metadata": {
        "colab": {
          "base_uri": "https://localhost:8080/",
          "height": 610
        },
        "id": "oUJM9fTVcO9D",
        "outputId": "7b3a2ef7-3e68-4973-c249-3d099e3fd6a6"
      },
      "source": [
        "plt.figure(figsize=(6,10))\n",
        "sns.heatmap(efa_result, cmap=\"Blues\", annot=True, fmt='.2f')"
      ],
      "execution_count": 73,
      "outputs": [
        {
          "output_type": "execute_result",
          "data": {
            "text/plain": [
              "<matplotlib.axes._subplots.AxesSubplot at 0x7f0151a4e110>"
            ]
          },
          "metadata": {
            "tags": []
          },
          "execution_count": 73
        },
        {
          "output_type": "display_data",
          "data": {
            "image/png": "[encoded data removed]",
            "text/plain": [
              "<Figure size 432x720 with 2 Axes>"
            ]
          },
          "metadata": {
            "tags": [],
            "needs_background": "light"
          }
        }
      ]
    },
    {
      "cell_type": "code",
      "metadata": {
        "id": "kTU6FhZ_Zeyw"
      },
      "source": [
        "# # 신뢰도 계수(Cronbach’s alpha) 확인하기\n",
        "# def CronbachAlpha(itemscores):\n",
        "#     itemscores = np.asarray(itemscores)\n",
        "#     itemvars = itemscores.var(axis=0, ddof=1)\n",
        "#     tscores = itemscores.sum(axis=1)\n",
        "#     nitems = itemscores.shape[1]\n",
        "#     return (nitems / (nitems-1)) * (1 - (itemvars.sum() / tscores.var(ddof=1)))"
      ],
      "execution_count": 57,
      "outputs": []
    },
    {
      "cell_type": "code",
      "metadata": {
        "colab": {
          "base_uri": "https://localhost:8080/"
        },
        "id": "YZrye-8ZZ6ih",
        "outputId": "e3951dcf-1f4e-4ab5-9a3c-d058635180bd"
      },
      "source": [
        "# factors = ['infra1', 'infra2']\n",
        "# factors_items_dict = {}\n",
        "# for factor in factors:\n",
        "#     factors_items_dict[factor] = [x for x in df_set.columns if x[0] == factor]\n",
        "\n",
        "# factors_items_dict"
      ],
      "execution_count": 58,
      "outputs": [
        {
          "output_type": "execute_result",
          "data": {
            "text/plain": [
              "{'infra1': [], 'infra2': []}"
            ]
          },
          "metadata": {
            "tags": []
          },
          "execution_count": 58
        }
      ]
    },
    {
      "cell_type": "code",
      "metadata": {
        "colab": {
          "base_uri": "https://localhost:8080/",
          "height": 169
        },
        "id": "V3ZAtOG4aD0u",
        "outputId": "4f21c4fc-e2d4-44e9-f85a-dd1434c3fe65"
      },
      "source": [
        "m.save('index.html')"
      ],
      "execution_count": 74,
      "outputs": [
        {
          "output_type": "error",
          "ename": "NameError",
          "evalue": "ignored",
          "traceback": [
            "\u001b[0;31m---------------------------------------------------------------------------\u001b[0m",
            "\u001b[0;31mNameError\u001b[0m                                 Traceback (most recent call last)",
            "\u001b[0;32m<ipython-input-74-3c30e956eb0f>\u001b[0m in \u001b[0;36m<module>\u001b[0;34m()\u001b[0m\n\u001b[0;32m----> 1\u001b[0;31m \u001b[0mm\u001b[0m\u001b[0;34m.\u001b[0m\u001b[0msave\u001b[0m\u001b[0;34m(\u001b[0m\u001b[0;34m'index.html'\u001b[0m\u001b[0;34m)\u001b[0m\u001b[0;34m\u001b[0m\u001b[0;34m\u001b[0m\u001b[0m\n\u001b[0m",
            "\u001b[0;31mNameError\u001b[0m: name 'm' is not defined"
          ]
        }
      ]
    },
    {
      "cell_type": "code",
      "metadata": {
        "id": "z2HwGvWOdZtD"
      },
      "source": [
        ""
      ],
      "execution_count": null,
      "outputs": []
    }
  ]
}