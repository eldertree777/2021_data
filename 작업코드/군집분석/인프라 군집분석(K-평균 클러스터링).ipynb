{
 "cells": [
  {
   "cell_type": "markdown",
   "id": "2f6e06a3",
   "metadata": {},
   "source": [
    "https://blog.daum.net/geoscience/1515 를 참고함"
   ]
  },
  {
   "cell_type": "code",
   "execution_count": 1,
   "id": "8d90a590",
   "metadata": {},
   "outputs": [
    {
     "name": "stdout",
     "output_type": "stream",
     "text": [
      "Collecting matplot\n",
      "  Downloading matplot-0.1.9-py2.py3-none-any.whl (5.0 kB)\n",
      "Collecting pyloco>=0.0.134\n",
      "  Downloading pyloco-0.0.139-py2.py3-none-any.whl (60 kB)\n",
      "Requirement already satisfied: matplotlib>=3.1.1 in c:\\users\\csh51\\anaconda3\\lib\\site-packages (from matplot) (3.3.4)\n",
      "Requirement already satisfied: pillow>=6.2.0 in c:\\users\\csh51\\anaconda3\\lib\\site-packages (from matplotlib>=3.1.1->matplot) (8.2.0)\n",
      "Requirement already satisfied: numpy>=1.15 in c:\\users\\csh51\\anaconda3\\lib\\site-packages (from matplotlib>=3.1.1->matplot) (1.20.1)\n",
      "Requirement already satisfied: kiwisolver>=1.0.1 in c:\\users\\csh51\\anaconda3\\lib\\site-packages (from matplotlib>=3.1.1->matplot) (1.3.1)\n",
      "Requirement already satisfied: pyparsing!=2.0.4,!=2.1.2,!=2.1.6,>=2.0.3 in c:\\users\\csh51\\anaconda3\\lib\\site-packages (from matplotlib>=3.1.1->matplot) (2.4.7)\n",
      "Requirement already satisfied: cycler>=0.10 in c:\\users\\csh51\\anaconda3\\lib\\site-packages (from matplotlib>=3.1.1->matplot) (0.10.0)\n",
      "Requirement already satisfied: python-dateutil>=2.1 in c:\\users\\csh51\\anaconda3\\lib\\site-packages (from matplotlib>=3.1.1->matplot) (2.8.1)\n",
      "Requirement already satisfied: six in c:\\users\\csh51\\anaconda3\\lib\\site-packages (from cycler>=0.10->matplotlib>=3.1.1->matplot) (1.15.0)\n",
      "Collecting typing\n",
      "  Downloading typing-3.7.4.3.tar.gz (78 kB)\n",
      "Collecting SimpleWebSocketServer\n",
      "  Downloading SimpleWebsocketServer-0.1.1.tar.gz (8.0 kB)\n",
      "Collecting twine\n",
      "  Downloading twine-3.4.2-py3-none-any.whl (34 kB)\n",
      "Collecting websocket-client\n",
      "  Downloading websocket_client-1.2.1-py2.py3-none-any.whl (52 kB)\n",
      "Collecting ushlex\n",
      "  Downloading ushlex-0.99.1.tar.gz (4.7 kB)\n",
      "Requirement already satisfied: tqdm>=4.14 in c:\\users\\csh51\\anaconda3\\lib\\site-packages (from twine->pyloco>=0.0.134->matplot) (4.59.0)\n",
      "Requirement already satisfied: importlib-metadata>=3.6 in c:\\users\\csh51\\anaconda3\\lib\\site-packages (from twine->pyloco>=0.0.134->matplot) (3.10.0)\n",
      "Collecting readme-renderer>=21.0\n",
      "  Downloading readme_renderer-29.0-py2.py3-none-any.whl (15 kB)\n",
      "Collecting rfc3986>=1.4.0\n",
      "  Downloading rfc3986-1.5.0-py2.py3-none-any.whl (31 kB)\n",
      "Requirement already satisfied: colorama>=0.4.3 in c:\\users\\csh51\\anaconda3\\lib\\site-packages (from twine->pyloco>=0.0.134->matplot) (0.4.4)\n",
      "Requirement already satisfied: pkginfo>=1.4.2 in c:\\users\\csh51\\anaconda3\\lib\\site-packages (from twine->pyloco>=0.0.134->matplot) (1.7.0)\n",
      "Requirement already satisfied: requests>=2.20 in c:\\users\\csh51\\anaconda3\\lib\\site-packages (from twine->pyloco>=0.0.134->matplot) (2.25.1)\n",
      "Collecting requests-toolbelt!=0.9.0,>=0.8.0\n",
      "  Downloading requests_toolbelt-0.9.1-py2.py3-none-any.whl (54 kB)\n",
      "Requirement already satisfied: keyring>=15.1 in c:\\users\\csh51\\anaconda3\\lib\\site-packages (from twine->pyloco>=0.0.134->matplot) (22.3.0)\n",
      "Requirement already satisfied: zipp>=0.5 in c:\\users\\csh51\\anaconda3\\lib\\site-packages (from importlib-metadata>=3.6->twine->pyloco>=0.0.134->matplot) (3.4.1)\n",
      "Requirement already satisfied: pywin32-ctypes!=0.1.0,!=0.1.1 in c:\\users\\csh51\\anaconda3\\lib\\site-packages (from keyring>=15.1->twine->pyloco>=0.0.134->matplot) (0.2.0)\n",
      "Requirement already satisfied: bleach>=2.1.0 in c:\\users\\csh51\\anaconda3\\lib\\site-packages (from readme-renderer>=21.0->twine->pyloco>=0.0.134->matplot) (3.3.0)\n",
      "Requirement already satisfied: Pygments>=2.5.1 in c:\\users\\csh51\\anaconda3\\lib\\site-packages (from readme-renderer>=21.0->twine->pyloco>=0.0.134->matplot) (2.8.1)\n",
      "Requirement already satisfied: docutils>=0.13.1 in c:\\users\\csh51\\anaconda3\\lib\\site-packages (from readme-renderer>=21.0->twine->pyloco>=0.0.134->matplot) (0.17)\n",
      "Requirement already satisfied: packaging in c:\\users\\csh51\\anaconda3\\lib\\site-packages (from bleach>=2.1.0->readme-renderer>=21.0->twine->pyloco>=0.0.134->matplot) (20.9)\n",
      "Requirement already satisfied: webencodings in c:\\users\\csh51\\anaconda3\\lib\\site-packages (from bleach>=2.1.0->readme-renderer>=21.0->twine->pyloco>=0.0.134->matplot) (0.5.1)\n",
      "Requirement already satisfied: chardet<5,>=3.0.2 in c:\\users\\csh51\\anaconda3\\lib\\site-packages (from requests>=2.20->twine->pyloco>=0.0.134->matplot) (4.0.0)\n",
      "Requirement already satisfied: idna<3,>=2.5 in c:\\users\\csh51\\anaconda3\\lib\\site-packages (from requests>=2.20->twine->pyloco>=0.0.134->matplot) (2.10)\n",
      "Requirement already satisfied: certifi>=2017.4.17 in c:\\users\\csh51\\anaconda3\\lib\\site-packages (from requests>=2.20->twine->pyloco>=0.0.134->matplot) (2020.12.5)\n",
      "Requirement already satisfied: urllib3<1.27,>=1.21.1 in c:\\users\\csh51\\anaconda3\\lib\\site-packages (from requests>=2.20->twine->pyloco>=0.0.134->matplot) (1.26.4)\n",
      "Building wheels for collected packages: SimpleWebSocketServer, typing, ushlex\n",
      "  Building wheel for SimpleWebSocketServer (setup.py): started\n",
      "  Building wheel for SimpleWebSocketServer (setup.py): finished with status 'done'\n",
      "  Created wheel for SimpleWebSocketServer: filename=SimpleWebSocketServer-0.1.1-py3-none-any.whl size=9492 sha256=2162e5b92b46167d3ac50bff5bd6b43a257a351a9e9d222b9a2f9e45180be527\n",
      "  Stored in directory: c:\\users\\csh51\\appdata\\local\\pip\\cache\\wheels\\02\\28\\f3\\c9739708d8bf7bbbf1e1f5328113363458c229cfe2e23e5f72\n",
      "  Building wheel for typing (setup.py): started\n",
      "  Building wheel for typing (setup.py): finished with status 'done'\n",
      "  Created wheel for typing: filename=typing-3.7.4.3-py3-none-any.whl size=26308 sha256=3fc7146935f4295b63a7cb86512a0967833896addb4251cbbbcae9d00544c3e9\n",
      "  Stored in directory: c:\\users\\csh51\\appdata\\local\\pip\\cache\\wheels\\5e\\5d\\01\\3083e091b57809dad979ea543def62d9d878950e3e74f0c930\n",
      "  Building wheel for ushlex (setup.py): started\n",
      "  Building wheel for ushlex (setup.py): finished with status 'done'\n",
      "  Created wheel for ushlex: filename=ushlex-0.99.1-py3-none-any.whl size=4415 sha256=052584c0771c09f29e6f6354781688134a2c5507913a46862059d780ff4eedc5\n",
      "  Stored in directory: c:\\users\\csh51\\appdata\\local\\pip\\cache\\wheels\\d1\\fd\\c1\\1a3ae6a14d03618418c757b09c0b55dcb07bb3409a6780a127\n",
      "Successfully built SimpleWebSocketServer typing ushlex\n",
      "Installing collected packages: rfc3986, requests-toolbelt, readme-renderer, websocket-client, ushlex, typing, twine, SimpleWebSocketServer, pyloco, matplot\n",
      "Successfully installed SimpleWebSocketServer-0.1.1 matplot-0.1.9 pyloco-0.0.139 readme-renderer-29.0 requests-toolbelt-0.9.1 rfc3986-1.5.0 twine-3.4.2 typing-3.7.4.3 ushlex-0.99.1 websocket-client-1.2.1\n"
     ]
    }
   ],
   "source": [
    "!pip install matplot"
   ]
  },
  {
   "cell_type": "code",
   "execution_count": 61,
   "id": "dd1672d8",
   "metadata": {},
   "outputs": [],
   "source": [
    "import pandas as pd\n",
    "import matplotlib.pyplot as plt\n",
    "import seaborn as sns\n",
    "import matplotlib.font_manager as fm\n",
    "import numpy as np\n",
    "import random as rd"
   ]
  },
  {
   "cell_type": "code",
   "execution_count": 62,
   "id": "9346d840",
   "metadata": {
    "scrolled": false
   },
   "outputs": [
    {
     "data": {
      "text/html": [
       "<div>\n",
       "<style scoped>\n",
       "    .dataframe tbody tr th:only-of-type {\n",
       "        vertical-align: middle;\n",
       "    }\n",
       "\n",
       "    .dataframe tbody tr th {\n",
       "        vertical-align: top;\n",
       "    }\n",
       "\n",
       "    .dataframe thead th {\n",
       "        text-align: right;\n",
       "    }\n",
       "</style>\n",
       "<table border=\"1\" class=\"dataframe\">\n",
       "  <thead>\n",
       "    <tr style=\"text-align: right;\">\n",
       "      <th></th>\n",
       "      <th>Unnamed: 0</th>\n",
       "      <th>시군구</th>\n",
       "      <th>청년인구</th>\n",
       "      <th>병원</th>\n",
       "      <th>사회스포츠</th>\n",
       "      <th>대학교</th>\n",
       "      <th>초중고</th>\n",
       "      <th>공항</th>\n",
       "      <th>소방서</th>\n",
       "      <th>경찰서</th>\n",
       "      <th>소형상업시설(음식점_카페_학원_편의점)</th>\n",
       "      <th>대형상업시설</th>\n",
       "      <th>숙박시설</th>\n",
       "      <th>기차역</th>\n",
       "      <th>행정기관</th>\n",
       "      <th>법원, 교도소</th>\n",
       "      <th>문화시설_영화/공연/미술관박물관</th>\n",
       "      <th>버스터미널</th>\n",
       "    </tr>\n",
       "  </thead>\n",
       "  <tbody>\n",
       "    <tr>\n",
       "      <th>0</th>\n",
       "      <td>0</td>\n",
       "      <td>서울_종로구</td>\n",
       "      <td>32,943</td>\n",
       "      <td>496</td>\n",
       "      <td>28.0</td>\n",
       "      <td>3</td>\n",
       "      <td>60.0</td>\n",
       "      <td>0</td>\n",
       "      <td>1</td>\n",
       "      <td>23</td>\n",
       "      <td>5730</td>\n",
       "      <td>24</td>\n",
       "      <td>201</td>\n",
       "      <td>0</td>\n",
       "      <td>19.0</td>\n",
       "      <td>0.0</td>\n",
       "      <td>367.0</td>\n",
       "      <td>0.0</td>\n",
       "    </tr>\n",
       "    <tr>\n",
       "      <th>1</th>\n",
       "      <td>1</td>\n",
       "      <td>서울_중구</td>\n",
       "      <td>28,277</td>\n",
       "      <td>572</td>\n",
       "      <td>16.0</td>\n",
       "      <td>2</td>\n",
       "      <td>48.0</td>\n",
       "      <td>0</td>\n",
       "      <td>1</td>\n",
       "      <td>17</td>\n",
       "      <td>5383</td>\n",
       "      <td>62</td>\n",
       "      <td>281</td>\n",
       "      <td>1</td>\n",
       "      <td>18.0</td>\n",
       "      <td>0.0</td>\n",
       "      <td>77.0</td>\n",
       "      <td>0.0</td>\n",
       "    </tr>\n",
       "  </tbody>\n",
       "</table>\n",
       "</div>"
      ],
      "text/plain": [
       "   Unnamed: 0     시군구    청년인구   병원  사회스포츠  대학교   초중고  공항  소방서  경찰서  \\\n",
       "0           0  서울_종로구  32,943  496   28.0    3  60.0   0    1   23   \n",
       "1           1   서울_중구  28,277  572   16.0    2  48.0   0    1   17   \n",
       "\n",
       "   소형상업시설(음식점_카페_학원_편의점)  대형상업시설  숙박시설  기차역  행정기관  법원, 교도소  문화시설_영화/공연/미술관박물관  \\\n",
       "0                   5730      24   201    0  19.0      0.0              367.0   \n",
       "1                   5383      62   281    1  18.0      0.0               77.0   \n",
       "\n",
       "   버스터미널  \n",
       "0    0.0  \n",
       "1    0.0  "
      ]
     },
     "execution_count": 62,
     "metadata": {},
     "output_type": "execute_result"
    }
   ],
   "source": [
    "#데이터 가져오기\n",
    "df = pd.read_table('시군구별_인프라수_청년수.txt', sep=',', encoding='cp949')\n",
    "df.head(2)"
   ]
  },
  {
   "cell_type": "code",
   "execution_count": 63,
   "id": "432ac518",
   "metadata": {
    "scrolled": false
   },
   "outputs": [],
   "source": [
    "#플롯에서 한글이 깨지는 경우가 없도록 폰트 지정\n",
    "from matplotlib import font_manager, rc\n",
    "font_path = \"C:/Windows/Fonts/NGULIM.TTF\"\n",
    "font = font_manager.FontProperties(fname=font_path).get_name()\n",
    "rc('font', family=font)"
   ]
  },
  {
   "cell_type": "code",
   "execution_count": 64,
   "id": "be9b4904",
   "metadata": {
    "scrolled": false
   },
   "outputs": [
    {
     "data": {
      "text/html": [
       "<div>\n",
       "<style scoped>\n",
       "    .dataframe tbody tr th:only-of-type {\n",
       "        vertical-align: middle;\n",
       "    }\n",
       "\n",
       "    .dataframe tbody tr th {\n",
       "        vertical-align: top;\n",
       "    }\n",
       "\n",
       "    .dataframe thead th {\n",
       "        text-align: right;\n",
       "    }\n",
       "</style>\n",
       "<table border=\"1\" class=\"dataframe\">\n",
       "  <thead>\n",
       "    <tr style=\"text-align: right;\">\n",
       "      <th></th>\n",
       "      <th>시군구</th>\n",
       "      <th>청년인구</th>\n",
       "      <th>병원</th>\n",
       "      <th>사회스포츠</th>\n",
       "      <th>대학교</th>\n",
       "      <th>초중고</th>\n",
       "      <th>공항</th>\n",
       "      <th>소방서</th>\n",
       "      <th>경찰서</th>\n",
       "      <th>소형상업시설(음식점_카페_학원_편의점)</th>\n",
       "      <th>대형상업시설</th>\n",
       "      <th>숙박시설</th>\n",
       "      <th>기차역</th>\n",
       "      <th>행정기관</th>\n",
       "      <th>법원, 교도소</th>\n",
       "      <th>문화시설_영화/공연/미술관박물관</th>\n",
       "      <th>버스터미널</th>\n",
       "    </tr>\n",
       "  </thead>\n",
       "  <tbody>\n",
       "    <tr>\n",
       "      <th>0</th>\n",
       "      <td>서울_종로구</td>\n",
       "      <td>32,943</td>\n",
       "      <td>496</td>\n",
       "      <td>28.0</td>\n",
       "      <td>3</td>\n",
       "      <td>60.0</td>\n",
       "      <td>0</td>\n",
       "      <td>1</td>\n",
       "      <td>23</td>\n",
       "      <td>5730</td>\n",
       "      <td>24</td>\n",
       "      <td>201</td>\n",
       "      <td>0</td>\n",
       "      <td>19.0</td>\n",
       "      <td>0.0</td>\n",
       "      <td>367.0</td>\n",
       "      <td>0.0</td>\n",
       "    </tr>\n",
       "    <tr>\n",
       "      <th>1</th>\n",
       "      <td>서울_중구</td>\n",
       "      <td>28,277</td>\n",
       "      <td>572</td>\n",
       "      <td>16.0</td>\n",
       "      <td>2</td>\n",
       "      <td>48.0</td>\n",
       "      <td>0</td>\n",
       "      <td>1</td>\n",
       "      <td>17</td>\n",
       "      <td>5383</td>\n",
       "      <td>62</td>\n",
       "      <td>281</td>\n",
       "      <td>1</td>\n",
       "      <td>18.0</td>\n",
       "      <td>0.0</td>\n",
       "      <td>77.0</td>\n",
       "      <td>0.0</td>\n",
       "    </tr>\n",
       "    <tr>\n",
       "      <th>2</th>\n",
       "      <td>서울_용산구</td>\n",
       "      <td>52,554</td>\n",
       "      <td>319</td>\n",
       "      <td>19.0</td>\n",
       "      <td>1</td>\n",
       "      <td>47.0</td>\n",
       "      <td>0</td>\n",
       "      <td>1</td>\n",
       "      <td>9</td>\n",
       "      <td>5056</td>\n",
       "      <td>23</td>\n",
       "      <td>104</td>\n",
       "      <td>9</td>\n",
       "      <td>18.0</td>\n",
       "      <td>1.0</td>\n",
       "      <td>48.0</td>\n",
       "      <td>0.0</td>\n",
       "    </tr>\n",
       "  </tbody>\n",
       "</table>\n",
       "</div>"
      ],
      "text/plain": [
       "      시군구    청년인구   병원  사회스포츠  대학교   초중고  공항  소방서  경찰서  소형상업시설(음식점_카페_학원_편의점)  \\\n",
       "0  서울_종로구  32,943  496   28.0    3  60.0   0    1   23                   5730   \n",
       "1   서울_중구  28,277  572   16.0    2  48.0   0    1   17                   5383   \n",
       "2  서울_용산구  52,554  319   19.0    1  47.0   0    1    9                   5056   \n",
       "\n",
       "   대형상업시설  숙박시설  기차역  행정기관  법원, 교도소  문화시설_영화/공연/미술관박물관  버스터미널  \n",
       "0      24   201    0  19.0      0.0              367.0    0.0  \n",
       "1      62   281    1  18.0      0.0               77.0    0.0  \n",
       "2      23   104    9  18.0      1.0               48.0    0.0  "
      ]
     },
     "execution_count": 64,
     "metadata": {},
     "output_type": "execute_result"
    }
   ],
   "source": [
    "#앞에 번호 삭제\n",
    "df = df.drop(columns=['Unnamed: 0'],axis=1)\n",
    "df.head(3)"
   ]
  },
  {
   "cell_type": "code",
   "execution_count": 65,
   "id": "f75dd74d",
   "metadata": {},
   "outputs": [
    {
     "data": {
      "text/plain": [
       "시군구                       object\n",
       "청년인구                      object\n",
       "병원                         int64\n",
       "사회스포츠                    float64\n",
       "대학교                        int64\n",
       "초중고                      float64\n",
       "공항                         int64\n",
       "소방서                        int64\n",
       "경찰서                        int64\n",
       "소형상업시설(음식점_카페_학원_편의점)      int64\n",
       "대형상업시설                     int64\n",
       "숙박시설                       int64\n",
       "기차역                        int64\n",
       "행정기관                     float64\n",
       "법원, 교도소                  float64\n",
       "문화시설_영화/공연/미술관박물관        float64\n",
       "버스터미널                    float64\n",
       "dtype: object"
      ]
     },
     "execution_count": 65,
     "metadata": {},
     "output_type": "execute_result"
    }
   ],
   "source": [
    "#데이터 타입 확인\n",
    "df.dtypes"
   ]
  },
  {
   "cell_type": "code",
   "execution_count": 66,
   "id": "3c5f7749",
   "metadata": {
    "scrolled": true
   },
   "outputs": [
    {
     "data": {
      "text/html": [
       "<div>\n",
       "<style scoped>\n",
       "    .dataframe tbody tr th:only-of-type {\n",
       "        vertical-align: middle;\n",
       "    }\n",
       "\n",
       "    .dataframe tbody tr th {\n",
       "        vertical-align: top;\n",
       "    }\n",
       "\n",
       "    .dataframe thead th {\n",
       "        text-align: right;\n",
       "    }\n",
       "</style>\n",
       "<table border=\"1\" class=\"dataframe\">\n",
       "  <thead>\n",
       "    <tr style=\"text-align: right;\">\n",
       "      <th></th>\n",
       "      <th>시군구</th>\n",
       "      <th>청년인구</th>\n",
       "      <th>병원</th>\n",
       "      <th>사회스포츠</th>\n",
       "      <th>대학교</th>\n",
       "      <th>초중고</th>\n",
       "      <th>공항</th>\n",
       "      <th>소방서</th>\n",
       "      <th>경찰서</th>\n",
       "      <th>소형상업시설(음식점_카페_학원_편의점)</th>\n",
       "      <th>대형상업시설</th>\n",
       "      <th>숙박시설</th>\n",
       "      <th>기차역</th>\n",
       "      <th>행정기관</th>\n",
       "      <th>법원, 교도소</th>\n",
       "      <th>문화시설_영화/공연/미술관박물관</th>\n",
       "      <th>버스터미널</th>\n",
       "    </tr>\n",
       "  </thead>\n",
       "  <tbody>\n",
       "    <tr>\n",
       "      <th>0</th>\n",
       "      <td>서울_종로구</td>\n",
       "      <td>32943</td>\n",
       "      <td>496</td>\n",
       "      <td>28</td>\n",
       "      <td>3</td>\n",
       "      <td>60</td>\n",
       "      <td>0</td>\n",
       "      <td>1</td>\n",
       "      <td>23</td>\n",
       "      <td>5730</td>\n",
       "      <td>24</td>\n",
       "      <td>201</td>\n",
       "      <td>0</td>\n",
       "      <td>19</td>\n",
       "      <td>0</td>\n",
       "      <td>367</td>\n",
       "      <td>0</td>\n",
       "    </tr>\n",
       "    <tr>\n",
       "      <th>1</th>\n",
       "      <td>서울_중구</td>\n",
       "      <td>28277</td>\n",
       "      <td>572</td>\n",
       "      <td>16</td>\n",
       "      <td>2</td>\n",
       "      <td>48</td>\n",
       "      <td>0</td>\n",
       "      <td>1</td>\n",
       "      <td>17</td>\n",
       "      <td>5383</td>\n",
       "      <td>62</td>\n",
       "      <td>281</td>\n",
       "      <td>1</td>\n",
       "      <td>18</td>\n",
       "      <td>0</td>\n",
       "      <td>77</td>\n",
       "      <td>0</td>\n",
       "    </tr>\n",
       "  </tbody>\n",
       "</table>\n",
       "</div>"
      ],
      "text/plain": [
       "      시군구   청년인구   병원  사회스포츠  대학교  초중고  공항  소방서  경찰서  소형상업시설(음식점_카페_학원_편의점)  \\\n",
       "0  서울_종로구  32943  496     28    3   60   0    1   23                   5730   \n",
       "1   서울_중구  28277  572     16    2   48   0    1   17                   5383   \n",
       "\n",
       "   대형상업시설  숙박시설  기차역  행정기관  법원, 교도소  문화시설_영화/공연/미술관박물관  버스터미널  \n",
       "0      24   201    0    19        0                367      0  \n",
       "1      62   281    1    18        0                 77      0  "
      ]
     },
     "execution_count": 66,
     "metadata": {},
     "output_type": "execute_result"
    }
   ],
   "source": [
    "#int로 변경\n",
    "df = df.astype({'사회스포츠': 'int'})\n",
    "df = df.astype({'초중고': 'int'})\n",
    "df = df.astype({'행정기관': 'int'})\n",
    "df = df.astype({'법원, 교도소': 'int'})\n",
    "df = df.astype({'문화시설_영화/공연/미술관박물관': 'int'})\n",
    "df = df.astype({'버스터미널': 'int'})\n",
    "\n",
    "df['청년인구'] = df['청년인구'].str.replace(\",\",\"\")\n",
    "\n",
    "df = df.astype({'청년인구' : 'int'})\n",
    " \n",
    "df.head(2)"
   ]
  },
  {
   "cell_type": "code",
   "execution_count": 67,
   "id": "70d2530a",
   "metadata": {
    "scrolled": true
   },
   "outputs": [
    {
     "data": {
      "text/html": [
       "<div>\n",
       "<style scoped>\n",
       "    .dataframe tbody tr th:only-of-type {\n",
       "        vertical-align: middle;\n",
       "    }\n",
       "\n",
       "    .dataframe tbody tr th {\n",
       "        vertical-align: top;\n",
       "    }\n",
       "\n",
       "    .dataframe thead th {\n",
       "        text-align: right;\n",
       "    }\n",
       "</style>\n",
       "<table border=\"1\" class=\"dataframe\">\n",
       "  <thead>\n",
       "    <tr style=\"text-align: right;\">\n",
       "      <th></th>\n",
       "      <th>시군구</th>\n",
       "      <th>청년인구</th>\n",
       "      <th>병원</th>\n",
       "      <th>사회스포츠</th>\n",
       "      <th>대학교</th>\n",
       "      <th>초중고</th>\n",
       "      <th>공항</th>\n",
       "      <th>소방서</th>\n",
       "      <th>경찰서</th>\n",
       "      <th>소형상업시설(음식점_카페_학원_편의점)</th>\n",
       "      <th>대형상업시설</th>\n",
       "      <th>숙박시설</th>\n",
       "      <th>기차역</th>\n",
       "      <th>행정기관</th>\n",
       "      <th>법원, 교도소</th>\n",
       "      <th>문화시설_영화/공연/미술관박물관</th>\n",
       "      <th>버스터미널</th>\n",
       "      <th>인프라수</th>\n",
       "    </tr>\n",
       "  </thead>\n",
       "  <tbody>\n",
       "    <tr>\n",
       "      <th>0</th>\n",
       "      <td>서울_종로구</td>\n",
       "      <td>32943</td>\n",
       "      <td>496</td>\n",
       "      <td>28</td>\n",
       "      <td>3</td>\n",
       "      <td>60</td>\n",
       "      <td>0</td>\n",
       "      <td>1</td>\n",
       "      <td>23</td>\n",
       "      <td>5730</td>\n",
       "      <td>24</td>\n",
       "      <td>201</td>\n",
       "      <td>0</td>\n",
       "      <td>19</td>\n",
       "      <td>0</td>\n",
       "      <td>367</td>\n",
       "      <td>0</td>\n",
       "      <td>6952</td>\n",
       "    </tr>\n",
       "    <tr>\n",
       "      <th>1</th>\n",
       "      <td>서울_중구</td>\n",
       "      <td>28277</td>\n",
       "      <td>572</td>\n",
       "      <td>16</td>\n",
       "      <td>2</td>\n",
       "      <td>48</td>\n",
       "      <td>0</td>\n",
       "      <td>1</td>\n",
       "      <td>17</td>\n",
       "      <td>5383</td>\n",
       "      <td>62</td>\n",
       "      <td>281</td>\n",
       "      <td>1</td>\n",
       "      <td>18</td>\n",
       "      <td>0</td>\n",
       "      <td>77</td>\n",
       "      <td>0</td>\n",
       "      <td>6478</td>\n",
       "    </tr>\n",
       "  </tbody>\n",
       "</table>\n",
       "</div>"
      ],
      "text/plain": [
       "      시군구   청년인구   병원  사회스포츠  대학교  초중고  공항  소방서  경찰서  소형상업시설(음식점_카페_학원_편의점)  \\\n",
       "0  서울_종로구  32943  496     28    3   60   0    1   23                   5730   \n",
       "1   서울_중구  28277  572     16    2   48   0    1   17                   5383   \n",
       "\n",
       "   대형상업시설  숙박시설  기차역  행정기관  법원, 교도소  문화시설_영화/공연/미술관박물관  버스터미널  인프라수  \n",
       "0      24   201    0    19        0                367      0  6952  \n",
       "1      62   281    1    18        0                 77      0  6478  "
      ]
     },
     "execution_count": 67,
     "metadata": {},
     "output_type": "execute_result"
    }
   ],
   "source": [
    "#모든 인프라를 합쳐 '인프라수' 행 추가\n",
    "df['인프라수'] = df['병원']+df['사회스포츠']+df['대학교']+df['초중고']+df['공항']+df['소방서']+df['경찰서']+df['소형상업시설(음식점_카페_학원_편의점)']+df['대형상업시설']+df['숙박시설']+df['기차역']+df['행정기관']+df['법원, 교도소']+df['문화시설_영화/공연/미술관박물관']+df['버스터미널']\n",
    "df.head(2)"
   ]
  },
  {
   "cell_type": "code",
   "execution_count": 68,
   "id": "86b47be7",
   "metadata": {},
   "outputs": [],
   "source": [
    "X = df.iloc[:, [1, 17]].values # shape=(22, 2)\n",
    "m=X.shape[0] # 집합 개수 (m=75)\n",
    "n=X.shape[1] # 특징 개수 (n=2)"
   ]
  },
  {
   "cell_type": "code",
   "execution_count": 71,
   "id": "f1842168",
   "metadata": {},
   "outputs": [
    {
     "data": {
      "text/plain": [
       "2"
      ]
     },
     "execution_count": 71,
     "metadata": {},
     "output_type": "execute_result"
    }
   ],
   "source": [
    "n"
   ]
  },
  {
   "cell_type": "code",
   "execution_count": 69,
   "id": "0d1b2f83",
   "metadata": {},
   "outputs": [
    {
     "data": {
      "image/png": "[encoded data removed]",
      "text/plain": [
       "<Figure size 432x288 with 1 Axes>"
      ]
     },
     "metadata": {
      "needs_background": "light"
     },
     "output_type": "display_data"
    }
   ],
   "source": [
    "#그래프 시각화\n",
    "plt.scatter(X[:,0],X[:,1],c='black',label='지역_시군구')\n",
    "plt.xlabel('청년인구')\n",
    "plt.ylabel('인프라수')\n",
    "plt.legend()\n",
    "plt.title('청년인구와 인프라수')\n",
    "plt.show()"
   ]
  },
  {
   "cell_type": "markdown",
   "id": "1c8e1dae",
   "metadata": {},
   "source": [
    "## K-means 클러스터링"
   ]
  },
  {
   "cell_type": "code",
   "execution_count": 70,
   "id": "ad4033f7",
   "metadata": {},
   "outputs": [
    {
     "name": "stderr",
     "output_type": "stream",
     "text": [
      "C:\\Users\\csh51\\anaconda3\\lib\\site-packages\\sklearn\\cluster\\_kmeans.py:881: UserWarning: KMeans is known to have a memory leak on Windows with MKL, when there are less chunks than available threads. You can avoid it by setting the environment variable OMP_NUM_THREADS=1.\n",
      "  warnings.warn(\n"
     ]
    },
    {
     "data": {
      "image/png": "[encoded data removed]",
      "text/plain": [
       "<Figure size 432x288 with 6 Axes>"
      ]
     },
     "metadata": {
      "needs_background": "light"
     },
     "output_type": "display_data"
    }
   ],
   "source": [
    "# 클러스터 갯수 결정\n",
    "from sklearn.cluster import KMeans\n",
    "from sklearn import preprocessing\n",
    "\n",
    "for i in range(1, 7):\n",
    "       # 클러스터 생성\n",
    "        estimator = KMeans(n_clusters = i)\n",
    "        ids = estimator.fit_predict(df[['청년인구','인프라수']])\n",
    "       # 2행 3열을 가진 서브플롯 추가 (인덱스 = i)\n",
    "        plt.subplot(3, 2, i)\n",
    "        plt.tight_layout()\n",
    "        # 서브플롯의 라벨링\n",
    "        plt.title(\"K value = {}\".format(i))\n",
    "        plt.xlabel('청년인구')\n",
    "        plt.ylabel('인프라수')\n",
    "        # 클러스터링 그리기\n",
    "        plt.scatter(df['청년인구'],df['인프라수'], c=ids)  \n",
    "plt.show()"
   ]
  },
  {
   "cell_type": "code",
   "execution_count": 29,
   "id": "eb0bdfbe",
   "metadata": {
    "scrolled": true
   },
   "outputs": [
    {
     "data": {
      "text/plain": [
       "array([], shape=(2, 0), dtype=float64)"
      ]
     },
     "execution_count": 29,
     "metadata": {},
     "output_type": "execute_result"
    }
   ],
   "source": [
    "K=4 #클러스터 갯수\n",
    "n_iter=200 # 반복 횟수\n",
    "\n",
    "Centroids=np.array([]).reshape(n,0) # 클러스터 중심 초기화\n",
    "Centroids # shape=(2, 0)"
   ]
  },
  {
   "cell_type": "code",
   "execution_count": 30,
   "id": "27ba2821",
   "metadata": {},
   "outputs": [
    {
     "data": {
      "text/plain": [
       "array([], shape=(75, 0), dtype=float64)"
      ]
     },
     "execution_count": 30,
     "metadata": {},
     "output_type": "execute_result"
    }
   ],
   "source": [
    "for i in range(K): # 0, 1, 2\n",
    "    rand=rd.randint(0,m-1) # 0과 74 사이 난수 생성\n",
    "    Centroids=np.c_[Centroids,X[rand]] # 클러스터 중심(열) 추가\n",
    "# K개 클러스터 중심 초기값\n",
    "\n",
    "Output={} #출력값 초기화\n",
    "\n",
    "# 유클리드 거리 초기화\n",
    "EuclidianDistance=np.array([]).reshape(m,0)\n",
    "EuclidianDistance # shape=(75, 0)"
   ]
  },
  {
   "cell_type": "code",
   "execution_count": 31,
   "id": "e802b392",
   "metadata": {},
   "outputs": [
    {
     "data": {
      "text/plain": [
       "array([106515.,   8359.])"
      ]
     },
     "execution_count": 31,
     "metadata": {},
     "output_type": "execute_result"
    }
   ],
   "source": [
    "Centroids[:,0] # shape=(2,)"
   ]
  },
  {
   "cell_type": "code",
   "execution_count": 32,
   "id": "d33b8978",
   "metadata": {},
   "outputs": [],
   "source": [
    "# 넘파이 브로드캐스트(broadcast): 형상이 다른 배열끼리도 계산 가능\n",
    "# (75, 2) 행렬 A에서 (2,) 벡터 값을 차감하면, 벡터 값은 (75, 2) 행렬로 확대된 후 연산\n",
    "tempDist = np.sum((X-Centroids[:,0])**2,axis=1)\n",
    "\n",
    "np.c_[EuclidianDistance,tempDist] # (75, 0) 행렬에 (75,) 옆으로 붙이기\n",
    "\n",
    "for k in range(K): # 0, 1, 2\n",
    "    tempDist=np.sum((X-Centroids[:,k])**2,axis=1)\n",
    "    EuclidianDistance=np.c_[EuclidianDistance,tempDist] # shape=(75, 3)\n",
    "\n",
    "# 유클리드 거리가 최소가 되는 색인\n",
    "C =np.argmin(EuclidianDistance,axis=1)+1\n",
    "\n",
    "# K 클러스터 저장\n",
    "C=np.argmin(EuclidianDistance,axis=1)+1 # shape=(75,)\n",
    "\n",
    "Y={} # 출력값 임시 딕셔너리\n",
    "\n",
    "for k in range(K): # 0, 1, 2\n",
    "    Y[k+1]=np.array([]).reshape(2,0) # 특징 개수\n",
    "    \n",
    "# 출력값 임시 딕셔너리 갱신\n",
    "Y[C[0]]=np.c_[Y[C[0]],X[0]] # C[0] 키 값에 대한 재귀적 갱신\n",
    "\n",
    "for i in range(m): # m=75\n",
    "    Y[C[i]]=np.c_[Y[C[i]],X[i]]\n",
    "    \n",
    "#전치행렬\n",
    "for k in range(K): # 0, 1, 2\n",
    "    Y[k+1]=Y[k+1].T\n",
    "    \n",
    "for k in range(K): # 0, 1, 2\n",
    "     Centroids[:,k]=np.mean(Y[k+1],axis=0)"
   ]
  },
  {
   "cell_type": "code",
   "execution_count": 33,
   "id": "9cecf3c3",
   "metadata": {},
   "outputs": [],
   "source": [
    "for i in range(n_iter): # n_iter 반복 횟수\n",
    "    # 유클리드 거리가 최소가 되는 K 클러스터 할당\n",
    "    EuclidianDistance=np.array([]).reshape(m,0) \n",
    "    for k in range(K):     \n",
    "        tempDist=np.sum((X-Centroids[:,k])**2,axis=1) # shape=(75,)\n",
    "        EuclidianDistance=np.c_[EuclidianDistance,tempDist] # shape=(75, 3)\n",
    "    C=np.argmin(EuclidianDistance,axis=1)+1 # shape=(75,)\n",
    "    # K 클러스터 갱신\n",
    "    Y={}\n",
    "    for k in range(K):\n",
    "        Y[k+1]=np.array([]).reshape(2,0) # Y 딕셔너리 키, 값 할당\n",
    "    for i in range(m):\n",
    "        Y[C[i]]=np.c_[Y[C[i]],X[i]] # Y 딕셔너리 키(K클러스터), 값(청년인구, 인프라수) 할당\n",
    "    for k in range(K):\n",
    "        Y[k+1]=Y[k+1].T # 전치행렬\n",
    "    for k in range(K):\n",
    "        Centroids[:,k]=np.mean(Y[k+1],axis=0) # K 클러스터 중심 갱신\n",
    "    Output=Y"
   ]
  },
  {
   "cell_type": "code",
   "execution_count": 34,
   "id": "087c1671",
   "metadata": {
    "scrolled": false
   },
   "outputs": [
    {
     "data": {
      "image/png": "[encoded data removed]",
      "text/plain": [
       "<Figure size 432x288 with 1 Axes>"
      ]
     },
     "metadata": {
      "needs_background": "light"
     },
     "output_type": "display_data"
    }
   ],
   "source": [
    "#할때마다 군집의 형태가 바뀜\n",
    "color=['red','blue','green','cyan']\n",
    "labels=['cluster1','cluster2','cluster3','cluster4']\n",
    "for k in range(K):\n",
    "    plt.scatter(Output[k+1][:,0],Output[k+1][:,1],c=color[k],label=labels[k])\n",
    "plt.scatter(Centroids[0,:],Centroids[1,:],s=200,c='yellow',label='Centroids')\n",
    "plt.xlabel('청년인구')\n",
    "plt.ylabel('인프라수')\n",
    "plt.legend()\n",
    "plt.show()"
   ]
  },
  {
   "cell_type": "code",
   "execution_count": 35,
   "id": "57f3cbfc",
   "metadata": {
    "scrolled": true
   },
   "outputs": [
    {
     "ename": "AttributeError",
     "evalue": "'DataFrame' object has no attribute 'iteartuples'",
     "output_type": "error",
     "traceback": [
      "\u001b[1;31m---------------------------------------------------------------------------\u001b[0m",
      "\u001b[1;31mAttributeError\u001b[0m                            Traceback (most recent call last)",
      "\u001b[1;32m<ipython-input-35-0ebcc2c39aa8>\u001b[0m in \u001b[0;36m<module>\u001b[1;34m\u001b[0m\n\u001b[0;32m     10\u001b[0m \u001b[0mplt\u001b[0m\u001b[1;33m.\u001b[0m\u001b[0mylabel\u001b[0m\u001b[1;33m(\u001b[0m\u001b[1;34m'인프라수'\u001b[0m\u001b[1;33m)\u001b[0m\u001b[1;33m\u001b[0m\u001b[1;33m\u001b[0m\u001b[0m\n\u001b[0;32m     11\u001b[0m \u001b[1;31m# 제품과 클러스터 id로 데이터에 범례 달기\u001b[0m\u001b[1;33m\u001b[0m\u001b[1;33m\u001b[0m\u001b[1;33m\u001b[0m\u001b[0m\n\u001b[1;32m---> 12\u001b[1;33m \u001b[1;32mfor\u001b[0m \u001b[0mindex\u001b[0m\u001b[1;33m,\u001b[0m \u001b[0mc_id\u001b[0m\u001b[1;33m,\u001b[0m \u001b[0m청년인구\u001b[0m\u001b[1;33m,\u001b[0m \u001b[0m인프라수\u001b[0m\u001b[1;33m,\u001b[0m \u001b[0m시군구\u001b[0m \u001b[1;32min\u001b[0m \u001b[0mdf\u001b[0m\u001b[1;33m.\u001b[0m\u001b[0miteartuples\u001b[0m\u001b[1;33m(\u001b[0m\u001b[1;33m)\u001b[0m\u001b[1;33m:\u001b[0m\u001b[1;33m\u001b[0m\u001b[1;33m\u001b[0m\u001b[0m\n\u001b[0m\u001b[0;32m     13\u001b[0m     \u001b[0mplt\u001b[0m\u001b[1;33m.\u001b[0m\u001b[0mannotate\u001b[0m\u001b[1;33m(\u001b[0m\u001b[1;34m\"Clu{}: {}\"\u001b[0m\u001b[1;33m.\u001b[0m\u001b[0mformat\u001b[0m\u001b[1;33m(\u001b[0m\u001b[0mcluster_ids\u001b[0m\u001b[1;33m[\u001b[0m\u001b[0mindex\u001b[0m\u001b[1;33m]\u001b[0m\u001b[1;33m,\u001b[0m\u001b[0m시군구\u001b[0m\u001b[1;33m)\u001b[0m\u001b[1;33m,\u001b[0m\u001b[1;33m(\u001b[0m\u001b[0m청년인구\u001b[0m\u001b[1;33m,\u001b[0m \u001b[0m인프라수\u001b[0m\u001b[1;33m)\u001b[0m\u001b[1;33m)\u001b[0m\u001b[1;33m\u001b[0m\u001b[1;33m\u001b[0m\u001b[0m\n",
      "\u001b[1;32m~\\anaconda3\\lib\\site-packages\\pandas\\core\\generic.py\u001b[0m in \u001b[0;36m__getattr__\u001b[1;34m(self, name)\u001b[0m\n\u001b[0;32m   5463\u001b[0m             \u001b[1;32mif\u001b[0m \u001b[0mself\u001b[0m\u001b[1;33m.\u001b[0m\u001b[0m_info_axis\u001b[0m\u001b[1;33m.\u001b[0m\u001b[0m_can_hold_identifiers_and_holds_name\u001b[0m\u001b[1;33m(\u001b[0m\u001b[0mname\u001b[0m\u001b[1;33m)\u001b[0m\u001b[1;33m:\u001b[0m\u001b[1;33m\u001b[0m\u001b[1;33m\u001b[0m\u001b[0m\n\u001b[0;32m   5464\u001b[0m                 \u001b[1;32mreturn\u001b[0m \u001b[0mself\u001b[0m\u001b[1;33m[\u001b[0m\u001b[0mname\u001b[0m\u001b[1;33m]\u001b[0m\u001b[1;33m\u001b[0m\u001b[1;33m\u001b[0m\u001b[0m\n\u001b[1;32m-> 5465\u001b[1;33m             \u001b[1;32mreturn\u001b[0m \u001b[0mobject\u001b[0m\u001b[1;33m.\u001b[0m\u001b[0m__getattribute__\u001b[0m\u001b[1;33m(\u001b[0m\u001b[0mself\u001b[0m\u001b[1;33m,\u001b[0m \u001b[0mname\u001b[0m\u001b[1;33m)\u001b[0m\u001b[1;33m\u001b[0m\u001b[1;33m\u001b[0m\u001b[0m\n\u001b[0m\u001b[0;32m   5466\u001b[0m \u001b[1;33m\u001b[0m\u001b[0m\n\u001b[0;32m   5467\u001b[0m     \u001b[1;32mdef\u001b[0m \u001b[0m__setattr__\u001b[0m\u001b[1;33m(\u001b[0m\u001b[0mself\u001b[0m\u001b[1;33m,\u001b[0m \u001b[0mname\u001b[0m\u001b[1;33m:\u001b[0m \u001b[0mstr\u001b[0m\u001b[1;33m,\u001b[0m \u001b[0mvalue\u001b[0m\u001b[1;33m)\u001b[0m \u001b[1;33m->\u001b[0m \u001b[1;32mNone\u001b[0m\u001b[1;33m:\u001b[0m\u001b[1;33m\u001b[0m\u001b[1;33m\u001b[0m\u001b[0m\n",
      "\u001b[1;31mAttributeError\u001b[0m: 'DataFrame' object has no attribute 'iteartuples'"
     ]
    },
    {
     "data": {
      "image/png": "[encoded data removed]",
      "text/plain": [
       "<Figure size 432x288 with 1 Axes>"
      ]
     },
     "metadata": {
      "needs_background": "light"
     },
     "output_type": "display_data"
    }
   ],
   "source": [
    "# K = 4으로 클러스터링\n",
    "estimator = KMeans(n_clusters = 4)\n",
    "\n",
    "# 클러스터링 생성\n",
    "cluster_ids = estimator.fit_predict(df[['청년인구', '인프라수']])\n",
    "# create a scatter plot\n",
    "plt.scatter(df['청년인구'], df['인프라수'], c=cluster_ids)\n",
    "plt.title(\"청년인구 - 인프라수\")\n",
    "plt.xlabel('청년인구')\n",
    "plt.ylabel('인프라수')\n",
    "# 제품과 클러스터 id로 데이터에 범례 달기\n",
    "#for index, c_id, 청년인구, 인프라수, 시군구 in df.iteartuples():\n",
    "    plt.annotate(\"Clu{}: {}\".format(cluster_ids[index],시군구),(청년인구, 인프라수))"
   ]
  },
  {
   "cell_type": "code",
   "execution_count": 43,
   "id": "96040da9",
   "metadata": {},
   "outputs": [
    {
     "data": {
      "text/plain": [
       "array([3, 3, 0, 0, 2, 2, 2, 2, 0, 0, 2, 2, 0, 2, 2, 1, 2, 0, 2, 2, 1, 2,\n",
       "       2, 1, 2, 3, 3, 3, 3, 2, 0, 0, 0, 0, 0, 0, 3, 3, 3, 3, 3, 3, 0, 3,\n",
       "       3, 2, 0, 2, 0, 3, 3, 2, 2, 2, 2, 0, 2, 3, 3, 3, 0, 3, 2, 2, 0, 0,\n",
       "       2, 2, 3, 3, 0, 3, 0, 3, 0])"
      ]
     },
     "execution_count": 43,
     "metadata": {},
     "output_type": "execute_result"
    }
   ],
   "source": [
    "cluster_ids"
   ]
  },
  {
   "cell_type": "code",
   "execution_count": 36,
   "id": "d7d9d648",
   "metadata": {
    "scrolled": true
   },
   "outputs": [
    {
     "data": {
      "text/html": [
       "<div>\n",
       "<style scoped>\n",
       "    .dataframe tbody tr th:only-of-type {\n",
       "        vertical-align: middle;\n",
       "    }\n",
       "\n",
       "    .dataframe tbody tr th {\n",
       "        vertical-align: top;\n",
       "    }\n",
       "\n",
       "    .dataframe thead th {\n",
       "        text-align: right;\n",
       "    }\n",
       "</style>\n",
       "<table border=\"1\" class=\"dataframe\">\n",
       "  <thead>\n",
       "    <tr style=\"text-align: right;\">\n",
       "      <th></th>\n",
       "      <th>시군구</th>\n",
       "      <th>청년인구</th>\n",
       "      <th>병원</th>\n",
       "      <th>사회스포츠</th>\n",
       "      <th>대학교</th>\n",
       "      <th>초중고</th>\n",
       "      <th>공항</th>\n",
       "      <th>소방서</th>\n",
       "      <th>경찰서</th>\n",
       "      <th>소형상업시설(음식점_카페_학원_편의점)</th>\n",
       "      <th>대형상업시설</th>\n",
       "      <th>숙박시설</th>\n",
       "      <th>기차역</th>\n",
       "      <th>행정기관</th>\n",
       "      <th>법원, 교도소</th>\n",
       "      <th>문화시설_영화/공연/미술관박물관</th>\n",
       "      <th>버스터미널</th>\n",
       "      <th>인프라수</th>\n",
       "    </tr>\n",
       "  </thead>\n",
       "  <tbody>\n",
       "    <tr>\n",
       "      <th>15</th>\n",
       "      <td>서울_강서구</td>\n",
       "      <td>136535</td>\n",
       "      <td>880</td>\n",
       "      <td>143</td>\n",
       "      <td>1</td>\n",
       "      <td>136</td>\n",
       "      <td>1</td>\n",
       "      <td>1</td>\n",
       "      <td>11</td>\n",
       "      <td>7638</td>\n",
       "      <td>34</td>\n",
       "      <td>92</td>\n",
       "      <td>1</td>\n",
       "      <td>30</td>\n",
       "      <td>0</td>\n",
       "      <td>17</td>\n",
       "      <td>0</td>\n",
       "      <td>8985</td>\n",
       "    </tr>\n",
       "    <tr>\n",
       "      <th>20</th>\n",
       "      <td>서울_관악구</td>\n",
       "      <td>157264</td>\n",
       "      <td>706</td>\n",
       "      <td>140</td>\n",
       "      <td>1</td>\n",
       "      <td>91</td>\n",
       "      <td>0</td>\n",
       "      <td>1</td>\n",
       "      <td>10</td>\n",
       "      <td>6461</td>\n",
       "      <td>27</td>\n",
       "      <td>98</td>\n",
       "      <td>0</td>\n",
       "      <td>23</td>\n",
       "      <td>0</td>\n",
       "      <td>17</td>\n",
       "      <td>0</td>\n",
       "      <td>7575</td>\n",
       "    </tr>\n",
       "    <tr>\n",
       "      <th>23</th>\n",
       "      <td>서울_송파구</td>\n",
       "      <td>143645</td>\n",
       "      <td>1215</td>\n",
       "      <td>108</td>\n",
       "      <td>1</td>\n",
       "      <td>139</td>\n",
       "      <td>0</td>\n",
       "      <td>1</td>\n",
       "      <td>11</td>\n",
       "      <td>8807</td>\n",
       "      <td>46</td>\n",
       "      <td>52</td>\n",
       "      <td>1</td>\n",
       "      <td>29</td>\n",
       "      <td>2</td>\n",
       "      <td>37</td>\n",
       "      <td>0</td>\n",
       "      <td>10449</td>\n",
       "    </tr>\n",
       "  </tbody>\n",
       "</table>\n",
       "</div>"
      ],
      "text/plain": [
       "       시군구    청년인구    병원  사회스포츠  대학교  초중고  공항  소방서  경찰서  \\\n",
       "15  서울_강서구  136535   880    143    1  136   1    1   11   \n",
       "20  서울_관악구  157264   706    140    1   91   0    1   10   \n",
       "23  서울_송파구  143645  1215    108    1  139   0    1   11   \n",
       "\n",
       "    소형상업시설(음식점_카페_학원_편의점)  대형상업시설  숙박시설  기차역  행정기관  법원, 교도소  \\\n",
       "15                   7638      34    92    1    30        0   \n",
       "20                   6461      27    98    0    23        0   \n",
       "23                   8807      46    52    1    29        2   \n",
       "\n",
       "    문화시설_영화/공연/미술관박물관  버스터미널   인프라수  \n",
       "15                 17      0   8985  \n",
       "20                 17      0   7575  \n",
       "23                 37      0  10449  "
      ]
     },
     "execution_count": 36,
     "metadata": {},
     "output_type": "execute_result"
    }
   ],
   "source": [
    "#클러스터 1로 분류된 것들\n",
    "df[cluster_ids == 1].head()"
   ]
  },
  {
   "cell_type": "code",
   "execution_count": 59,
   "id": "2a40f239",
   "metadata": {},
   "outputs": [
    {
     "data": {
      "text/html": [
       "<div>\n",
       "<style scoped>\n",
       "    .dataframe tbody tr th:only-of-type {\n",
       "        vertical-align: middle;\n",
       "    }\n",
       "\n",
       "    .dataframe tbody tr th {\n",
       "        vertical-align: top;\n",
       "    }\n",
       "\n",
       "    .dataframe thead th {\n",
       "        text-align: right;\n",
       "    }\n",
       "</style>\n",
       "<table border=\"1\" class=\"dataframe\">\n",
       "  <thead>\n",
       "    <tr style=\"text-align: right;\">\n",
       "      <th></th>\n",
       "      <th>시군구</th>\n",
       "      <th>청년인구</th>\n",
       "      <th>병원</th>\n",
       "      <th>사회스포츠</th>\n",
       "      <th>대학교</th>\n",
       "      <th>초중고</th>\n",
       "      <th>공항</th>\n",
       "      <th>소방서</th>\n",
       "      <th>경찰서</th>\n",
       "      <th>소형상업시설(음식점_카페_학원_편의점)</th>\n",
       "      <th>대형상업시설</th>\n",
       "      <th>숙박시설</th>\n",
       "      <th>기차역</th>\n",
       "      <th>행정기관</th>\n",
       "      <th>법원, 교도소</th>\n",
       "      <th>문화시설_영화/공연/미술관박물관</th>\n",
       "      <th>버스터미널</th>\n",
       "      <th>인프라수</th>\n",
       "      <th>Class</th>\n",
       "    </tr>\n",
       "  </thead>\n",
       "  <tbody>\n",
       "    <tr>\n",
       "      <th>0</th>\n",
       "      <td>서울_종로구</td>\n",
       "      <td>32943</td>\n",
       "      <td>496</td>\n",
       "      <td>28</td>\n",
       "      <td>3</td>\n",
       "      <td>60</td>\n",
       "      <td>0</td>\n",
       "      <td>1</td>\n",
       "      <td>23</td>\n",
       "      <td>5730</td>\n",
       "      <td>24</td>\n",
       "      <td>201</td>\n",
       "      <td>0</td>\n",
       "      <td>19</td>\n",
       "      <td>0</td>\n",
       "      <td>367</td>\n",
       "      <td>0</td>\n",
       "      <td>6952</td>\n",
       "      <td>3</td>\n",
       "    </tr>\n",
       "    <tr>\n",
       "      <th>1</th>\n",
       "      <td>서울_중구</td>\n",
       "      <td>28277</td>\n",
       "      <td>572</td>\n",
       "      <td>16</td>\n",
       "      <td>2</td>\n",
       "      <td>48</td>\n",
       "      <td>0</td>\n",
       "      <td>1</td>\n",
       "      <td>17</td>\n",
       "      <td>5383</td>\n",
       "      <td>62</td>\n",
       "      <td>281</td>\n",
       "      <td>1</td>\n",
       "      <td>18</td>\n",
       "      <td>0</td>\n",
       "      <td>77</td>\n",
       "      <td>0</td>\n",
       "      <td>6478</td>\n",
       "      <td>3</td>\n",
       "    </tr>\n",
       "    <tr>\n",
       "      <th>2</th>\n",
       "      <td>서울_용산구</td>\n",
       "      <td>52554</td>\n",
       "      <td>319</td>\n",
       "      <td>19</td>\n",
       "      <td>1</td>\n",
       "      <td>47</td>\n",
       "      <td>0</td>\n",
       "      <td>1</td>\n",
       "      <td>9</td>\n",
       "      <td>5056</td>\n",
       "      <td>23</td>\n",
       "      <td>104</td>\n",
       "      <td>9</td>\n",
       "      <td>18</td>\n",
       "      <td>1</td>\n",
       "      <td>48</td>\n",
       "      <td>0</td>\n",
       "      <td>5655</td>\n",
       "      <td>0</td>\n",
       "    </tr>\n",
       "    <tr>\n",
       "      <th>3</th>\n",
       "      <td>서울_성동구</td>\n",
       "      <td>67271</td>\n",
       "      <td>457</td>\n",
       "      <td>21</td>\n",
       "      <td>2</td>\n",
       "      <td>69</td>\n",
       "      <td>0</td>\n",
       "      <td>1</td>\n",
       "      <td>10</td>\n",
       "      <td>4562</td>\n",
       "      <td>22</td>\n",
       "      <td>62</td>\n",
       "      <td>3</td>\n",
       "      <td>19</td>\n",
       "      <td>0</td>\n",
       "      <td>31</td>\n",
       "      <td>0</td>\n",
       "      <td>5259</td>\n",
       "      <td>0</td>\n",
       "    </tr>\n",
       "    <tr>\n",
       "      <th>4</th>\n",
       "      <td>서울_광진구</td>\n",
       "      <td>91126</td>\n",
       "      <td>558</td>\n",
       "      <td>76</td>\n",
       "      <td>3</td>\n",
       "      <td>76</td>\n",
       "      <td>0</td>\n",
       "      <td>1</td>\n",
       "      <td>12</td>\n",
       "      <td>5609</td>\n",
       "      <td>26</td>\n",
       "      <td>66</td>\n",
       "      <td>0</td>\n",
       "      <td>17</td>\n",
       "      <td>0</td>\n",
       "      <td>25</td>\n",
       "      <td>1</td>\n",
       "      <td>6470</td>\n",
       "      <td>2</td>\n",
       "    </tr>\n",
       "  </tbody>\n",
       "</table>\n",
       "</div>"
      ],
      "text/plain": [
       "      시군구   청년인구   병원  사회스포츠  대학교  초중고  공항  소방서  경찰서  소형상업시설(음식점_카페_학원_편의점)  \\\n",
       "0  서울_종로구  32943  496     28    3   60   0    1   23                   5730   \n",
       "1   서울_중구  28277  572     16    2   48   0    1   17                   5383   \n",
       "2  서울_용산구  52554  319     19    1   47   0    1    9                   5056   \n",
       "3  서울_성동구  67271  457     21    2   69   0    1   10                   4562   \n",
       "4  서울_광진구  91126  558     76    3   76   0    1   12                   5609   \n",
       "\n",
       "   대형상업시설  숙박시설  기차역  행정기관  법원, 교도소  문화시설_영화/공연/미술관박물관  버스터미널  인프라수  Class  \n",
       "0      24   201    0    19        0                367      0  6952      3  \n",
       "1      62   281    1    18        0                 77      0  6478      3  \n",
       "2      23   104    9    18        1                 48      0  5655      0  \n",
       "3      22    62    3    19        0                 31      0  5259      0  \n",
       "4      26    66    0    17        0                 25      1  6470      2  "
      ]
     },
     "execution_count": 59,
     "metadata": {},
     "output_type": "execute_result"
    }
   ],
   "source": [
    "import numpy as np\n",
    "import pandas as pd\n",
    "import scipy.sparse as sparse\n",
    "\n",
    "df['Class'] = cluster_ids.tolist()\n",
    "df.head()"
   ]
  },
  {
   "cell_type": "code",
   "execution_count": 60,
   "id": "66450e1f",
   "metadata": {},
   "outputs": [],
   "source": [
    "df.to_csv('Add_Class_청년인구_인프라수.csv',encoding='cp949')"
   ]
  },
  {
   "cell_type": "code",
   "execution_count": null,
   "id": "60f98dee",
   "metadata": {},
   "outputs": [],
   "source": []
  }
 ],
 "metadata": {
  "kernelspec": {
   "display_name": "Python 3",
   "language": "python",
   "name": "python3"
  },
  "language_info": {
   "codemirror_mode": {
    "name": "ipython",
    "version": 3
   },
   "file_extension": ".py",
   "mimetype": "text/x-python",
   "name": "python",
   "nbconvert_exporter": "python",
   "pygments_lexer": "ipython3",
   "version": "3.8.8"
  }
 },
 "nbformat": 4,
 "nbformat_minor": 5
}
