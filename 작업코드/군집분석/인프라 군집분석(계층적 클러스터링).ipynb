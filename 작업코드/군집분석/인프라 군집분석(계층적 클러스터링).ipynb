{
 "cells": [
  {
   "cell_type": "code",
   "execution_count": 3,
   "id": "874fd001",
   "metadata": {},
   "outputs": [],
   "source": [
    "import pandas as pd\n",
    "import matplotlib.pyplot as plt\n",
    "import seaborn as sns\n",
    "import matplotlib.font_manager as fm\n",
    "import numpy as np\n",
    "import random as rd\n",
    "from scipy.cluster.hierarchy import linkage, dendrogram"
   ]
  },
  {
   "cell_type": "code",
   "execution_count": 4,
   "id": "00d97fd3",
   "metadata": {},
   "outputs": [],
   "source": [
    "#플롯에서 한글이 깨지는 경우가 없도록 폰트 지정\n",
    "from matplotlib import font_manager, rc\n",
    "font_path = \"C:/Windows/Fonts/NGULIM.TTF\"\n",
    "font = font_manager.FontProperties(fname=font_path).get_name()\n",
    "rc('font', family=font)"
   ]
  },
  {
   "cell_type": "markdown",
   "id": "5cfa5e45",
   "metadata": {},
   "source": [
    "## 데이터 전처리"
   ]
  },
  {
   "cell_type": "code",
   "execution_count": 5,
   "id": "1d48163d",
   "metadata": {
    "scrolled": true
   },
   "outputs": [
    {
     "data": {
      "text/html": [
       "<div>\n",
       "<style scoped>\n",
       "    .dataframe tbody tr th:only-of-type {\n",
       "        vertical-align: middle;\n",
       "    }\n",
       "\n",
       "    .dataframe tbody tr th {\n",
       "        vertical-align: top;\n",
       "    }\n",
       "\n",
       "    .dataframe thead th {\n",
       "        text-align: right;\n",
       "    }\n",
       "</style>\n",
       "<table border=\"1\" class=\"dataframe\">\n",
       "  <thead>\n",
       "    <tr style=\"text-align: right;\">\n",
       "      <th></th>\n",
       "      <th>Unnamed: 0</th>\n",
       "      <th>시군구</th>\n",
       "      <th>청년인구</th>\n",
       "      <th>병원</th>\n",
       "      <th>사회스포츠</th>\n",
       "      <th>대학교</th>\n",
       "      <th>초중고</th>\n",
       "      <th>공항</th>\n",
       "      <th>소방서</th>\n",
       "      <th>경찰서</th>\n",
       "      <th>소형상업시설(음식점_카페_학원_편의점)</th>\n",
       "      <th>대형상업시설</th>\n",
       "      <th>숙박시설</th>\n",
       "      <th>기차역</th>\n",
       "      <th>행정기관</th>\n",
       "      <th>법원, 교도소</th>\n",
       "      <th>문화시설_영화/공연/미술관박물관</th>\n",
       "      <th>버스터미널</th>\n",
       "    </tr>\n",
       "  </thead>\n",
       "  <tbody>\n",
       "    <tr>\n",
       "      <th>0</th>\n",
       "      <td>0</td>\n",
       "      <td>서울_종로구</td>\n",
       "      <td>32,943</td>\n",
       "      <td>496</td>\n",
       "      <td>28.0</td>\n",
       "      <td>3</td>\n",
       "      <td>60.0</td>\n",
       "      <td>0</td>\n",
       "      <td>1</td>\n",
       "      <td>23</td>\n",
       "      <td>5730</td>\n",
       "      <td>24</td>\n",
       "      <td>201</td>\n",
       "      <td>0</td>\n",
       "      <td>19.0</td>\n",
       "      <td>0.0</td>\n",
       "      <td>367.0</td>\n",
       "      <td>0.0</td>\n",
       "    </tr>\n",
       "    <tr>\n",
       "      <th>1</th>\n",
       "      <td>1</td>\n",
       "      <td>서울_중구</td>\n",
       "      <td>28,277</td>\n",
       "      <td>572</td>\n",
       "      <td>16.0</td>\n",
       "      <td>2</td>\n",
       "      <td>48.0</td>\n",
       "      <td>0</td>\n",
       "      <td>1</td>\n",
       "      <td>17</td>\n",
       "      <td>5383</td>\n",
       "      <td>62</td>\n",
       "      <td>281</td>\n",
       "      <td>1</td>\n",
       "      <td>18.0</td>\n",
       "      <td>0.0</td>\n",
       "      <td>77.0</td>\n",
       "      <td>0.0</td>\n",
       "    </tr>\n",
       "    <tr>\n",
       "      <th>2</th>\n",
       "      <td>2</td>\n",
       "      <td>서울_용산구</td>\n",
       "      <td>52,554</td>\n",
       "      <td>319</td>\n",
       "      <td>19.0</td>\n",
       "      <td>1</td>\n",
       "      <td>47.0</td>\n",
       "      <td>0</td>\n",
       "      <td>1</td>\n",
       "      <td>9</td>\n",
       "      <td>5056</td>\n",
       "      <td>23</td>\n",
       "      <td>104</td>\n",
       "      <td>9</td>\n",
       "      <td>18.0</td>\n",
       "      <td>1.0</td>\n",
       "      <td>48.0</td>\n",
       "      <td>0.0</td>\n",
       "    </tr>\n",
       "    <tr>\n",
       "      <th>3</th>\n",
       "      <td>3</td>\n",
       "      <td>서울_성동구</td>\n",
       "      <td>67,271</td>\n",
       "      <td>457</td>\n",
       "      <td>21.0</td>\n",
       "      <td>2</td>\n",
       "      <td>69.0</td>\n",
       "      <td>0</td>\n",
       "      <td>1</td>\n",
       "      <td>10</td>\n",
       "      <td>4562</td>\n",
       "      <td>22</td>\n",
       "      <td>62</td>\n",
       "      <td>3</td>\n",
       "      <td>19.0</td>\n",
       "      <td>0.0</td>\n",
       "      <td>31.0</td>\n",
       "      <td>0.0</td>\n",
       "    </tr>\n",
       "    <tr>\n",
       "      <th>4</th>\n",
       "      <td>4</td>\n",
       "      <td>서울_광진구</td>\n",
       "      <td>91,126</td>\n",
       "      <td>558</td>\n",
       "      <td>76.0</td>\n",
       "      <td>3</td>\n",
       "      <td>76.0</td>\n",
       "      <td>0</td>\n",
       "      <td>1</td>\n",
       "      <td>12</td>\n",
       "      <td>5609</td>\n",
       "      <td>26</td>\n",
       "      <td>66</td>\n",
       "      <td>0</td>\n",
       "      <td>17.0</td>\n",
       "      <td>0.0</td>\n",
       "      <td>25.0</td>\n",
       "      <td>1.0</td>\n",
       "    </tr>\n",
       "  </tbody>\n",
       "</table>\n",
       "</div>"
      ],
      "text/plain": [
       "   Unnamed: 0     시군구    청년인구   병원  사회스포츠  대학교   초중고  공항  소방서  경찰서  \\\n",
       "0           0  서울_종로구  32,943  496   28.0    3  60.0   0    1   23   \n",
       "1           1   서울_중구  28,277  572   16.0    2  48.0   0    1   17   \n",
       "2           2  서울_용산구  52,554  319   19.0    1  47.0   0    1    9   \n",
       "3           3  서울_성동구  67,271  457   21.0    2  69.0   0    1   10   \n",
       "4           4  서울_광진구  91,126  558   76.0    3  76.0   0    1   12   \n",
       "\n",
       "   소형상업시설(음식점_카페_학원_편의점)  대형상업시설  숙박시설  기차역  행정기관  법원, 교도소  문화시설_영화/공연/미술관박물관  \\\n",
       "0                   5730      24   201    0  19.0      0.0              367.0   \n",
       "1                   5383      62   281    1  18.0      0.0               77.0   \n",
       "2                   5056      23   104    9  18.0      1.0               48.0   \n",
       "3                   4562      22    62    3  19.0      0.0               31.0   \n",
       "4                   5609      26    66    0  17.0      0.0               25.0   \n",
       "\n",
       "   버스터미널  \n",
       "0    0.0  \n",
       "1    0.0  \n",
       "2    0.0  \n",
       "3    0.0  \n",
       "4    1.0  "
      ]
     },
     "execution_count": 5,
     "metadata": {},
     "output_type": "execute_result"
    }
   ],
   "source": [
    "#데이터 가져오기\n",
    "df = pd.read_table('시군구별_인프라수_청년수.txt', sep=',', encoding='cp949')\n",
    "df.head(5)"
   ]
  },
  {
   "cell_type": "code",
   "execution_count": 6,
   "id": "565736e1",
   "metadata": {
    "scrolled": true
   },
   "outputs": [
    {
     "data": {
      "text/html": [
       "<div>\n",
       "<style scoped>\n",
       "    .dataframe tbody tr th:only-of-type {\n",
       "        vertical-align: middle;\n",
       "    }\n",
       "\n",
       "    .dataframe tbody tr th {\n",
       "        vertical-align: top;\n",
       "    }\n",
       "\n",
       "    .dataframe thead th {\n",
       "        text-align: right;\n",
       "    }\n",
       "</style>\n",
       "<table border=\"1\" class=\"dataframe\">\n",
       "  <thead>\n",
       "    <tr style=\"text-align: right;\">\n",
       "      <th></th>\n",
       "      <th>시군구</th>\n",
       "      <th>청년인구</th>\n",
       "      <th>병원</th>\n",
       "      <th>사회스포츠</th>\n",
       "      <th>대학교</th>\n",
       "      <th>초중고</th>\n",
       "      <th>공항</th>\n",
       "      <th>소방서</th>\n",
       "      <th>경찰서</th>\n",
       "      <th>소형상업시설(음식점_카페_학원_편의점)</th>\n",
       "      <th>대형상업시설</th>\n",
       "      <th>숙박시설</th>\n",
       "      <th>기차역</th>\n",
       "      <th>행정기관</th>\n",
       "      <th>법원, 교도소</th>\n",
       "      <th>문화시설_영화/공연/미술관박물관</th>\n",
       "      <th>버스터미널</th>\n",
       "      <th>인프라수</th>\n",
       "    </tr>\n",
       "  </thead>\n",
       "  <tbody>\n",
       "    <tr>\n",
       "      <th>0</th>\n",
       "      <td>서울_종로구</td>\n",
       "      <td>32943</td>\n",
       "      <td>496</td>\n",
       "      <td>28</td>\n",
       "      <td>3</td>\n",
       "      <td>60</td>\n",
       "      <td>0</td>\n",
       "      <td>1</td>\n",
       "      <td>23</td>\n",
       "      <td>5730</td>\n",
       "      <td>24</td>\n",
       "      <td>201</td>\n",
       "      <td>0</td>\n",
       "      <td>19</td>\n",
       "      <td>0</td>\n",
       "      <td>367</td>\n",
       "      <td>0</td>\n",
       "      <td>6952</td>\n",
       "    </tr>\n",
       "    <tr>\n",
       "      <th>1</th>\n",
       "      <td>서울_중구</td>\n",
       "      <td>28277</td>\n",
       "      <td>572</td>\n",
       "      <td>16</td>\n",
       "      <td>2</td>\n",
       "      <td>48</td>\n",
       "      <td>0</td>\n",
       "      <td>1</td>\n",
       "      <td>17</td>\n",
       "      <td>5383</td>\n",
       "      <td>62</td>\n",
       "      <td>281</td>\n",
       "      <td>1</td>\n",
       "      <td>18</td>\n",
       "      <td>0</td>\n",
       "      <td>77</td>\n",
       "      <td>0</td>\n",
       "      <td>6478</td>\n",
       "    </tr>\n",
       "  </tbody>\n",
       "</table>\n",
       "</div>"
      ],
      "text/plain": [
       "      시군구   청년인구   병원  사회스포츠  대학교  초중고  공항  소방서  경찰서  소형상업시설(음식점_카페_학원_편의점)  \\\n",
       "0  서울_종로구  32943  496     28    3   60   0    1   23                   5730   \n",
       "1   서울_중구  28277  572     16    2   48   0    1   17                   5383   \n",
       "\n",
       "   대형상업시설  숙박시설  기차역  행정기관  법원, 교도소  문화시설_영화/공연/미술관박물관  버스터미널  인프라수  \n",
       "0      24   201    0    19        0                367      0  6952  \n",
       "1      62   281    1    18        0                 77      0  6478  "
      ]
     },
     "execution_count": 6,
     "metadata": {},
     "output_type": "execute_result"
    }
   ],
   "source": [
    "#앞에 번호 삭제\n",
    "df = df.drop(columns=['Unnamed: 0'],axis=1)\n",
    "\n",
    "#int로 변경\n",
    "df = df.astype({'사회스포츠': 'int'})\n",
    "df = df.astype({'초중고': 'int'})\n",
    "df = df.astype({'행정기관': 'int'})\n",
    "df = df.astype({'법원, 교도소': 'int'})\n",
    "df = df.astype({'문화시설_영화/공연/미술관박물관': 'int'})\n",
    "df = df.astype({'버스터미널': 'int'})\n",
    "\n",
    "#str >> int\n",
    "df['청년인구'] = df['청년인구'].str.replace(\",\",\"\")\n",
    "\n",
    "df = df.astype({'청년인구' : 'int'})\n",
    " \n",
    "#모든 인프라를 합쳐 '인프라수' 행 추가\n",
    "df['인프라수'] = df['병원']+df['사회스포츠']+df['대학교']+df['초중고']+df['공항']+df['소방서']+df['경찰서']+df['소형상업시설(음식점_카페_학원_편의점)']+df['대형상업시설']+df['숙박시설']+df['기차역']+df['행정기관']+df['법원, 교도소']+df['문화시설_영화/공연/미술관박물관']+df['버스터미널']\n",
    "df.head(2)"
   ]
  },
  {
   "cell_type": "code",
   "execution_count": 7,
   "id": "61d5232f",
   "metadata": {},
   "outputs": [],
   "source": [
    "df2 = df.reindex(columns=['시군구','청년인구','인프라수'])"
   ]
  },
  {
   "cell_type": "code",
   "execution_count": 8,
   "id": "9c4dc6fe",
   "metadata": {},
   "outputs": [
    {
     "data": {
      "text/html": [
       "<div>\n",
       "<style scoped>\n",
       "    .dataframe tbody tr th:only-of-type {\n",
       "        vertical-align: middle;\n",
       "    }\n",
       "\n",
       "    .dataframe tbody tr th {\n",
       "        vertical-align: top;\n",
       "    }\n",
       "\n",
       "    .dataframe thead th {\n",
       "        text-align: right;\n",
       "    }\n",
       "</style>\n",
       "<table border=\"1\" class=\"dataframe\">\n",
       "  <thead>\n",
       "    <tr style=\"text-align: right;\">\n",
       "      <th></th>\n",
       "      <th>시군구</th>\n",
       "      <th>청년인구</th>\n",
       "      <th>인프라수</th>\n",
       "    </tr>\n",
       "  </thead>\n",
       "  <tbody>\n",
       "    <tr>\n",
       "      <th>0</th>\n",
       "      <td>서울_종로구</td>\n",
       "      <td>32943</td>\n",
       "      <td>6952</td>\n",
       "    </tr>\n",
       "    <tr>\n",
       "      <th>1</th>\n",
       "      <td>서울_중구</td>\n",
       "      <td>28277</td>\n",
       "      <td>6478</td>\n",
       "    </tr>\n",
       "    <tr>\n",
       "      <th>2</th>\n",
       "      <td>서울_용산구</td>\n",
       "      <td>52554</td>\n",
       "      <td>5655</td>\n",
       "    </tr>\n",
       "    <tr>\n",
       "      <th>3</th>\n",
       "      <td>서울_성동구</td>\n",
       "      <td>67271</td>\n",
       "      <td>5259</td>\n",
       "    </tr>\n",
       "    <tr>\n",
       "      <th>4</th>\n",
       "      <td>서울_광진구</td>\n",
       "      <td>91126</td>\n",
       "      <td>6470</td>\n",
       "    </tr>\n",
       "  </tbody>\n",
       "</table>\n",
       "</div>"
      ],
      "text/plain": [
       "      시군구   청년인구  인프라수\n",
       "0  서울_종로구  32943  6952\n",
       "1   서울_중구  28277  6478\n",
       "2  서울_용산구  52554  5655\n",
       "3  서울_성동구  67271  5259\n",
       "4  서울_광진구  91126  6470"
      ]
     },
     "execution_count": 8,
     "metadata": {},
     "output_type": "execute_result"
    }
   ],
   "source": [
    "cols = list(df2.columns)\n",
    "df_x = df2[cols[:3]]\n",
    "df_x.head()"
   ]
  },
  {
   "cell_type": "markdown",
   "id": "27215c94",
   "metadata": {},
   "source": [
    "### 계층적 군집분석"
   ]
  },
  {
   "cell_type": "code",
   "execution_count": 8,
   "id": "1d70fc90",
   "metadata": {},
   "outputs": [
    {
     "data": {
      "image/png": "[encoded data removed]",
      "text/plain": [
       "<Figure size 720x504 with 1 Axes>"
      ]
     },
     "metadata": {
      "needs_background": "light"
     },
     "output_type": "display_data"
    }
   ],
   "source": [
    "#그래프 표시\n",
    "labels = df_x['시군구'] #라벨 갯수\n",
    "\n",
    "plt.figure(figsize=(10, 7))\n",
    "\n",
    "plt.subplots_adjust(bottom=0.1)\n",
    "\n",
    "plt.scatter(df_x['청년인구'],df_x['인프라수'], label='True Position')\n",
    "\n",
    "for label, x, y in zip(labels, df_x['청년인구'], df_x['인프라수']):\n",
    "    plt.annotate(\n",
    "        label,\n",
    "        xy=(x, y), xytext=(-3, 3),\n",
    "        textcoords='offset points', ha='right', va='bottom')\n",
    "plt.show()\n"
   ]
  },
  {
   "cell_type": "code",
   "execution_count": 9,
   "id": "ef1ed917",
   "metadata": {},
   "outputs": [
    {
     "data": {
      "image/png": "[encoded data removed]",
      "text/plain": [
       "<Figure size 720x504 with 1 Axes>"
      ]
     },
     "metadata": {
      "needs_background": "light"
     },
     "output_type": "display_data"
    }
   ],
   "source": [
    "from scipy.cluster.hierarchy import dendrogram, linkage #계층적 군집분석시 필요\n",
    "from matplotlib import pyplot as plt\n",
    "\n",
    "df_Den = df_x.reindex(columns=['청년인구','인프라수'])\n",
    "\n",
    "linked = linkage(df_Den, 'single')\n",
    "\n",
    "labelList = df_x['시군구']\n",
    "\n",
    "\n",
    "import scipy.cluster.hierarchy as shc\n",
    "\n",
    "plt.figure(figsize=(10, 7))\n",
    "plt.title(\"청년인구 - 인프라수\")\n",
    "dend = shc.dendrogram(shc.linkage(df_Den, method='ward'))"
   ]
  },
  {
   "cell_type": "code",
   "execution_count": 11,
   "id": "3f6ee93b",
   "metadata": {},
   "outputs": [
    {
     "data": {
      "text/plain": [
       "<matplotlib.collections.PathCollection at 0x18689b60040>"
      ]
     },
     "execution_count": 11,
     "metadata": {},
     "output_type": "execute_result"
    },
    {
     "data": {
      "image/png": "[encoded data removed]",
      "text/plain": [
       "<Figure size 720x504 with 1 Axes>"
      ]
     },
     "metadata": {
      "needs_background": "light"
     },
     "output_type": "display_data"
    }
   ],
   "source": [
    "#군집분석 결과\n",
    "from sklearn.cluster import AgglomerativeClustering\n",
    "\n",
    "cluster = AgglomerativeClustering(n_clusters=5, affinity='euclidean', linkage='ward')\n",
    "cluster.fit_predict(df_Den)\n",
    "\n",
    "plt.figure(figsize=(10, 7))\n",
    "plt.scatter(df_Den['청년인구'], df_Den['인프라수'], c=cluster.labels_, cmap='rainbow')"
   ]
  },
  {
   "cell_type": "code",
   "execution_count": null,
   "id": "7947978a",
   "metadata": {},
   "outputs": [],
   "source": []
  }
 ],
 "metadata": {
  "kernelspec": {
   "display_name": "Python 3",
   "language": "python",
   "name": "python3"
  },
  "language_info": {
   "codemirror_mode": {
    "name": "ipython",
    "version": 3
   },
   "file_extension": ".py",
   "mimetype": "text/x-python",
   "name": "python",
   "nbconvert_exporter": "python",
   "pygments_lexer": "ipython3",
   "version": "3.8.8"
  }
 },
 "nbformat": 4,
 "nbformat_minor": 5
}
